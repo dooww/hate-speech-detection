{
 "cells": [
  {
   "cell_type": "code",
   "execution_count": 2,
   "metadata": {},
   "outputs": [],
   "source": [
    "import numpy as np \n",
    "import pandas as pd \n",
    "\n",
    "import os\n",
    "from pathlib import Path\n",
    "\n",
    "import string\n",
    "import nltk\n",
    "from nltk.corpus import stopwords\n",
    "\n",
    "import scipy.io\n",
    "import scipy.linalg\n",
    "from scipy.sparse import csr_matrix, vstack, lil_matrix \n",
    "from sklearn.base import TransformerMixin\n",
    "from sklearn.feature_extraction.text import TfidfVectorizer\n",
    "from sklearn.feature_selection import SelectFromModel\n",
    "from sklearn.pipeline import FeatureUnion\n",
    "from sklearn.pipeline import Pipeline\n",
    "from sklearn.metrics.pairwise import cosine_similarity\n",
    "from sklearn.metrics import classification_report\n",
    "from sklearn.metrics import confusion_matrix\n",
    "from sklearn.model_selection import train_test_split\n",
    "\n",
    "from sklearn.svm import LinearSVC, SVC\n",
    "from sklearn.linear_model import LogisticRegression\n",
    "from sklearn.neural_network import MLPClassifier\n",
    "\n",
    "import plotly.express as px\n",
    "import plotly.figure_factory as ff\n",
    "#from yellowbrick.text import TSNEVisualizer"
   ]
  },
  {
   "cell_type": "code",
   "execution_count": 2,
   "metadata": {},
   "outputs": [],
   "source": [
    "\n",
    "import pickle\n",
    "import sys\n",
    "#reload(sys)\n",
    "#sys.setdefaultencoding(\"utf-8\")\n",
    "\n",
    "#Loading raw data\n",
    "#df = pickle.load(open(\"data/labeled_data.p\",'rb'))\n",
    "#tweets = df.text"
   ]
  },
  {
   "cell_type": "code",
   "execution_count": 7,
   "metadata": {},
   "outputs": [],
   "source": [
    "df=pd.read_csv(\"data/labeled_data.csv\",delimiter=\",\")\n",
    "\n"
   ]
  },
  {
   "cell_type": "code",
   "execution_count": 4,
   "metadata": {},
   "outputs": [
    {
     "data": {
      "text/plain": [
       "'\"@__taradise__: Ya nigs out there still saying y\\'all don\\'t eat butt?!\" WITH A STRAIGHT FACE!'"
      ]
     },
     "execution_count": 4,
     "metadata": {},
     "output_type": "execute_result"
    }
   ],
   "source": [
    "df[\"tweet\"][296]\n"
   ]
  },
  {
   "cell_type": "code",
   "execution_count": 6,
   "metadata": {},
   "outputs": [
    {
     "data": {
      "text/html": [
       "<div>\n",
       "<style scoped>\n",
       "    .dataframe tbody tr th:only-of-type {\n",
       "        vertical-align: middle;\n",
       "    }\n",
       "\n",
       "    .dataframe tbody tr th {\n",
       "        vertical-align: top;\n",
       "    }\n",
       "\n",
       "    .dataframe thead th {\n",
       "        text-align: right;\n",
       "    }\n",
       "</style>\n",
       "<table border=\"1\" class=\"dataframe\">\n",
       "  <thead>\n",
       "    <tr style=\"text-align: right;\">\n",
       "      <th></th>\n",
       "      <th>index</th>\n",
       "      <th>post</th>\n",
       "      <th>label</th>\n",
       "    </tr>\n",
       "  </thead>\n",
       "  <tbody>\n",
       "    <tr>\n",
       "      <td>0</td>\n",
       "      <td>0</td>\n",
       "      <td>simply copy and paste the following text into ...</td>\n",
       "      <td>0</td>\n",
       "    </tr>\n",
       "    <tr>\n",
       "      <td>1</td>\n",
       "      <td>1</td>\n",
       "      <td>in order to help increase the booklets downloa...</td>\n",
       "      <td>0</td>\n",
       "    </tr>\n",
       "    <tr>\n",
       "      <td>2</td>\n",
       "      <td>2</td>\n",
       "      <td>as of march 13th 2014 the booklet had been dow...</td>\n",
       "      <td>0</td>\n",
       "    </tr>\n",
       "    <tr>\n",
       "      <td>3</td>\n",
       "      <td>3</td>\n",
       "      <td>click below for a free download of a colorfull...</td>\n",
       "      <td>1</td>\n",
       "    </tr>\n",
       "    <tr>\n",
       "      <td>4</td>\n",
       "      <td>4</td>\n",
       "      <td>click on the download 7 42 mb green banner link</td>\n",
       "      <td>0</td>\n",
       "    </tr>\n",
       "    <tr>\n",
       "      <td>...</td>\n",
       "      <td>...</td>\n",
       "      <td>...</td>\n",
       "      <td>...</td>\n",
       "    </tr>\n",
       "    <tr>\n",
       "      <td>9920</td>\n",
       "      <td>9920</td>\n",
       "      <td>billy that guy would n t leave me alone so i g...</td>\n",
       "      <td>0</td>\n",
       "    </tr>\n",
       "    <tr>\n",
       "      <td>9921</td>\n",
       "      <td>9921</td>\n",
       "      <td>wish we at least had a marine le pen to vote f...</td>\n",
       "      <td>0</td>\n",
       "    </tr>\n",
       "    <tr>\n",
       "      <td>9922</td>\n",
       "      <td>9922</td>\n",
       "      <td>its like the choices are white genocide candid...</td>\n",
       "      <td>0</td>\n",
       "    </tr>\n",
       "    <tr>\n",
       "      <td>9923</td>\n",
       "      <td>9923</td>\n",
       "      <td>why white people used to say that sex was a si...</td>\n",
       "      <td>1</td>\n",
       "    </tr>\n",
       "    <tr>\n",
       "      <td>9924</td>\n",
       "      <td>9924</td>\n",
       "      <td>now i get it</td>\n",
       "      <td>0</td>\n",
       "    </tr>\n",
       "  </tbody>\n",
       "</table>\n",
       "<p>9925 rows × 3 columns</p>\n",
       "</div>"
      ],
      "text/plain": [
       "      index                                               post  label\n",
       "0         0  simply copy and paste the following text into ...      0\n",
       "1         1  in order to help increase the booklets downloa...      0\n",
       "2         2  as of march 13th 2014 the booklet had been dow...      0\n",
       "3         3  click below for a free download of a colorfull...      1\n",
       "4         4    click on the download 7 42 mb green banner link      0\n",
       "...     ...                                                ...    ...\n",
       "9920   9920  billy that guy would n t leave me alone so i g...      0\n",
       "9921   9921  wish we at least had a marine le pen to vote f...      0\n",
       "9922   9922  its like the choices are white genocide candid...      0\n",
       "9923   9923  why white people used to say that sex was a si...      1\n",
       "9924   9924                                       now i get it      0\n",
       "\n",
       "[9925 rows x 3 columns]"
      ]
     },
     "execution_count": 6,
     "metadata": {},
     "output_type": "execute_result"
    }
   ],
   "source": [
    "df\n",
    "\n",
    "    \n",
    "    \n",
    "    \n",
    "    "
   ]
  },
  {
   "cell_type": "code",
   "execution_count": 5,
   "metadata": {},
   "outputs": [],
   "source": [
    "df=pd.read_csv(\"hate_speech.csv\",delimiter=\",\")"
   ]
  },
  {
   "cell_type": "code",
   "execution_count": 6,
   "metadata": {},
   "outputs": [
    {
     "data": {
      "text/html": [
       "<div>\n",
       "<style scoped>\n",
       "    .dataframe tbody tr th:only-of-type {\n",
       "        vertical-align: middle;\n",
       "    }\n",
       "\n",
       "    .dataframe tbody tr th {\n",
       "        vertical-align: top;\n",
       "    }\n",
       "\n",
       "    .dataframe thead th {\n",
       "        text-align: right;\n",
       "    }\n",
       "</style>\n",
       "<table border=\"1\" class=\"dataframe\">\n",
       "  <thead>\n",
       "    <tr style=\"text-align: right;\">\n",
       "      <th></th>\n",
       "      <th>index</th>\n",
       "      <th>label</th>\n",
       "    </tr>\n",
       "  </thead>\n",
       "  <tbody>\n",
       "    <tr>\n",
       "      <td>count</td>\n",
       "      <td>9925.000000</td>\n",
       "      <td>9925.000000</td>\n",
       "    </tr>\n",
       "    <tr>\n",
       "      <td>mean</td>\n",
       "      <td>4962.000000</td>\n",
       "      <td>0.116373</td>\n",
       "    </tr>\n",
       "    <tr>\n",
       "      <td>std</td>\n",
       "      <td>2865.245045</td>\n",
       "      <td>0.320688</td>\n",
       "    </tr>\n",
       "    <tr>\n",
       "      <td>min</td>\n",
       "      <td>0.000000</td>\n",
       "      <td>0.000000</td>\n",
       "    </tr>\n",
       "    <tr>\n",
       "      <td>25%</td>\n",
       "      <td>2481.000000</td>\n",
       "      <td>0.000000</td>\n",
       "    </tr>\n",
       "    <tr>\n",
       "      <td>50%</td>\n",
       "      <td>4962.000000</td>\n",
       "      <td>0.000000</td>\n",
       "    </tr>\n",
       "    <tr>\n",
       "      <td>75%</td>\n",
       "      <td>7443.000000</td>\n",
       "      <td>0.000000</td>\n",
       "    </tr>\n",
       "    <tr>\n",
       "      <td>max</td>\n",
       "      <td>9924.000000</td>\n",
       "      <td>1.000000</td>\n",
       "    </tr>\n",
       "  </tbody>\n",
       "</table>\n",
       "</div>"
      ],
      "text/plain": [
       "             index        label\n",
       "count  9925.000000  9925.000000\n",
       "mean   4962.000000     0.116373\n",
       "std    2865.245045     0.320688\n",
       "min       0.000000     0.000000\n",
       "25%    2481.000000     0.000000\n",
       "50%    4962.000000     0.000000\n",
       "75%    7443.000000     0.000000\n",
       "max    9924.000000     1.000000"
      ]
     },
     "execution_count": 6,
     "metadata": {},
     "output_type": "execute_result"
    }
   ],
   "source": [
    "df.describe()"
   ]
  },
  {
   "cell_type": "code",
   "execution_count": 10,
   "metadata": {},
   "outputs": [
    {
     "data": {
      "text/html": [
       "<div>\n",
       "<style scoped>\n",
       "    .dataframe tbody tr th:only-of-type {\n",
       "        vertical-align: middle;\n",
       "    }\n",
       "\n",
       "    .dataframe tbody tr th {\n",
       "        vertical-align: top;\n",
       "    }\n",
       "\n",
       "    .dataframe thead th {\n",
       "        text-align: right;\n",
       "    }\n",
       "</style>\n",
       "<table border=\"1\" class=\"dataframe\">\n",
       "  <thead>\n",
       "    <tr style=\"text-align: right;\">\n",
       "      <th></th>\n",
       "      <th>count</th>\n",
       "      <th>hate_speech</th>\n",
       "      <th>offensive_language</th>\n",
       "      <th>neither</th>\n",
       "      <th>class</th>\n",
       "      <th>tweet</th>\n",
       "    </tr>\n",
       "  </thead>\n",
       "  <tbody>\n",
       "    <tr>\n",
       "      <td>0</td>\n",
       "      <td>3</td>\n",
       "      <td>0</td>\n",
       "      <td>0</td>\n",
       "      <td>3</td>\n",
       "      <td>2</td>\n",
       "      <td>!!! RT @mayasolovely: As a woman you shouldn't...</td>\n",
       "    </tr>\n",
       "    <tr>\n",
       "      <td>1</td>\n",
       "      <td>3</td>\n",
       "      <td>0</td>\n",
       "      <td>3</td>\n",
       "      <td>0</td>\n",
       "      <td>1</td>\n",
       "      <td>!!!!! RT @mleew17: boy dats cold...tyga dwn ba...</td>\n",
       "    </tr>\n",
       "    <tr>\n",
       "      <td>2</td>\n",
       "      <td>3</td>\n",
       "      <td>0</td>\n",
       "      <td>3</td>\n",
       "      <td>0</td>\n",
       "      <td>1</td>\n",
       "      <td>!!!!!!! RT @UrKindOfBrand Dawg!!!! RT @80sbaby...</td>\n",
       "    </tr>\n",
       "    <tr>\n",
       "      <td>3</td>\n",
       "      <td>3</td>\n",
       "      <td>0</td>\n",
       "      <td>2</td>\n",
       "      <td>1</td>\n",
       "      <td>1</td>\n",
       "      <td>!!!!!!!!! RT @C_G_Anderson: @viva_based she lo...</td>\n",
       "    </tr>\n",
       "    <tr>\n",
       "      <td>4</td>\n",
       "      <td>6</td>\n",
       "      <td>0</td>\n",
       "      <td>6</td>\n",
       "      <td>0</td>\n",
       "      <td>1</td>\n",
       "      <td>!!!!!!!!!!!!! RT @ShenikaRoberts: The shit you...</td>\n",
       "    </tr>\n",
       "    <tr>\n",
       "      <td>...</td>\n",
       "      <td>...</td>\n",
       "      <td>...</td>\n",
       "      <td>...</td>\n",
       "      <td>...</td>\n",
       "      <td>...</td>\n",
       "      <td>...</td>\n",
       "    </tr>\n",
       "    <tr>\n",
       "      <td>24778</td>\n",
       "      <td>3</td>\n",
       "      <td>0</td>\n",
       "      <td>2</td>\n",
       "      <td>1</td>\n",
       "      <td>1</td>\n",
       "      <td>you's a muthaf***in lie &amp;#8220;@LifeAsKing: @2...</td>\n",
       "    </tr>\n",
       "    <tr>\n",
       "      <td>24779</td>\n",
       "      <td>3</td>\n",
       "      <td>0</td>\n",
       "      <td>1</td>\n",
       "      <td>2</td>\n",
       "      <td>2</td>\n",
       "      <td>you've gone and broke the wrong heart baby, an...</td>\n",
       "    </tr>\n",
       "    <tr>\n",
       "      <td>24780</td>\n",
       "      <td>3</td>\n",
       "      <td>0</td>\n",
       "      <td>3</td>\n",
       "      <td>0</td>\n",
       "      <td>1</td>\n",
       "      <td>young buck wanna eat!!.. dat nigguh like I ain...</td>\n",
       "    </tr>\n",
       "    <tr>\n",
       "      <td>24781</td>\n",
       "      <td>6</td>\n",
       "      <td>0</td>\n",
       "      <td>6</td>\n",
       "      <td>0</td>\n",
       "      <td>1</td>\n",
       "      <td>youu got wild bitches tellin you lies</td>\n",
       "    </tr>\n",
       "    <tr>\n",
       "      <td>24782</td>\n",
       "      <td>3</td>\n",
       "      <td>0</td>\n",
       "      <td>0</td>\n",
       "      <td>3</td>\n",
       "      <td>2</td>\n",
       "      <td>~~Ruffled | Ntac Eileen Dahlia - Beautiful col...</td>\n",
       "    </tr>\n",
       "  </tbody>\n",
       "</table>\n",
       "<p>24783 rows × 6 columns</p>\n",
       "</div>"
      ],
      "text/plain": [
       "       count  hate_speech  offensive_language  neither  class  \\\n",
       "0          3            0                   0        3      2   \n",
       "1          3            0                   3        0      1   \n",
       "2          3            0                   3        0      1   \n",
       "3          3            0                   2        1      1   \n",
       "4          6            0                   6        0      1   \n",
       "...      ...          ...                 ...      ...    ...   \n",
       "24778      3            0                   2        1      1   \n",
       "24779      3            0                   1        2      2   \n",
       "24780      3            0                   3        0      1   \n",
       "24781      6            0                   6        0      1   \n",
       "24782      3            0                   0        3      2   \n",
       "\n",
       "                                                   tweet  \n",
       "0      !!! RT @mayasolovely: As a woman you shouldn't...  \n",
       "1      !!!!! RT @mleew17: boy dats cold...tyga dwn ba...  \n",
       "2      !!!!!!! RT @UrKindOfBrand Dawg!!!! RT @80sbaby...  \n",
       "3      !!!!!!!!! RT @C_G_Anderson: @viva_based she lo...  \n",
       "4      !!!!!!!!!!!!! RT @ShenikaRoberts: The shit you...  \n",
       "...                                                  ...  \n",
       "24778  you's a muthaf***in lie &#8220;@LifeAsKing: @2...  \n",
       "24779  you've gone and broke the wrong heart baby, an...  \n",
       "24780  young buck wanna eat!!.. dat nigguh like I ain...  \n",
       "24781              youu got wild bitches tellin you lies  \n",
       "24782  ~~Ruffled | Ntac Eileen Dahlia - Beautiful col...  \n",
       "\n",
       "[24783 rows x 6 columns]"
      ]
     },
     "execution_count": 10,
     "metadata": {},
     "output_type": "execute_result"
    }
   ],
   "source": [
    "df\n"
   ]
  },
  {
   "cell_type": "code",
   "execution_count": 8,
   "metadata": {},
   "outputs": [],
   "source": [
    "del df['Unnamed: 0']"
   ]
  },
  {
   "cell_type": "code",
   "execution_count": 1,
   "metadata": {},
   "outputs": [
    {
     "ename": "NameError",
     "evalue": "name 'df' is not defined",
     "output_type": "error",
     "traceback": [
      "\u001b[1;31m---------------------------------------------------------------------------\u001b[0m",
      "\u001b[1;31mNameError\u001b[0m                                 Traceback (most recent call last)",
      "\u001b[1;32m<ipython-input-1-00cf07b74dcd>\u001b[0m in \u001b[0;36m<module>\u001b[1;34m\u001b[0m\n\u001b[1;32m----> 1\u001b[1;33m \u001b[0mdf\u001b[0m\u001b[1;33m\u001b[0m\u001b[1;33m\u001b[0m\u001b[0m\n\u001b[0m",
      "\u001b[1;31mNameError\u001b[0m: name 'df' is not defined"
     ]
    }
   ],
   "source": [
    "df"
   ]
  },
  {
   "cell_type": "code",
   "execution_count": 11,
   "metadata": {},
   "outputs": [
    {
     "data": {
      "text/html": [
       "<div>\n",
       "<style scoped>\n",
       "    .dataframe tbody tr th:only-of-type {\n",
       "        vertical-align: middle;\n",
       "    }\n",
       "\n",
       "    .dataframe tbody tr th {\n",
       "        vertical-align: top;\n",
       "    }\n",
       "\n",
       "    .dataframe thead th {\n",
       "        text-align: right;\n",
       "    }\n",
       "</style>\n",
       "<table border=\"1\" class=\"dataframe\">\n",
       "  <thead>\n",
       "    <tr style=\"text-align: right;\">\n",
       "      <th></th>\n",
       "      <th>count</th>\n",
       "      <th>hate_speech</th>\n",
       "      <th>offensive_language</th>\n",
       "      <th>neither</th>\n",
       "      <th>class</th>\n",
       "      <th>tweet</th>\n",
       "    </tr>\n",
       "  </thead>\n",
       "  <tbody>\n",
       "    <tr>\n",
       "      <td>0</td>\n",
       "      <td>3</td>\n",
       "      <td>0</td>\n",
       "      <td>3</td>\n",
       "      <td>0</td>\n",
       "      <td>1</td>\n",
       "      <td>My bitch bad lookin like a bag of laundry</td>\n",
       "    </tr>\n",
       "    <tr>\n",
       "      <td>1</td>\n",
       "      <td>3</td>\n",
       "      <td>0</td>\n",
       "      <td>2</td>\n",
       "      <td>1</td>\n",
       "      <td>1</td>\n",
       "      <td>We trash</td>\n",
       "    </tr>\n",
       "    <tr>\n",
       "      <td>2</td>\n",
       "      <td>3</td>\n",
       "      <td>0</td>\n",
       "      <td>3</td>\n",
       "      <td>0</td>\n",
       "      <td>1</td>\n",
       "      <td>Dating you would be like Darnell dating that f...</td>\n",
       "    </tr>\n",
       "    <tr>\n",
       "      <td>3</td>\n",
       "      <td>3</td>\n",
       "      <td>0</td>\n",
       "      <td>2</td>\n",
       "      <td>1</td>\n",
       "      <td>1</td>\n",
       "      <td>&amp;#8220;@ForeverrrJadaaa: huge nips scary me&amp;#8...</td>\n",
       "    </tr>\n",
       "    <tr>\n",
       "      <td>4</td>\n",
       "      <td>3</td>\n",
       "      <td>0</td>\n",
       "      <td>3</td>\n",
       "      <td>0</td>\n",
       "      <td>1</td>\n",
       "      <td>RT @JuveUnited: Messi REFUSED to be subbed off...</td>\n",
       "    </tr>\n",
       "    <tr>\n",
       "      <td>...</td>\n",
       "      <td>...</td>\n",
       "      <td>...</td>\n",
       "      <td>...</td>\n",
       "      <td>...</td>\n",
       "      <td>...</td>\n",
       "      <td>...</td>\n",
       "    </tr>\n",
       "    <tr>\n",
       "      <td>24778</td>\n",
       "      <td>3</td>\n",
       "      <td>0</td>\n",
       "      <td>0</td>\n",
       "      <td>3</td>\n",
       "      <td>2</td>\n",
       "      <td>FF has been consistently one of Marvel's worst...</td>\n",
       "    </tr>\n",
       "    <tr>\n",
       "      <td>24779</td>\n",
       "      <td>3</td>\n",
       "      <td>0</td>\n",
       "      <td>3</td>\n",
       "      <td>0</td>\n",
       "      <td>1</td>\n",
       "      <td>Don't be a pussy.</td>\n",
       "    </tr>\n",
       "    <tr>\n",
       "      <td>24780</td>\n",
       "      <td>3</td>\n",
       "      <td>1</td>\n",
       "      <td>2</td>\n",
       "      <td>0</td>\n",
       "      <td>1</td>\n",
       "      <td>@noPOPULARity_ lmaoo one nigga had that 2nd pi...</td>\n",
       "    </tr>\n",
       "    <tr>\n",
       "      <td>24781</td>\n",
       "      <td>3</td>\n",
       "      <td>0</td>\n",
       "      <td>0</td>\n",
       "      <td>3</td>\n",
       "      <td>2</td>\n",
       "      <td>@AutyAut_ I miss you!!! *Eating as we speak* I...</td>\n",
       "    </tr>\n",
       "    <tr>\n",
       "      <td>24782</td>\n",
       "      <td>3</td>\n",
       "      <td>1</td>\n",
       "      <td>2</td>\n",
       "      <td>0</td>\n",
       "      <td>1</td>\n",
       "      <td>RT @OPP_YouKnowMe: Tell these hoes that they g...</td>\n",
       "    </tr>\n",
       "  </tbody>\n",
       "</table>\n",
       "<p>24783 rows × 6 columns</p>\n",
       "</div>"
      ],
      "text/plain": [
       "       count  hate_speech  offensive_language  neither  class  \\\n",
       "0          3            0                   3        0      1   \n",
       "1          3            0                   2        1      1   \n",
       "2          3            0                   3        0      1   \n",
       "3          3            0                   2        1      1   \n",
       "4          3            0                   3        0      1   \n",
       "...      ...          ...                 ...      ...    ...   \n",
       "24778      3            0                   0        3      2   \n",
       "24779      3            0                   3        0      1   \n",
       "24780      3            1                   2        0      1   \n",
       "24781      3            0                   0        3      2   \n",
       "24782      3            1                   2        0      1   \n",
       "\n",
       "                                                   tweet  \n",
       "0              My bitch bad lookin like a bag of laundry  \n",
       "1                                               We trash  \n",
       "2      Dating you would be like Darnell dating that f...  \n",
       "3      &#8220;@ForeverrrJadaaa: huge nips scary me&#8...  \n",
       "4      RT @JuveUnited: Messi REFUSED to be subbed off...  \n",
       "...                                                  ...  \n",
       "24778  FF has been consistently one of Marvel's worst...  \n",
       "24779                                  Don't be a pussy.  \n",
       "24780  @noPOPULARity_ lmaoo one nigga had that 2nd pi...  \n",
       "24781  @AutyAut_ I miss you!!! *Eating as we speak* I...  \n",
       "24782  RT @OPP_YouKnowMe: Tell these hoes that they g...  \n",
       "\n",
       "[24783 rows x 6 columns]"
      ]
     },
     "execution_count": 11,
     "metadata": {},
     "output_type": "execute_result"
    }
   ],
   "source": [
    "df.sample(frac=1).reset_index(drop=True)\n"
   ]
  },
  {
   "cell_type": "code",
   "execution_count": 24,
   "metadata": {},
   "outputs": [
    {
     "data": {
      "text/html": [
       "<div>\n",
       "<style scoped>\n",
       "    .dataframe tbody tr th:only-of-type {\n",
       "        vertical-align: middle;\n",
       "    }\n",
       "\n",
       "    .dataframe tbody tr th {\n",
       "        vertical-align: top;\n",
       "    }\n",
       "\n",
       "    .dataframe thead th {\n",
       "        text-align: right;\n",
       "    }\n",
       "</style>\n",
       "<table border=\"1\" class=\"dataframe\">\n",
       "  <thead>\n",
       "    <tr style=\"text-align: right;\">\n",
       "      <th></th>\n",
       "      <th>post</th>\n",
       "      <th>label</th>\n",
       "    </tr>\n",
       "  </thead>\n",
       "  <tbody>\n",
       "    <tr>\n",
       "      <td>0</td>\n",
       "      <td>simply copy and paste the following text into ...</td>\n",
       "      <td>0</td>\n",
       "    </tr>\n",
       "    <tr>\n",
       "      <td>1</td>\n",
       "      <td>in order to help increase the booklets downloa...</td>\n",
       "      <td>0</td>\n",
       "    </tr>\n",
       "    <tr>\n",
       "      <td>2</td>\n",
       "      <td>as of march 13th 2014 the booklet had been dow...</td>\n",
       "      <td>0</td>\n",
       "    </tr>\n",
       "    <tr>\n",
       "      <td>3</td>\n",
       "      <td>click below for a free download of a colorfull...</td>\n",
       "      <td>1</td>\n",
       "    </tr>\n",
       "    <tr>\n",
       "      <td>4</td>\n",
       "      <td>click on the download 7 42 mb green banner link</td>\n",
       "      <td>0</td>\n",
       "    </tr>\n",
       "    <tr>\n",
       "      <td>...</td>\n",
       "      <td>...</td>\n",
       "      <td>...</td>\n",
       "    </tr>\n",
       "    <tr>\n",
       "      <td>9920</td>\n",
       "      <td>billy that guy would n t leave me alone so i g...</td>\n",
       "      <td>0</td>\n",
       "    </tr>\n",
       "    <tr>\n",
       "      <td>9921</td>\n",
       "      <td>wish we at least had a marine le pen to vote f...</td>\n",
       "      <td>0</td>\n",
       "    </tr>\n",
       "    <tr>\n",
       "      <td>9922</td>\n",
       "      <td>its like the choices are white genocide candid...</td>\n",
       "      <td>0</td>\n",
       "    </tr>\n",
       "    <tr>\n",
       "      <td>9923</td>\n",
       "      <td>why white people used to say that sex was a si...</td>\n",
       "      <td>1</td>\n",
       "    </tr>\n",
       "    <tr>\n",
       "      <td>9924</td>\n",
       "      <td>now i get it</td>\n",
       "      <td>0</td>\n",
       "    </tr>\n",
       "  </tbody>\n",
       "</table>\n",
       "<p>9925 rows × 2 columns</p>\n",
       "</div>"
      ],
      "text/plain": [
       "                                                   post  label\n",
       "0     simply copy and paste the following text into ...      0\n",
       "1     in order to help increase the booklets downloa...      0\n",
       "2     as of march 13th 2014 the booklet had been dow...      0\n",
       "3     click below for a free download of a colorfull...      1\n",
       "4       click on the download 7 42 mb green banner link      0\n",
       "...                                                 ...    ...\n",
       "9920  billy that guy would n t leave me alone so i g...      0\n",
       "9921  wish we at least had a marine le pen to vote f...      0\n",
       "9922  its like the choices are white genocide candid...      0\n",
       "9923  why white people used to say that sex was a si...      1\n",
       "9924                                       now i get it      0\n",
       "\n",
       "[9925 rows x 2 columns]"
      ]
     },
     "execution_count": 24,
     "metadata": {},
     "output_type": "execute_result"
    }
   ],
   "source": [
    "df\n"
   ]
  },
  {
   "cell_type": "code",
   "execution_count": 29,
   "metadata": {},
   "outputs": [],
   "source": [
    "import numpy as np\n",
    "import pandas as pd\n",
    "import matplotlib.pyplot as plt\n",
    "\n",
    "from sklearn.feature_extraction.text import CountVectorizer,TfidfTransformer\n",
    "from sklearn.model_selection import train_test_split\n",
    "from sklearn.model_selection import cross_val_score\n",
    "from sklearn.pipeline import Pipeline\n",
    "from sklearn.metrics import precision_score, recall_score, f1_score\n",
    "from sklearn.metrics import confusion_matrix\n",
    "from sklearn.svm import LinearSVC\n",
    "import os\n"
   ]
  },
  {
   "cell_type": "code",
   "execution_count": 30,
   "metadata": {},
   "outputs": [
    {
     "name": "stderr",
     "output_type": "stream",
     "text": [
      "C:\\Users\\hedi\\.conda\\envs\\factory619\\lib\\site-packages\\sklearn\\svm\\base.py:929: ConvergenceWarning:\n",
      "\n",
      "Liblinear failed to converge, increase the number of iterations.\n",
      "\n"
     ]
    },
    {
     "name": "stdout",
     "output_type": "stream",
     "text": [
      "1961\n",
      "Test Accuracy: 0.869\n"
     ]
    },
    {
     "ename": "TypeError",
     "evalue": "only size-1 arrays can be converted to Python scalars",
     "output_type": "error",
     "traceback": [
      "\u001b[1;31m---------------------------------------------------------------------------\u001b[0m",
      "\u001b[1;31mTypeError\u001b[0m                                 Traceback (most recent call last)",
      "\u001b[1;32m<ipython-input-30-2ee6230922bb>\u001b[0m in \u001b[0;36m<module>\u001b[1;34m\u001b[0m\n\u001b[0;32m     14\u001b[0m \u001b[0mprint\u001b[0m\u001b[1;33m(\u001b[0m\u001b[1;34m'Test Accuracy: %.3f'\u001b[0m \u001b[1;33m%\u001b[0m \u001b[0mpipe_lr\u001b[0m\u001b[1;33m.\u001b[0m\u001b[0mscore\u001b[0m\u001b[1;33m(\u001b[0m\u001b[0mtext_test\u001b[0m\u001b[1;33m,\u001b[0m\u001b[0my_test\u001b[0m\u001b[1;33m)\u001b[0m\u001b[1;33m)\u001b[0m\u001b[1;33m\u001b[0m\u001b[1;33m\u001b[0m\u001b[0m\n\u001b[0;32m     15\u001b[0m \u001b[0my_pred\u001b[0m \u001b[1;33m=\u001b[0m \u001b[0mpipe_lr\u001b[0m\u001b[1;33m.\u001b[0m\u001b[0mpredict\u001b[0m\u001b[1;33m(\u001b[0m\u001b[0mtext_test\u001b[0m\u001b[1;33m)\u001b[0m\u001b[1;33m\u001b[0m\u001b[1;33m\u001b[0m\u001b[0m\n\u001b[1;32m---> 16\u001b[1;33m \u001b[0mprint\u001b[0m\u001b[1;33m(\u001b[0m\u001b[1;34m'Precision: %.3f'\u001b[0m \u001b[1;33m%\u001b[0m \u001b[0mprecision_score\u001b[0m\u001b[1;33m(\u001b[0m\u001b[0my_true\u001b[0m\u001b[1;33m=\u001b[0m\u001b[0my_test\u001b[0m\u001b[1;33m,\u001b[0m \u001b[0my_pred\u001b[0m\u001b[1;33m=\u001b[0m\u001b[0my_pred\u001b[0m \u001b[1;33m,\u001b[0m\u001b[0maverage\u001b[0m\u001b[1;33m=\u001b[0m\u001b[1;32mNone\u001b[0m\u001b[1;33m)\u001b[0m\u001b[1;33m)\u001b[0m\u001b[1;33m\u001b[0m\u001b[1;33m\u001b[0m\u001b[0m\n\u001b[0m\u001b[0;32m     17\u001b[0m \u001b[0mprint\u001b[0m\u001b[1;33m(\u001b[0m\u001b[1;34m'Recall: %.3f'\u001b[0m \u001b[1;33m%\u001b[0m \u001b[0mrecall_score\u001b[0m\u001b[1;33m(\u001b[0m\u001b[0my_true\u001b[0m\u001b[1;33m=\u001b[0m\u001b[0my_test\u001b[0m\u001b[1;33m,\u001b[0m \u001b[0my_pred\u001b[0m\u001b[1;33m=\u001b[0m\u001b[0my_pred\u001b[0m \u001b[1;33m,\u001b[0m\u001b[0maverage\u001b[0m\u001b[1;33m=\u001b[0m\u001b[1;32mNone\u001b[0m\u001b[1;33m)\u001b[0m\u001b[1;33m)\u001b[0m\u001b[1;33m\u001b[0m\u001b[1;33m\u001b[0m\u001b[0m\n\u001b[0;32m     18\u001b[0m \u001b[0mprint\u001b[0m\u001b[1;33m(\u001b[0m\u001b[1;34m'F1: %.3f'\u001b[0m \u001b[1;33m%\u001b[0m \u001b[0mf1_score\u001b[0m\u001b[1;33m(\u001b[0m\u001b[0my_true\u001b[0m\u001b[1;33m=\u001b[0m\u001b[0my_test\u001b[0m\u001b[1;33m,\u001b[0m \u001b[0my_pred\u001b[0m\u001b[1;33m=\u001b[0m\u001b[0my_pred\u001b[0m\u001b[1;33m,\u001b[0m\u001b[0maverage\u001b[0m\u001b[1;33m=\u001b[0m\u001b[1;32mNone\u001b[0m\u001b[1;33m)\u001b[0m\u001b[1;33m)\u001b[0m\u001b[1;33m\u001b[0m\u001b[1;33m\u001b[0m\u001b[0m\n",
      "\u001b[1;31mTypeError\u001b[0m: only size-1 arrays can be converted to Python scalars"
     ]
    }
   ],
   "source": [
    "\n",
    "text_train, text_test, y_train, y_test = train_test_split(df[\"tweet\"], df[\"class\"], \n",
    "    test_size=0.2)\n",
    "vect = CountVectorizer(ngram_range=(1, 2),stop_words=None,lowercase=True,max_df=0.8, min_df=20)\n",
    "tfidf = TfidfTransformer()\n",
    "clf = LinearSVC(C=100.0)\n",
    "pipe_lr = Pipeline([\n",
    "    ('vect',vect),\n",
    "    ('tfidf',tfidf),\n",
    "    ('clf',clf)\n",
    "    ])\n",
    "pipe_lr.fit(text_train, y_train)\n",
    "print(len(vect.vocabulary_))\n",
    "\n",
    "print('Test Accuracy: %.3f' % pipe_lr.score(text_test,y_test))\n",
    "y_pred = pipe_lr.predict(text_test)\n",
    "print('Precision: %.3f' % precision_score(y_true=y_test, y_pred=y_pred ,average=None))\n",
    "print('Recall: %.3f' % recall_score(y_true=y_test, y_pred=y_pred ,average=None))\n",
    "print('F1: %.3f' % f1_score(y_true=y_test, y_pred=y_pred,average=None))\n",
    "\n",
    "confmat = confusion_matrix(y_true=y_test, y_pred=y_pred)\n",
    "print(confmat)\n",
    "\n",
    "fig, ax = plt.subplots(figsize=(2.5, 2.5))\n",
    "ax.matshow(confmat, cmap='Greys', alpha=0.5)\n",
    "for i in range(confmat.shape[0]):\n",
    "    for j in range(confmat.shape[1]):\n",
    "        ax.text(x=j, y=i, s=confmat[i, j], va='center', ha='center')\n",
    "\n",
    "plt.xlabel('predicted label')\n",
    "plt.ylabel('true label')\n",
    "\n",
    "plt.tight_layout()\n",
    "plt.savefig('./confusion_matrix.png', dpi=300)\n",
    "plt.show()"
   ]
  },
  {
   "cell_type": "code",
   "execution_count": 3,
   "metadata": {},
   "outputs": [],
   "source": [
    "def get_data():\n",
    "    data_path = \"data/labeled_data.csv\"\n",
    "    df = pd.read_csv(data_path, index_col=0) \n",
    "    df = df.sample(frac=1).reset_index(drop=True)  \n",
    "    return df "
   ]
  },
  {
   "cell_type": "code",
   "execution_count": 4,
   "metadata": {},
   "outputs": [],
   "source": [
    "df=get_data()\n"
   ]
  },
  {
   "cell_type": "code",
   "execution_count": 5,
   "metadata": {},
   "outputs": [
    {
     "data": {
      "text/html": [
       "<div>\n",
       "<style scoped>\n",
       "    .dataframe tbody tr th:only-of-type {\n",
       "        vertical-align: middle;\n",
       "    }\n",
       "\n",
       "    .dataframe tbody tr th {\n",
       "        vertical-align: top;\n",
       "    }\n",
       "\n",
       "    .dataframe thead th {\n",
       "        text-align: right;\n",
       "    }\n",
       "</style>\n",
       "<table border=\"1\" class=\"dataframe\">\n",
       "  <thead>\n",
       "    <tr style=\"text-align: right;\">\n",
       "      <th></th>\n",
       "      <th>count</th>\n",
       "      <th>hate_speech</th>\n",
       "      <th>offensive_language</th>\n",
       "      <th>neither</th>\n",
       "      <th>class</th>\n",
       "      <th>tweet</th>\n",
       "    </tr>\n",
       "  </thead>\n",
       "  <tbody>\n",
       "    <tr>\n",
       "      <td>0</td>\n",
       "      <td>3</td>\n",
       "      <td>0</td>\n",
       "      <td>2</td>\n",
       "      <td>1</td>\n",
       "      <td>1</td>\n",
       "      <td>He a hoe fa that RT @AC_Hussle: Incredible vag...</td>\n",
       "    </tr>\n",
       "    <tr>\n",
       "      <td>1</td>\n",
       "      <td>3</td>\n",
       "      <td>0</td>\n",
       "      <td>2</td>\n",
       "      <td>1</td>\n",
       "      <td>1</td>\n",
       "      <td>RT @dnumberbefore_2: I want to take the time t...</td>\n",
       "    </tr>\n",
       "    <tr>\n",
       "      <td>2</td>\n",
       "      <td>3</td>\n",
       "      <td>0</td>\n",
       "      <td>3</td>\n",
       "      <td>0</td>\n",
       "      <td>1</td>\n",
       "      <td>Lol @ me next time bitch</td>\n",
       "    </tr>\n",
       "    <tr>\n",
       "      <td>3</td>\n",
       "      <td>3</td>\n",
       "      <td>0</td>\n",
       "      <td>3</td>\n",
       "      <td>0</td>\n",
       "      <td>1</td>\n",
       "      <td>RT @yungtfti: If a bitch says \"eeeeeee\" she a hoe</td>\n",
       "    </tr>\n",
       "    <tr>\n",
       "      <td>4</td>\n",
       "      <td>3</td>\n",
       "      <td>0</td>\n",
       "      <td>1</td>\n",
       "      <td>2</td>\n",
       "      <td>2</td>\n",
       "      <td>You wanna find hoes on here? Just follow the c...</td>\n",
       "    </tr>\n",
       "    <tr>\n",
       "      <td>...</td>\n",
       "      <td>...</td>\n",
       "      <td>...</td>\n",
       "      <td>...</td>\n",
       "      <td>...</td>\n",
       "      <td>...</td>\n",
       "      <td>...</td>\n",
       "    </tr>\n",
       "    <tr>\n",
       "      <td>24778</td>\n",
       "      <td>3</td>\n",
       "      <td>0</td>\n",
       "      <td>3</td>\n",
       "      <td>0</td>\n",
       "      <td>1</td>\n",
       "      <td>I was at a red light on decatur &amp;amp; lake mea...</td>\n",
       "    </tr>\n",
       "    <tr>\n",
       "      <td>24779</td>\n",
       "      <td>3</td>\n",
       "      <td>0</td>\n",
       "      <td>3</td>\n",
       "      <td>0</td>\n",
       "      <td>1</td>\n",
       "      <td>@monetkittrell all this spaceship shit is reta...</td>\n",
       "    </tr>\n",
       "    <tr>\n",
       "      <td>24780</td>\n",
       "      <td>3</td>\n",
       "      <td>0</td>\n",
       "      <td>3</td>\n",
       "      <td>0</td>\n",
       "      <td>1</td>\n",
       "      <td>\"@AutoWorId: Hennessey Venom GT &amp;#128584; http...</td>\n",
       "    </tr>\n",
       "    <tr>\n",
       "      <td>24781</td>\n",
       "      <td>3</td>\n",
       "      <td>0</td>\n",
       "      <td>3</td>\n",
       "      <td>0</td>\n",
       "      <td>1</td>\n",
       "      <td>@jshcalderon lmfaoooo I'm tryna see how many h...</td>\n",
       "    </tr>\n",
       "    <tr>\n",
       "      <td>24782</td>\n",
       "      <td>3</td>\n",
       "      <td>0</td>\n",
       "      <td>3</td>\n",
       "      <td>0</td>\n",
       "      <td>1</td>\n",
       "      <td>@CallNeeshCakey I can't bitch</td>\n",
       "    </tr>\n",
       "  </tbody>\n",
       "</table>\n",
       "<p>24783 rows × 6 columns</p>\n",
       "</div>"
      ],
      "text/plain": [
       "       count  hate_speech  offensive_language  neither  class  \\\n",
       "0          3            0                   2        1      1   \n",
       "1          3            0                   2        1      1   \n",
       "2          3            0                   3        0      1   \n",
       "3          3            0                   3        0      1   \n",
       "4          3            0                   1        2      2   \n",
       "...      ...          ...                 ...      ...    ...   \n",
       "24778      3            0                   3        0      1   \n",
       "24779      3            0                   3        0      1   \n",
       "24780      3            0                   3        0      1   \n",
       "24781      3            0                   3        0      1   \n",
       "24782      3            0                   3        0      1   \n",
       "\n",
       "                                                   tweet  \n",
       "0      He a hoe fa that RT @AC_Hussle: Incredible vag...  \n",
       "1      RT @dnumberbefore_2: I want to take the time t...  \n",
       "2                               Lol @ me next time bitch  \n",
       "3      RT @yungtfti: If a bitch says \"eeeeeee\" she a hoe  \n",
       "4      You wanna find hoes on here? Just follow the c...  \n",
       "...                                                  ...  \n",
       "24778  I was at a red light on decatur &amp; lake mea...  \n",
       "24779  @monetkittrell all this spaceship shit is reta...  \n",
       "24780  \"@AutoWorId: Hennessey Venom GT &#128584; http...  \n",
       "24781  @jshcalderon lmfaoooo I'm tryna see how many h...  \n",
       "24782                      @CallNeeshCakey I can't bitch  \n",
       "\n",
       "[24783 rows x 6 columns]"
      ]
     },
     "execution_count": 5,
     "metadata": {},
     "output_type": "execute_result"
    }
   ],
   "source": [
    "df"
   ]
  },
  {
   "cell_type": "code",
   "execution_count": 15,
   "metadata": {},
   "outputs": [],
   "source": [
    "def clean_tweet(sent):\n",
    "    stemmer = nltk.PorterStemmer()        \n",
    "    tknzr = nltk.RegexpTokenizer(r'[a-zA-Z0-9]+')\n",
    "\n",
    "    exclp = list(string.punctuation)     \n",
    "    exclc = [\n",
    "        \"'re\", \"n't\", \"'m\", \"'s\", \"n't\", \"'s\", \n",
    "        \"``\", \"''\", \"'ve\", \"'m\", \"'ll\", \"'ve\", \n",
    "        \"...\", \"http\", \"https\"]    \n",
    "    sw = set(stopwords.words(\"english\") + exclp + exclc)    \n",
    "\n",
    "    tokens = tknzr.tokenize(sent.lower())\n",
    "    words = [stemmer.stem(token) for token in tokens if not token in sw]\n",
    "    return \" \".join(words)"
   ]
  },
  {
   "cell_type": "code",
   "execution_count": 16,
   "metadata": {},
   "outputs": [],
   "source": [
    "def clean_tweet_column(df):\n",
    "    df[\"tweet\"] = df[\"tweet\"].apply(lambda t: clean_tweet(t))\n",
    "    return df"
   ]
  },
  {
   "cell_type": "code",
   "execution_count": 95,
   "metadata": {},
   "outputs": [],
   "source": [
    "# df=clean_tweet_column(df) \n"
   ]
  },
  {
   "cell_type": "code",
   "execution_count": 93,
   "metadata": {},
   "outputs": [
    {
     "data": {
      "text/plain": [
       "numpy.ndarray"
      ]
     },
     "execution_count": 93,
     "metadata": {},
     "output_type": "execute_result"
    }
   ],
   "source": []
  },
  {
   "cell_type": "code",
   "execution_count": 106,
   "metadata": {},
   "outputs": [],
   "source": [
    "#prosessing data \n",
    "from sklearn.feature_extraction.text import TfidfVectorizer\n",
    "import nltk\n",
    "from nltk.stem.porter import *\n",
    "import string\n",
    "import re\n",
    "\n",
    "stopwords=stopwords = nltk.corpus.stopwords.words(\"english\")\n",
    "\n",
    "other_exclusions = [\"#ff\", \"ff\", \"rt\"]\n",
    "stopwords.extend(other_exclusions)\n",
    "\n",
    "stemmer = PorterStemmer()\n",
    "\n",
    "\n",
    "def preprocess(text_string):\n",
    "    \"\"\"\n",
    "    Accepts a text string and replaces:\n",
    "    1) urls with URLHERE\n",
    "    2) lots of whitespace with one instance\n",
    "    3) mentions with MENTIONHERE\n",
    "\n",
    "    This allows us to get standardized counts of urls and mentions\n",
    "    Without caring about specific people mentioned\n",
    "    \"\"\"\n",
    "    space_pattern = '\\s+'\n",
    "    giant_url_regex = ('http[s]?://(?:[a-zA-Z]|[0-9]|[$-_@.&+]|'\n",
    "        '[!*\\(\\),]|(?:%[0-9a-fA-F][0-9a-fA-F]))+')\n",
    "    mention_regex = '@[\\w\\-]+'\n",
    "    others_regex = 'ð[\\w\\-]+'\n",
    "    hashtag_regex = '#[\\w\\-]+'\n",
    "    \n",
    "    \n",
    "#     regrex='RT :+'\n",
    "#     text_string = re.sub(regrex, '', text_string)\n",
    "    \n",
    "    parsed_text = re.sub(space_pattern, ' ', text_string)\n",
    "    parsed_text = re.sub(giant_url_regex, '', parsed_text)\n",
    "    parsed_text = re.sub(mention_regex, '', parsed_text)\n",
    "    parsed_text = re.sub(hashtag_regex, '', parsed_text)\n",
    "    parsed_text = re.sub(others_regex, '', parsed_text)\n",
    "\n",
    "    parsed_text = re.sub('RT', '', parsed_text,1)\n",
    "#     parsed_text=parsed_text.translate(str.maketrans('', '', string.punctuation))\n",
    "    \n",
    "    #parsed_text = parsed_text.code(\"utf-8\", errors='ignore')\n",
    "    return parsed_text\n",
    "\n",
    "def tokenize(tweet):\n",
    "    \"\"\"Removes punctuation & excess whitespace, sets to lowercase,\n",
    "    and stems tweets. Returns a list of stemmed tokens.\"\"\"\n",
    "    tweet = \" \".join(re.split(\"[^a-zA-Z]*\", tweet.lower())).strip()\n",
    "    #tokens = re.split(\"[^a-zA-Z]*\", tweet.lower())\n",
    "    tokens = [stemmer.stem(t) for t in tweet.split()]\n",
    "    return tokens\n",
    "\n",
    "def basic_tokenize(tweet):\n",
    "    \"\"\"Same as tokenize but without the stemming\"\"\"\n",
    "    tweet = \" \".join(re.split(\"[^a-zA-Z.,!?]*\", tweet.lower())).strip()\n",
    "    return tweet.split()\n",
    "\n",
    "vectorizer = TfidfVectorizer(\n",
    "    #vectorizer = sklearn.feature_extraction.text.CountVectorizer(\n",
    "    tokenizer=tokenize,\n",
    "    preprocessor=preprocess,\n",
    "    ngram_range=(1, 3),\n",
    "    stop_words=stopwords, #We do better when we keep stopwords\n",
    "    use_idf=True,\n",
    "    smooth_idf=False,\n",
    "    norm=None, #Applies l2 norm smoothing\n",
    "    decode_error='replace',\n",
    "    max_features=10000,\n",
    "    min_df=5,\n",
    "    max_df=0.501\n",
    "    )\n",
    "\n",
    "def Punctuation(string): \n",
    "  \n",
    "    # punctuation marks \n",
    "    punctuations = '''±ð!()â¤-[]{};:'\"\\,ï¸<>./?@#$%^&*_~1234567890'''\n",
    "  \n",
    "    # traverse the given string and if any punctuation \n",
    "    # marks occur replace it with null \n",
    "    for x in string.lower(): \n",
    "        if x in punctuations: \n",
    "            string = string.replace(x, \"\") \n",
    "  \n",
    "    # Print string without punctuation \n",
    "    return(string) \n",
    "  \n",
    "\n"
   ]
  },
  {
   "cell_type": "code",
   "execution_count": 17,
   "metadata": {},
   "outputs": [
    {
     "data": {
      "text/html": [
       "<div>\n",
       "<style scoped>\n",
       "    .dataframe tbody tr th:only-of-type {\n",
       "        vertical-align: middle;\n",
       "    }\n",
       "\n",
       "    .dataframe tbody tr th {\n",
       "        vertical-align: top;\n",
       "    }\n",
       "\n",
       "    .dataframe thead th {\n",
       "        text-align: right;\n",
       "    }\n",
       "</style>\n",
       "<table border=\"1\" class=\"dataframe\">\n",
       "  <thead>\n",
       "    <tr style=\"text-align: right;\">\n",
       "      <th></th>\n",
       "      <th>count</th>\n",
       "      <th>hate_speech</th>\n",
       "      <th>offensive_language</th>\n",
       "      <th>neither</th>\n",
       "      <th>class</th>\n",
       "      <th>tweet</th>\n",
       "    </tr>\n",
       "  </thead>\n",
       "  <tbody>\n",
       "    <tr>\n",
       "      <td>0</td>\n",
       "      <td>3</td>\n",
       "      <td>0</td>\n",
       "      <td>0</td>\n",
       "      <td>3</td>\n",
       "      <td>2</td>\n",
       "      <td>!!! RT @mayasolovely: As a woman you shouldn't...</td>\n",
       "    </tr>\n",
       "    <tr>\n",
       "      <td>1</td>\n",
       "      <td>3</td>\n",
       "      <td>0</td>\n",
       "      <td>3</td>\n",
       "      <td>0</td>\n",
       "      <td>1</td>\n",
       "      <td>!!!!! RT @mleew17: boy dats cold...tyga dwn ba...</td>\n",
       "    </tr>\n",
       "    <tr>\n",
       "      <td>2</td>\n",
       "      <td>3</td>\n",
       "      <td>0</td>\n",
       "      <td>3</td>\n",
       "      <td>0</td>\n",
       "      <td>1</td>\n",
       "      <td>!!!!!!! RT @UrKindOfBrand Dawg!!!! RT @80sbaby...</td>\n",
       "    </tr>\n",
       "    <tr>\n",
       "      <td>3</td>\n",
       "      <td>3</td>\n",
       "      <td>0</td>\n",
       "      <td>2</td>\n",
       "      <td>1</td>\n",
       "      <td>1</td>\n",
       "      <td>!!!!!!!!! RT @C_G_Anderson: @viva_based she lo...</td>\n",
       "    </tr>\n",
       "    <tr>\n",
       "      <td>4</td>\n",
       "      <td>6</td>\n",
       "      <td>0</td>\n",
       "      <td>6</td>\n",
       "      <td>0</td>\n",
       "      <td>1</td>\n",
       "      <td>!!!!!!!!!!!!! RT @ShenikaRoberts: The shit you...</td>\n",
       "    </tr>\n",
       "    <tr>\n",
       "      <td>...</td>\n",
       "      <td>...</td>\n",
       "      <td>...</td>\n",
       "      <td>...</td>\n",
       "      <td>...</td>\n",
       "      <td>...</td>\n",
       "      <td>...</td>\n",
       "    </tr>\n",
       "    <tr>\n",
       "      <td>24778</td>\n",
       "      <td>3</td>\n",
       "      <td>0</td>\n",
       "      <td>2</td>\n",
       "      <td>1</td>\n",
       "      <td>1</td>\n",
       "      <td>you's a muthaf***in lie &amp;#8220;@LifeAsKing: @2...</td>\n",
       "    </tr>\n",
       "    <tr>\n",
       "      <td>24779</td>\n",
       "      <td>3</td>\n",
       "      <td>0</td>\n",
       "      <td>1</td>\n",
       "      <td>2</td>\n",
       "      <td>2</td>\n",
       "      <td>you've gone and broke the wrong heart baby, an...</td>\n",
       "    </tr>\n",
       "    <tr>\n",
       "      <td>24780</td>\n",
       "      <td>3</td>\n",
       "      <td>0</td>\n",
       "      <td>3</td>\n",
       "      <td>0</td>\n",
       "      <td>1</td>\n",
       "      <td>young buck wanna eat!!.. dat nigguh like I ain...</td>\n",
       "    </tr>\n",
       "    <tr>\n",
       "      <td>24781</td>\n",
       "      <td>6</td>\n",
       "      <td>0</td>\n",
       "      <td>6</td>\n",
       "      <td>0</td>\n",
       "      <td>1</td>\n",
       "      <td>youu got wild bitches tellin you lies</td>\n",
       "    </tr>\n",
       "    <tr>\n",
       "      <td>24782</td>\n",
       "      <td>3</td>\n",
       "      <td>0</td>\n",
       "      <td>0</td>\n",
       "      <td>3</td>\n",
       "      <td>2</td>\n",
       "      <td>~~Ruffled | Ntac Eileen Dahlia - Beautiful col...</td>\n",
       "    </tr>\n",
       "  </tbody>\n",
       "</table>\n",
       "<p>24783 rows × 6 columns</p>\n",
       "</div>"
      ],
      "text/plain": [
       "       count  hate_speech  offensive_language  neither  class  \\\n",
       "0          3            0                   0        3      2   \n",
       "1          3            0                   3        0      1   \n",
       "2          3            0                   3        0      1   \n",
       "3          3            0                   2        1      1   \n",
       "4          6            0                   6        0      1   \n",
       "...      ...          ...                 ...      ...    ...   \n",
       "24778      3            0                   2        1      1   \n",
       "24779      3            0                   1        2      2   \n",
       "24780      3            0                   3        0      1   \n",
       "24781      6            0                   6        0      1   \n",
       "24782      3            0                   0        3      2   \n",
       "\n",
       "                                                   tweet  \n",
       "0      !!! RT @mayasolovely: As a woman you shouldn't...  \n",
       "1      !!!!! RT @mleew17: boy dats cold...tyga dwn ba...  \n",
       "2      !!!!!!! RT @UrKindOfBrand Dawg!!!! RT @80sbaby...  \n",
       "3      !!!!!!!!! RT @C_G_Anderson: @viva_based she lo...  \n",
       "4      !!!!!!!!!!!!! RT @ShenikaRoberts: The shit you...  \n",
       "...                                                  ...  \n",
       "24778  you's a muthaf***in lie &#8220;@LifeAsKing: @2...  \n",
       "24779  you've gone and broke the wrong heart baby, an...  \n",
       "24780  young buck wanna eat!!.. dat nigguh like I ain...  \n",
       "24781              youu got wild bitches tellin you lies  \n",
       "24782  ~~Ruffled | Ntac Eileen Dahlia - Beautiful col...  \n",
       "\n",
       "[24783 rows x 6 columns]"
      ]
     },
     "execution_count": 17,
     "metadata": {},
     "output_type": "execute_result"
    }
   ],
   "source": [
    "df"
   ]
  },
  {
   "cell_type": "code",
   "execution_count": 7,
   "metadata": {},
   "outputs": [],
   "source": [
    "df.tweet=df.tweet.apply(lambda x:preprocess(x))\n",
    "\n",
    "df.tweet=df.tweet.apply(lambda x:Punctuation(x))\n",
    "# df.tweet.apply(lambda x:preprocess(x))"
   ]
  },
  {
   "cell_type": "code",
   "execution_count": 8,
   "metadata": {},
   "outputs": [
    {
     "data": {
      "text/html": [
       "<div>\n",
       "<style scoped>\n",
       "    .dataframe tbody tr th:only-of-type {\n",
       "        vertical-align: middle;\n",
       "    }\n",
       "\n",
       "    .dataframe tbody tr th {\n",
       "        vertical-align: top;\n",
       "    }\n",
       "\n",
       "    .dataframe thead th {\n",
       "        text-align: right;\n",
       "    }\n",
       "</style>\n",
       "<table border=\"1\" class=\"dataframe\">\n",
       "  <thead>\n",
       "    <tr style=\"text-align: right;\">\n",
       "      <th></th>\n",
       "      <th>count</th>\n",
       "      <th>hate_speech</th>\n",
       "      <th>offensive_language</th>\n",
       "      <th>neither</th>\n",
       "      <th>class</th>\n",
       "      <th>tweet</th>\n",
       "    </tr>\n",
       "  </thead>\n",
       "  <tbody>\n",
       "    <tr>\n",
       "      <td>0</td>\n",
       "      <td>3</td>\n",
       "      <td>0</td>\n",
       "      <td>2</td>\n",
       "      <td>1</td>\n",
       "      <td>1</td>\n",
       "      <td>He a hoe fa that   Incredible vagina is rarely...</td>\n",
       "    </tr>\n",
       "    <tr>\n",
       "      <td>1</td>\n",
       "      <td>3</td>\n",
       "      <td>0</td>\n",
       "      <td>2</td>\n",
       "      <td>1</td>\n",
       "      <td>1</td>\n",
       "      <td>I want to take the time tonight to acknowled...</td>\n",
       "    </tr>\n",
       "    <tr>\n",
       "      <td>2</td>\n",
       "      <td>3</td>\n",
       "      <td>0</td>\n",
       "      <td>3</td>\n",
       "      <td>0</td>\n",
       "      <td>1</td>\n",
       "      <td>Lol  me next time bitch</td>\n",
       "    </tr>\n",
       "    <tr>\n",
       "      <td>3</td>\n",
       "      <td>3</td>\n",
       "      <td>0</td>\n",
       "      <td>3</td>\n",
       "      <td>0</td>\n",
       "      <td>1</td>\n",
       "      <td>If a bitch says eeeeeee she a hoe</td>\n",
       "    </tr>\n",
       "    <tr>\n",
       "      <td>4</td>\n",
       "      <td>3</td>\n",
       "      <td>0</td>\n",
       "      <td>1</td>\n",
       "      <td>2</td>\n",
       "      <td>2</td>\n",
       "      <td>You wanna find hoes on here Just follow the ch...</td>\n",
       "    </tr>\n",
       "    <tr>\n",
       "      <td>...</td>\n",
       "      <td>...</td>\n",
       "      <td>...</td>\n",
       "      <td>...</td>\n",
       "      <td>...</td>\n",
       "      <td>...</td>\n",
       "      <td>...</td>\n",
       "    </tr>\n",
       "    <tr>\n",
       "      <td>24778</td>\n",
       "      <td>3</td>\n",
       "      <td>0</td>\n",
       "      <td>3</td>\n",
       "      <td>0</td>\n",
       "      <td>1</td>\n",
       "      <td>I was at a red light on decatur amp lake mead ...</td>\n",
       "    </tr>\n",
       "    <tr>\n",
       "      <td>24779</td>\n",
       "      <td>3</td>\n",
       "      <td>0</td>\n",
       "      <td>3</td>\n",
       "      <td>0</td>\n",
       "      <td>1</td>\n",
       "      <td>all this spaceship shit is retarded</td>\n",
       "    </tr>\n",
       "    <tr>\n",
       "      <td>24780</td>\n",
       "      <td>3</td>\n",
       "      <td>0</td>\n",
       "      <td>3</td>\n",
       "      <td>0</td>\n",
       "      <td>1</td>\n",
       "      <td>Hennessey Venom GT   thats one sexy bitch</td>\n",
       "    </tr>\n",
       "    <tr>\n",
       "      <td>24781</td>\n",
       "      <td>3</td>\n",
       "      <td>0</td>\n",
       "      <td>3</td>\n",
       "      <td>0</td>\n",
       "      <td>1</td>\n",
       "      <td>lmfaoooo Im tryna see how many hoes I can lur...</td>\n",
       "    </tr>\n",
       "    <tr>\n",
       "      <td>24782</td>\n",
       "      <td>3</td>\n",
       "      <td>0</td>\n",
       "      <td>3</td>\n",
       "      <td>0</td>\n",
       "      <td>1</td>\n",
       "      <td>I cant bitch</td>\n",
       "    </tr>\n",
       "  </tbody>\n",
       "</table>\n",
       "<p>24783 rows × 6 columns</p>\n",
       "</div>"
      ],
      "text/plain": [
       "       count  hate_speech  offensive_language  neither  class  \\\n",
       "0          3            0                   2        1      1   \n",
       "1          3            0                   2        1      1   \n",
       "2          3            0                   3        0      1   \n",
       "3          3            0                   3        0      1   \n",
       "4          3            0                   1        2      2   \n",
       "...      ...          ...                 ...      ...    ...   \n",
       "24778      3            0                   3        0      1   \n",
       "24779      3            0                   3        0      1   \n",
       "24780      3            0                   3        0      1   \n",
       "24781      3            0                   3        0      1   \n",
       "24782      3            0                   3        0      1   \n",
       "\n",
       "                                                   tweet  \n",
       "0      He a hoe fa that   Incredible vagina is rarely...  \n",
       "1        I want to take the time tonight to acknowled...  \n",
       "2                                Lol  me next time bitch  \n",
       "3                      If a bitch says eeeeeee she a hoe  \n",
       "4      You wanna find hoes on here Just follow the ch...  \n",
       "...                                                  ...  \n",
       "24778  I was at a red light on decatur amp lake mead ...  \n",
       "24779                all this spaceship shit is retarded  \n",
       "24780          Hennessey Venom GT   thats one sexy bitch  \n",
       "24781   lmfaoooo Im tryna see how many hoes I can lur...  \n",
       "24782                                       I cant bitch  \n",
       "\n",
       "[24783 rows x 6 columns]"
      ]
     },
     "execution_count": 8,
     "metadata": {},
     "output_type": "execute_result"
    }
   ],
   "source": [
    "df"
   ]
  },
  {
   "cell_type": "code",
   "execution_count": 23,
   "metadata": {},
   "outputs": [
    {
     "name": "stdout",
     "output_type": "stream",
     "text": [
      "accuracy 0.7937378954163977\n",
      "              precision    recall  f1-score   support\n",
      "\n",
      "           0       0.00      0.00      0.00       357\n",
      "           1       0.79      1.00      0.88      4803\n",
      "           2       0.92      0.12      0.21      1036\n",
      "\n",
      "    accuracy                           0.79      6196\n",
      "   macro avg       0.57      0.37      0.36      6196\n",
      "weighted avg       0.77      0.79      0.72      6196\n",
      "\n"
     ]
    },
    {
     "name": "stderr",
     "output_type": "stream",
     "text": [
      "C:\\Users\\hedi\\.conda\\envs\\factory619\\lib\\site-packages\\sklearn\\metrics\\classification.py:1437: UndefinedMetricWarning:\n",
      "\n",
      "Precision and F-score are ill-defined and being set to 0.0 in labels with no predicted samples.\n",
      "\n"
     ]
    }
   ],
   "source": [
    "from sklearn.metrics import accuracy_score\n",
    "#naive_bayes\n",
    "from sklearn.naive_bayes import MultinomialNB\n",
    "from sklearn.pipeline import Pipeline\n",
    "from sklearn.feature_extraction.text import TfidfTransformer\n",
    "from sklearn.feature_extraction.text import CountVectorizer\n",
    "X = df.tweet\n",
    "y = df[\"class\"]\n",
    "X_train, X_test, y_train, y_test = train_test_split(X, y, test_size=0.25, random_state = 42)\n",
    "\n",
    "\n",
    "\n",
    "nb = Pipeline([('vect', CountVectorizer()),\n",
    "               ('tfidf', TfidfTransformer()),\n",
    "               ('clf', MultinomialNB()),\n",
    "              ])\n",
    "nb.fit(X_train, y_train)\n",
    "\n",
    "# %%time\n",
    "from sklearn.metrics import classification_report\n",
    "y_pred = nb.predict(X_test)\n",
    "\n",
    "print('accuracy %s' % accuracy_score(y_pred, y_test))\n",
    "print(classification_report(y_test, y_pred))"
   ]
  },
  {
   "cell_type": "code",
   "execution_count": 10,
   "metadata": {},
   "outputs": [
    {
     "data": {
      "text/plain": [
       "1    19190\n",
       "2     4163\n",
       "0     1430\n",
       "Name: class, dtype: int64"
      ]
     },
     "execution_count": 10,
     "metadata": {},
     "output_type": "execute_result"
    }
   ],
   "source": [
    "df[\"class\"].value_counts()"
   ]
  },
  {
   "cell_type": "code",
   "execution_count": 28,
   "metadata": {},
   "outputs": [
    {
     "name": "stderr",
     "output_type": "stream",
     "text": [
      "C:\\Users\\hedi\\.conda\\envs\\factory619\\lib\\site-packages\\sklearn\\svm\\base.py:929: ConvergenceWarning:\n",
      "\n",
      "Liblinear failed to converge, increase the number of iterations.\n",
      "\n"
     ]
    },
    {
     "name": "stdout",
     "output_type": "stream",
     "text": [
      "1974\n",
      "Test Accuracy: 0.870\n",
      "Precision: 0.706\n",
      "Recall: 0.654\n",
      "F1: 0.673\n",
      "[[  74  201   29]\n",
      " [  92 3569  134]\n",
      " [  14  176  668]]\n"
     ]
    },
    {
     "ename": "NameError",
     "evalue": "name 'plt' is not defined",
     "output_type": "error",
     "traceback": [
      "\u001b[1;31m---------------------------------------------------------------------------\u001b[0m",
      "\u001b[1;31mNameError\u001b[0m                                 Traceback (most recent call last)",
      "\u001b[1;32m<ipython-input-28-8fe72994d892>\u001b[0m in \u001b[0;36m<module>\u001b[1;34m\u001b[0m\n\u001b[0;32m     24\u001b[0m \u001b[0mprint\u001b[0m\u001b[1;33m(\u001b[0m\u001b[0mconfmat\u001b[0m\u001b[1;33m)\u001b[0m\u001b[1;33m\u001b[0m\u001b[1;33m\u001b[0m\u001b[0m\n\u001b[0;32m     25\u001b[0m \u001b[1;33m\u001b[0m\u001b[0m\n\u001b[1;32m---> 26\u001b[1;33m \u001b[0mfig\u001b[0m\u001b[1;33m,\u001b[0m \u001b[0max\u001b[0m \u001b[1;33m=\u001b[0m \u001b[0mplt\u001b[0m\u001b[1;33m.\u001b[0m\u001b[0msubplots\u001b[0m\u001b[1;33m(\u001b[0m\u001b[0mfigsize\u001b[0m\u001b[1;33m=\u001b[0m\u001b[1;33m(\u001b[0m\u001b[1;36m2.5\u001b[0m\u001b[1;33m,\u001b[0m \u001b[1;36m2.5\u001b[0m\u001b[1;33m)\u001b[0m\u001b[1;33m)\u001b[0m\u001b[1;33m\u001b[0m\u001b[1;33m\u001b[0m\u001b[0m\n\u001b[0m\u001b[0;32m     27\u001b[0m \u001b[0max\u001b[0m\u001b[1;33m.\u001b[0m\u001b[0mmatshow\u001b[0m\u001b[1;33m(\u001b[0m\u001b[0mconfmat\u001b[0m\u001b[1;33m,\u001b[0m \u001b[0mcmap\u001b[0m\u001b[1;33m=\u001b[0m\u001b[1;34m'Greys'\u001b[0m\u001b[1;33m,\u001b[0m \u001b[0malpha\u001b[0m\u001b[1;33m=\u001b[0m\u001b[1;36m0.5\u001b[0m\u001b[1;33m)\u001b[0m\u001b[1;33m\u001b[0m\u001b[1;33m\u001b[0m\u001b[0m\n\u001b[0;32m     28\u001b[0m \u001b[1;32mfor\u001b[0m \u001b[0mi\u001b[0m \u001b[1;32min\u001b[0m \u001b[0mrange\u001b[0m\u001b[1;33m(\u001b[0m\u001b[0mconfmat\u001b[0m\u001b[1;33m.\u001b[0m\u001b[0mshape\u001b[0m\u001b[1;33m[\u001b[0m\u001b[1;36m0\u001b[0m\u001b[1;33m]\u001b[0m\u001b[1;33m)\u001b[0m\u001b[1;33m:\u001b[0m\u001b[1;33m\u001b[0m\u001b[1;33m\u001b[0m\u001b[0m\n",
      "\u001b[1;31mNameError\u001b[0m: name 'plt' is not defined"
     ]
    }
   ],
   "source": [
    "#linearsvc\n",
    "#perform well\n",
    "from sklearn.metrics import precision_score, recall_score ,f1_score\n",
    "text_train, text_test, y_train, y_test = train_test_split(df[\"tweet\"], df[\"class\"], \n",
    "    test_size=0.2)\n",
    "vect = CountVectorizer(ngram_range=(1, 2),stop_words=None,lowercase=True,max_df=0.8, min_df=20)\n",
    "tfidf = TfidfTransformer()\n",
    "clf = LinearSVC(C=100.0)\n",
    "pipe_lr = Pipeline([\n",
    "    ('vect',vect),\n",
    "    ('tfidf',tfidf),\n",
    "    ('clf',clf)\n",
    "    ])\n",
    "pipe_lr.fit(text_train, y_train)\n",
    "print(len(vect.vocabulary_))\n",
    "\n",
    "print('Test Accuracy: %.3f' % pipe_lr.score(text_test,y_test))\n",
    "y_pred = pipe_lr.predict(text_test)\n",
    "print('Precision: %.3f' % precision_score(y_true=y_test, y_pred=y_pred,average='macro'))\n",
    "print('Recall: %.3f' % recall_score(y_true=y_test, y_pred=y_pred,average='macro'))\n",
    "print('F1: %.3f' % f1_score(y_true=y_test, y_pred=y_pred,average='macro'))\n",
    "\n",
    "confmat = confusion_matrix(y_true=y_test, y_pred=y_pred)\n",
    "print(confmat)\n",
    "\n",
    "fig, ax = plt.subplots(figsize=(2.5, 2.5))\n",
    "ax.matshow(confmat, cmap='Greys', alpha=0.5)\n",
    "for i in range(confmat.shape[0]):\n",
    "    for j in range(confmat.shape[1]):\n",
    "        ax.text(x=j, y=i, s=confmat[i, j], va='center', ha='center')\n",
    "\n",
    "plt.xlabel('predicted label')\n",
    "plt.ylabel('true label')\n",
    "\n",
    "plt.tight_layout()\n",
    "plt.savefig('./confusion_matrix.png', dpi=300)\n",
    "plt.show()"
   ]
  },
  {
   "cell_type": "code",
   "execution_count": 67,
   "metadata": {},
   "outputs": [
    {
     "data": {
      "text/plain": [
       "['Memorial_Hospital',\n",
       " 'Seniors',\n",
       " 'memorandum',\n",
       " 'elephant',\n",
       " 'Trump',\n",
       " 'Census',\n",
       " 'pilgrims',\n",
       " 'De',\n",
       " 'Dogs',\n",
       " '###-####_ext',\n",
       " 'chaotic',\n",
       " 'forgive',\n",
       " 'scholar',\n",
       " 'Lottery',\n",
       " 'decreasing',\n",
       " 'Supervisor',\n",
       " 'fundamentally',\n",
       " 'Fitness',\n",
       " 'abundance',\n",
       " 'Hold']"
      ]
     },
     "execution_count": 67,
     "metadata": {},
     "output_type": "execute_result"
    },
    {
     "data": {
      "text/plain": [
       "gensim.models.keyedvectors.Word2VecKeyedVectors"
      ]
     },
     "execution_count": 67,
     "metadata": {},
     "output_type": "execute_result"
    }
   ],
   "source": [
    "#word2vec + xgboost\n",
    "\n",
    "from gensim.models import KeyedVectors,word2vec\n",
    "\n",
    "#model=KeyedVectors.load_word2vec_format(\"C:\\Users\\hedi\\Desktop\\factory619 internship\\GoogleNews-vectors-negative300.bin\", binary=True)\n",
    "\n",
    "wv = KeyedVectors.load_word2vec_format('C:/Users/hedi/Desktop/factory619 internship/GoogleNews-vectors-negative300.bin', binary=True, limit=500000)\n",
    "wv.init_sims(replace=True)\n",
    "from itertools import islice\n",
    "list(islice(wv.vocab, 13030, 13050))\n",
    "type(wv)"
   ]
  },
  {
   "cell_type": "code",
   "execution_count": 68,
   "metadata": {},
   "outputs": [],
   "source": [
    "def word_averaging(wv, words):\n",
    "    all_words, mean = set(), []\n",
    "    \n",
    "    for word in words:\n",
    "        if isinstance(word, np.ndarray):\n",
    "            mean.append(word)\n",
    "        elif word in wv.vocab:\n",
    "            mean.append(wv.syn0norm[wv.vocab[word].index])\n",
    "            all_words.add(wv.vocab[word].index)\n",
    "\n",
    "    if not mean:\n",
    "        logging.warning(\"cannot compute similarity with no input %s\", words)\n",
    "        # FIXME: remove these examples in pre-processing\n",
    "        return np.zeros(wv.vector_size,)\n",
    "\n",
    "    mean = gensim.matutils.unitvec(np.array(mean).mean(axis=0)).astype(np.float32)\n",
    "    return mean\n",
    "\n",
    "def  word_averaging_list(wv, text_list):\n",
    "    return np.vstack([word_averaging(wv, post) for post in text_list ])"
   ]
  },
  {
   "cell_type": "code",
   "execution_count": 72,
   "metadata": {},
   "outputs": [
    {
     "name": "stderr",
     "output_type": "stream",
     "text": [
      "C:\\Users\\hedi\\.conda\\envs\\factory619\\lib\\site-packages\\ipykernel_launcher.py:8: DeprecationWarning:\n",
      "\n",
      "Call to deprecated `syn0norm` (Attribute will be removed in 4.0.0, use self.vectors_norm instead).\n",
      "\n",
      "WARNING:root:cannot compute similarity with no input ['ð\\x9f\\x98¤']\n",
      "WARNING:root:cannot compute similarity with no input ['corrieeeeeee', 'timeð\\x9f\\x98\\x9c']\n",
      "WARNING:root:cannot compute similarity with no input ['ampwhite']\n",
      "WARNING:root:cannot compute similarity with no input ['ð\\x9f\\x8f\\x86', 'â\\x9a½ï¸\\x8f', 'ð\\x9f\\x8c\\x9f', 'ð\\x9f\\x94\\x9d', 'toptags', 'â\\x80¦']\n",
      "WARNING:root:cannot compute similarity with no input ['ð\\x9f\\x98\\x81ð\\x9f\\x98\\x81ð\\x9f\\x98\\x81â\\x9d¤ï¸\\x8f', 'egã\\x80\\x9cï¼\\x9fï¼\\x9fï¼\\x9f', 'smileâ\\x9d¤ï¸\\x8fð\\x9f\\x97£ð\\x9f¤\\x98ð\\x9f\\x8f½', 'ã\\x83']\n",
      "WARNING:root:cannot compute similarity with no input []\n",
      "WARNING:root:cannot compute similarity with no input ['cheersâ\\x98\\x86ð\\x9f\\x8dºð\\x9f\\x8d', '\\x80¦']\n",
      "WARNING:root:cannot compute similarity with no input ['faggot']\n",
      "WARNING:root:cannot compute similarity with no input ['swillorsa¡', 'â\\x80¦']\n",
      "WARNING:root:cannot compute similarity with no input []\n",
      "WARNING:root:cannot compute similarity with no input ['ð\\x9f\\x92\\x95', 'ð\\x9f\\x91¸', 'ð\\x9f\\x92\\x97', 'ð\\x9f\\x94\\x9d', 'toptags', 'â\\x80¦']\n",
      "WARNING:root:cannot compute similarity with no input ['lunchð\\x9f\\x8d´', 'ð\\x9f\\x8d', '\\x83\\x98ã\\x83', 'ã\\x82·ã\\x83¼', 'ã\\x83©ã\\x83\\x95ã\\x83', '\\x82µã\\x83©ã\\x83\\x80', '\\x83©ã\\x83³ã\\x83\\x81', '\\x80¦']\n",
      "WARNING:root:cannot compute similarity with no input ['bihday', 'toni', 'issaâ\\x9d¤â\\x9d¤â\\x9d¤']\n",
      "WARNING:root:cannot compute similarity with no input []\n",
      "WARNING:root:cannot compute similarity with no input ['germay', 'ó¾\\x8c©']\n",
      "WARNING:root:cannot compute similarity with no input ['happyâ\\x9d¤', '\\x80¦']\n",
      "WARNING:root:cannot compute similarity with no input ['±ita', 'ð\\x9f\\x98\\x9cð\\x9f\\x94¥ð\\x9f\\x98´ð\\x9f\\x98´']\n",
      "WARNING:root:cannot compute similarity with no input ['ð\\x9f\\x8e\\x8a', '\\x82\\x84ã\\x81\\x99ã\\x82\\x88', 'bihdayâ\\x9d¤ï¸\\x8e', '\\x81\\x93ã\\x82\\x8cã\\x81\\x8bã\\x82\\x89ã\\x82\\x82ã\\x82\\x88ã\\x82\\x8dã\\x81\\x97ã\\x81\\x8fð\\x9f\\x99\\x8fð\\x9f\\x8f']\n",
      "WARNING:root:cannot compute similarity with no input ['hunned', 'hunneds', 'nicca']\n",
      "WARNING:root:cannot compute similarity with no input ['babam', 'ð\\x9f\\x92\\x95', '\\x9fehir', 'â\\x80¦']\n",
      "WARNING:root:cannot compute similarity with no input ['gardaland']\n",
      "WARNING:root:cannot compute similarity with no input ['squadgirlsð\\x9f\\x92\\x95', '\\x80¦']\n",
      "WARNING:root:cannot compute similarity with no input ['wp', 'wp', 'wp', 'wp']\n",
      "WARNING:root:cannot compute similarity with no input ['areâ\\x80¦']\n",
      "WARNING:root:cannot compute similarity with no input ['pleyeo', 'ð\\x9f\\x8c\\x8a', '\\x80¦']\n",
      "WARNING:root:cannot compute similarity with no input ['carpe', 'diem', 'ð\\x9f\\x92', '\\x80¦']\n",
      "WARNING:root:cannot compute similarity with no input ['danyorneles', '§Ã£oeparceria', '\\x80¦']\n",
      "WARNING:root:cannot compute similarity with no input ['readyfoheday']\n",
      "WARNING:root:cannot compute similarity with no input ['bihdayð\\x9f\\x98\\x98', '\\x9f\\x98\\x98']\n",
      "WARNING:root:cannot compute similarity with no input ['belgium']\n",
      "WARNING:root:cannot compute similarity with no input ['faggot']\n",
      "WARNING:root:cannot compute similarity with no input ['kiev', 'ukrayna']\n",
      "WARNING:root:cannot compute similarity with no input ['ð\\x9f\\x8c¤ð\\x9f\\x8c¤']\n",
      "WARNING:root:cannot compute similarity with no input ['jesselee', 'ð\\x9f\\x99\\x8cð\\x9f\\x8f', '\\x80¦']\n",
      "WARNING:root:cannot compute similarity with no input ['\\x80¦']\n",
      "WARNING:root:cannot compute similarity with no input ['tgif']\n",
      "WARNING:root:cannot compute similarity with no input []\n",
      "WARNING:root:cannot compute similarity with no input ['fathersday', 'buyâ\\x80¦']\n",
      "WARNING:root:cannot compute similarity with no input ['â\\x98\\x80allâ\\x98\\x80whoâ\\x98\\x80retweetsâ\\x98\\x80wantâ\\x98\\x80newâ\\x98\\x80followersâ\\x98\\x80', 'â\\x9c\\x88', 'â\\x9c\\x88', 'â\\x9c\\x88', 'â\\x9c\\x88', 'â\\x9c\\x88', 'â\\x9c\\x88', 'â\\x9c\\x88']\n",
      "WARNING:root:cannot compute similarity with no input ['bihday']\n",
      "WARNING:root:cannot compute similarity with no input ['ð\\x9f\\x94\\x9d', 'toptags', '\\x80¦']\n",
      "WARNING:root:cannot compute similarity with no input ['â\\x80¦']\n",
      "WARNING:root:cannot compute similarity with no input ['\\x9f\\x91\\x95\\x9f\\x91\\x96\\x9f\\x92¨']\n",
      "WARNING:root:cannot compute similarity with no input ['suppoing']\n",
      "WARNING:root:cannot compute similarity with no input ['snapchat', 'eaglepaw', 'ð\\x9f\\x91\\x8að\\x9f\\x91\\x8a', '\\x80¦']\n",
      "WARNING:root:cannot compute similarity with no input []\n",
      "WARNING:root:cannot compute similarity with no input ['thoughtcast']\n",
      "WARNING:root:cannot compute similarity with no input ['¶ner', 'ð\\x9f\\x98\\x8bð\\x9f\\x98\\x8d']\n",
      "WARNING:root:cannot compute similarity with no input ['sundaymoodâ\\x9d¤ï¸\\x8f', '\\x80¦']\n",
      "WARNING:root:cannot compute similarity with no input ['junday', 'bihday', 'junstday']\n",
      "WARNING:root:cannot compute similarity with no input ['ð\\x9f\\x8c\\x8a', 'ð\\x9f\\x94\\x9d', 'ð\\x9f\\x94\\x9d', 'ð\\x9f\\x94\\x9d', 'toptags', 'â\\x80¦']\n",
      "WARNING:root:cannot compute similarity with no input ['of', 'mandalað\\x9f\\x8e¨â\\x9c¨ð\\x9f\\x8c\\x9e']\n",
      "WARNING:root:cannot compute similarity with no input ['\\x80¦']\n",
      "WARNING:root:cannot compute similarity with no input []\n",
      "WARNING:root:cannot compute similarity with no input ['â\\x96', '\\x80¦']\n",
      "WARNING:root:cannot compute similarity with no input []\n",
      "WARNING:root:cannot compute similarity with no input ['èª\\x93å¿\\x97happy', 'bihdayð\\x9f\\x98\\x98ð\\x9f\\x92\\x90â\\x9c¨', 'bihday', '¢\\x97ç\\x94°èª\\x93å¿\\x97', '\\x81\\x8aã\\x82\\x81ã\\x81§ã\\x81¨ã\\x81\\x86']\n",
      "WARNING:root:cannot compute similarity with no input ['welligtalea', '§Ã£oeparceria', '\\x80¦']\n",
      "WARNING:root:cannot compute similarity with no input ['harrods']\n",
      "WARNING:root:cannot compute similarity with no input ['\\x80¦']\n",
      "WARNING:root:cannot compute similarity with no input ['bihday', 'sirð\\x9f\\x8e\\x82ð\\x9f\\x8e\\x82ð\\x9f\\x8e\\x81ð\\x9f\\x8e\\x81ð\\x9f\\x98¤ð\\x9f\\x98¤ð\\x9f\\x98\\x8að\\x9f\\x98\\x8a']\n",
      "WARNING:root:cannot compute similarity with no input ['girlsâ\\x9d¤', '\\x80¦']\n",
      "WARNING:root:cannot compute similarity with no input ['mrangryð\\x9f\\x98¡', '\\x80¦']\n",
      "WARNING:root:cannot compute similarity with no input ['\\x9f\\x91¸ð\\x9f\\x91¸ð\\x9f\\x91¸ð\\x9f\\x91¸ð\\x9f\\x91¸ð\\x9f\\x98\\x8dð\\x9f\\x98\\x8dð\\x9f\\x98\\x8dð\\x9f\\x98\\x8dð\\x9f\\x92\\x99ð\\x9f\\x92\\x99ð\\x9f\\x92\\x99â\\x9c\\x94']\n",
      "WARNING:root:cannot compute similarity with no input ['ð\\x9f\\x94\\x9d', 'toptags', '\\x80¦']\n",
      "WARNING:root:cannot compute similarity with no input ['ð\\x9f\\x99\\x8cð\\x9f\\x99\\x8cð\\x9f\\x99\\x8cfriendship', '\\x80à¸\\x9eà¸·à¹\\x88à¸\\xadà¸\\x99', '¸¡à¸´à¸\\x95à¸£à¸', 'à¸²à¸\\x9e', '\\x8f\\x8bè°\\x8a', '\\x9c\\x8bå\\x8f\\x8b', '·è¾¹']\n",
      "WARNING:root:cannot compute similarity with no input ['tygt', 'midweekâ\\x9d¤']\n",
      "WARNING:root:cannot compute similarity with no input ['janapersonalfitness', '§Ã£oeparceria', '\\x80¦']\n",
      "WARNING:root:cannot compute similarity with no input ['\\x80¦']\n",
      "WARNING:root:cannot compute similarity with no input ['\\x80¦']\n",
      "WARNING:root:cannot compute similarity with no input ['ð\\x9f\\x92\\x9bð\\x9f\\x8c¸', '\\x80¦']\n",
      "WARNING:root:cannot compute similarity with no input ['mrrat', 'phantomaviation', 'cptplanespotter', 'blackmaverick', 'wbruchal', 'ufeellucky', 'spadâ\\x80¦']\n",
      "WARNING:root:cannot compute similarity with no input ['whatâ\\x80¦']\n",
      "WARNING:root:cannot compute similarity with no input ['ð\\x9f\\x92\\x9a', '\\x80¦']\n",
      "WARNING:root:cannot compute similarity with no input ['tongueouttuesday']\n",
      "WARNING:root:cannot compute similarity with no input ['Fucc', 'nicca']\n",
      "WARNING:root:cannot compute similarity with no input ['fridayð\\x9f\\x92\\x95ð\\x9f\\x91°ð\\x9f\\x8f¼â\\x9c¨']\n",
      "WARNING:root:cannot compute similarity with no input ['foodtaxi']\n",
      "WARNING:root:cannot compute similarity with no input []\n",
      "WARNING:root:cannot compute similarity with no input ['woooo', 'hooooo']\n",
      "WARNING:root:cannot compute similarity with no input ['\\x80¦']\n",
      "WARNING:root:cannot compute similarity with no input ['oppahappt', 'bihday', 'to', 'meâ\\x80¦']\n",
      "WARNING:root:cannot compute similarity with no input ['rotterdam', 'â\\x80¢', 'socafrenzy', 'â\\x80¢', 'ð\\x9f\\x92\\x83ð\\x9f\\x8f¿ð\\x9f\\x92\\x83ð\\x9f\\x8f¿ð\\x9f\\x92\\x83ð\\x9f\\x8f¿', 'â\\x80¢â\\x80¢â\\x80¢â\\x80¢â\\x80¢â\\x80¢â\\x80¢â\\x80¢â\\x80¢â\\x80¢â\\x80¢â\\x80¢â\\x80¢â\\x80¢â\\x80¢â\\x80¢â\\x80¢â\\x80¢â\\x80¢â\\x80¢â\\x80¢â\\x80¢â\\x80¢â\\x80¢â\\x80¢â\\x80¢â\\x80¢â\\x80¢â\\x80¢â\\x80¢â\\x80¢â\\x80¢â\\x80¢â\\x80¢â\\x80¢â\\x80¢â\\x80¢â\\x80¢â\\x80¢â\\x80¢â\\x80¢', 'â\\x80¦']\n",
      "WARNING:root:cannot compute similarity with no input ['ð\\x9f\\x93¸ð\\x9f\\x93¸ð\\x9f\\x93¸', '\\x80¦']\n",
      "WARNING:root:cannot compute similarity with no input ['ptrishg', 'ð\\x9f\\x8c\\x9eð\\x9f\\x8c\\x9eð\\x9f\\x8c\\x9eð\\x9f\\x8c\\x9eð\\x9f\\x8c\\x9e', '\\x80¦']\n",
      "WARNING:root:cannot compute similarity with no input ['and']\n",
      "WARNING:root:cannot compute similarity with no input ['ð\\x9f\\x8d¬', 'â\\x80¦']\n",
      "WARNING:root:cannot compute similarity with no input ['ð\\x9f\\x94\\x9d']\n",
      "WARNING:root:cannot compute similarity with no input []\n",
      "WARNING:root:cannot compute similarity with no input ['dragoneducation']\n",
      "WARNING:root:cannot compute similarity with no input []\n",
      "WARNING:root:cannot compute similarity with no input ['bukber']\n",
      "WARNING:root:cannot compute similarity with no input ['anouk', '\\x80¦']\n",
      "WARNING:root:cannot compute similarity with no input ['crazyâ\\x80¦']\n",
      "WARNING:root:cannot compute similarity with no input ['altright', 'and', 'euroconservatism']\n",
      "WARNING:root:cannot compute similarity with no input ['presidentâ\\x80\\x99s']\n",
      "WARNING:root:cannot compute similarity with no input ['ð\\x9f\\x93¸ð\\x9f\\x93¸ð\\x9f\\x93¸', '\\x80¦']\n",
      "WARNING:root:cannot compute similarity with no input ['dubaið\\x9f\\x91\\x8d', '\\x80¦']\n",
      "WARNING:root:cannot compute similarity with no input ['amyð\\x9f\\x92\\x95', '\\x80¦']\n",
      "WARNING:root:cannot compute similarity with no input ['fucc', 'nicca']\n",
      "WARNING:root:cannot compute similarity with no input ['ð\\x9f\\x94\\x9d', 'toptags', '\\x80¦']\n",
      "WARNING:root:cannot compute similarity with no input ['ootd', 'ð\\x9f\\x91\\x97']\n",
      "WARNING:root:cannot compute similarity with no input ['ð\\x9f\\x94\\x9d', 'toptags', '\\x80¦']\n",
      "WARNING:root:cannot compute similarity with no input []\n",
      "WARNING:root:cannot compute similarity with no input ['ð\\x9f\\x92\\x93ð\\x9f\\x91\\xadð\\x9f\\x92\\x93', '\\x81ªã\\x81¤ã\\x81\\x8dã\\x81¡ã\\x82\\x83ã\\x82\\x93¸\\x8bè°·', '\\x81\\x97ã\\x82', 'ã\\x82\\x93ã\\x81\\x8dã\\x81', 'ä¼\\x9aã\\x81\\x84ã\\x81\\x9fã\\x81\\x84ã\\x80\\x82']\n",
      "WARNING:root:cannot compute similarity with no input ['lilmikey', 'rendevous']\n",
      "WARNING:root:cannot compute similarity with no input ['okc', 'nigguh']\n",
      "WARNING:root:cannot compute similarity with no input ['jtss', 'phoro', 'ð\\x9f\\x98\\x8d']\n",
      "WARNING:root:cannot compute similarity with no input ['brussels', 'airpo']\n",
      "WARNING:root:cannot compute similarity with no input ['ð\\x9f\\x94\\x9d']\n",
      "WARNING:root:cannot compute similarity with no input ['ð\\x9f\\x98\\x82ð\\x9f\\x98\\x82ð\\x9f\\x98\\x82']\n",
      "WARNING:root:cannot compute similarity with no input ['urgh', '\\x80¦']\n",
      "WARNING:root:cannot compute similarity with no input ['stfuuuuu', 'ð\\x9f\\x98\\xadð\\x9f\\x98\\xadð\\x9f\\x98\\xadð\\x9f\\x98\\xad']\n",
      "WARNING:root:cannot compute similarity with no input []\n",
      "WARNING:root:cannot compute similarity with no input ['bitchk']\n",
      "WARNING:root:cannot compute similarity with no input ['stas', 'tonightâ\\x9a½ï¸\\x8fð\\x9f¤\\x97â\\x9a½ï¸\\x8f']\n",
      "WARNING:root:cannot compute similarity with no input ['ð\\x9f\\x92\\x8bð\\x9f\\x92\\x93ð\\x9f\\x92\\x93']\n",
      "WARNING:root:cannot compute similarity with no input ['tleaveme', 'ð\\x9f\\x98¢', '\\x82oÅ\\x9bÄ\\x87']\n",
      "WARNING:root:cannot compute similarity with no input ['mondayzzz', 'ð\\x9f\\x8c´', '\\x80¦']\n",
      "WARNING:root:cannot compute similarity with no input ['funnyð\\x9f\\x98\\x82ð\\x9f\\x98\\x82ð\\x9f\\x98\\x82', 'â\\x80¦']\n",
      "WARNING:root:cannot compute similarity with no input ['berposeð\\x9f\\x98\\x8að\\x9f\\x98\\x8a', '\\x9f\\x98\\x98ð\\x9f\\x98\\x8d']\n",
      "WARNING:root:cannot compute similarity with no input ['dday']\n",
      "WARNING:root:cannot compute similarity with no input ['kingdnawf']\n",
      "WARNING:root:cannot compute similarity with no input ['dragoneducation']\n",
      "WARNING:root:cannot compute similarity with no input ['craziestpeoples', 'ð\\x9f\\x98\\x9b']\n",
      "WARNING:root:cannot compute similarity with no input []\n",
      "WARNING:root:cannot compute similarity with no input ['ð\\x9f\\x94\\x9d']\n",
      "WARNING:root:cannot compute similarity with no input ['bihday', 'boygirlð\\x9f\\x98\\x8bð\\x9f\\x92\\x95', 'bihday']\n",
      "WARNING:root:cannot compute similarity with no input ['ð\\x9f\\x94\\x9d']\n",
      "WARNING:root:cannot compute similarity with no input ['radulovicke', 'ð\\x9f\\x92\\x9cð\\x9f\\x92\\x9cð\\x9f\\x92\\x9c', 'realmirna']\n",
      "WARNING:root:cannot compute similarity with no input ['neeecxttt', 'ð\\x9f\\x98\\x8að\\x9f\\x98\\x8a']\n",
      "WARNING:root:cannot compute similarity with no input ['alreemgroup', '\\x80¦']\n",
      "WARNING:root:cannot compute similarity with no input ['bihday', 'kazuki', 'bihdaykazuki', 'bihdaykazuki', 'bihdaykazuki', 'bihdaykazuki']\n",
      "WARNING:root:cannot compute similarity with no input ['nigglet']\n",
      "WARNING:root:cannot compute similarity with no input ['\\x9f\\x99\\x8f']\n",
      "WARNING:root:cannot compute similarity with no input ['quotestagsapp']\n",
      "WARNING:root:cannot compute similarity with no input ['selfie']\n",
      "WARNING:root:cannot compute similarity with no input ['ä½\\x93è\\x82²ç¥\\xadð\\x9f\\x8f\\x83ð\\x9f\\x8f', 'ð\\x9f\\x8f\\x83ð\\x9f\\x8f', '\\x80¦']\n",
      "WARNING:root:cannot compute similarity with no input ['greciaaaa']\n",
      "WARNING:root:cannot compute similarity with no input ['faggot']\n",
      "WARNING:root:cannot compute similarity with no input []\n",
      "WARNING:root:cannot compute similarity with no input ['ð\\x9f\\x98\\x81ð\\x9f\\x98\\x81ð\\x9f\\x98\\x81â\\x9d¤ï¸\\x8f', 'egã\\x80\\x9cï¼\\x9fï¼\\x9fï¼\\x9f', 'smileâ\\x9d¤ï¸\\x8fð\\x9f\\x97£ð\\x9f¤\\x98ð\\x9f\\x8f½', 'ã\\x83']\n",
      "WARNING:root:cannot compute similarity with no input []\n",
      "WARNING:root:cannot compute similarity with no input ['\\x9f\\x98\\x86', '\\x9f\\x87¿ð\\x9f\\x87¦\\x9f\\x98\\x98\\x9f\\x92\\x83ð\\x9f\\x8f¾ð\\x9f\\x92\\x83ð\\x9f\\x8f¾ð\\x9f\\x92\\x83ð\\x9f\\x8f¾ð\\x9f\\x92\\x83ð\\x9f\\x8f¾ð\\x9f\\x92\\x83ð\\x9f\\x8f¾', 'kotor', 'inâ\\x80¦']\n",
      "WARNING:root:cannot compute similarity with no input ['â\\x9d¤ï¸\\x8f', '\\x80¦']\n",
      "WARNING:root:cannot compute similarity with no input ['ð\\x9f\\x8e', 'ð\\x9f\\x92', 'â\\x99¡pinkÃ\\x97pinkâ\\x99¡', '\\x80¦']\n",
      "WARNING:root:cannot compute similarity with no input ['\\x9f\\x8e\\x81']\n",
      "WARNING:root:cannot compute similarity with no input ['liveð\\x9f\\x8e¤', '\\x80¦']\n",
      "WARNING:root:cannot compute similarity with no input ['bihday', 'selfie', 'ð\\x9f\\x8e\\x88', 'brithdayâ\\x80¦']\n",
      "WARNING:root:cannot compute similarity with no input ['ð\\x9f\\x98\\x8ame', 'ð\\x9f\\x98¬']\n",
      "WARNING:root:cannot compute similarity with no input ['ð\\x9f\\x93¸ð\\x9f\\x93¸ð\\x9f\\x93¸', '\\x80¦']\n",
      "WARNING:root:cannot compute similarity with no input ['bihday', 'ð\\x9f\\x98\\x81ð\\x9f\\x8e\\x89ð\\x9f\\x92\\x96', '\\x81\\x95ã\\x82\\x93', '\\x82¹ã\\x83¼ã\\x83\\x91ã\\x83¼æ\\xad³']\n",
      "WARNING:root:cannot compute similarity with no input ['and', 'theâ\\x80¦']\n",
      "WARNING:root:cannot compute similarity with no input ['linstagram', 'ð\\x9f\\x8c¸ð\\x9f\\x8d¦ð\\x9f\\x91\\xadð\\x9f\\x8d¨ð\\x9f\\x8c¸']\n",
      "WARNING:root:cannot compute similarity with no input ['ð\\x9f\\x98\\x8bð\\x9f\\x98\\x8b', 'appletstag', '\\x80¦']\n",
      "WARNING:root:cannot compute similarity with no input ['ð\\x9f\\x8d\\x80â\\x98\\x80ï¸\\x8f']\n",
      "WARNING:root:cannot compute similarity with no input ['goodmorning', 'haveaniceweekend\\x98\\x95â\\x98\\x95ð\\x9f\\x8d\\x89ð\\x9f\\x8d\\x92ð\\x9f\\x98\\x98']\n",
      "WARNING:root:cannot compute similarity with no input ['ubitchu']\n",
      "WARNING:root:cannot compute similarity with no input ['bbqð\\x9f\\x8d\\x96ð\\x9f\\x99\\x88']\n",
      "WARNING:root:cannot compute similarity with no input ['ð\\x9f\\x98\\x8dð\\x9f\\x98\\x8dð\\x9f\\x98\\x8dð\\x9f\\x98\\x8dð\\x9f\\x98\\x8dð\\x9f\\x98\\x8d', 'bihday']\n",
      "WARNING:root:cannot compute similarity with no input ['ð\\x9f\\x8c¸ð\\x9f\\x8c', 'ð\\x9f\\x8c¼ð\\x9f\\x8d\\x83ð\\x9f\\x8cº', 'snapchat', 'gabychina', '\\x80¦']\n",
      "WARNING:root:cannot compute similarity with no input ['juiceð\\x9f\\x8d\\x8dð\\x9f\\x8d\\x93ð\\x9f\\x8d\\x87ð\\x9f\\x8d\\x92ð\\x9f\\x8d\\x91ð\\x9f\\x8d\\x8b']\n",
      "WARNING:root:cannot compute similarity with no input ['blaxican']\n",
      "WARNING:root:cannot compute similarity with no input []\n",
      "WARNING:root:cannot compute similarity with no input ['ð\\x9f\\x94\\x9d', 'toptags', '\\x80¦']\n",
      "WARNING:root:cannot compute similarity with no input ['snapchat', 'barbiets', 'ð\\x9f\\x91', '\\x80¦']\n",
      "WARNING:root:cannot compute similarity with no input ['°Ð¹Ñ\\x81ÐºÐ¸Ð¹Ð¶Ñ\\x83Ðº', '\\x80Ð¾Ð½ÐµÐ¶']\n",
      "WARNING:root:cannot compute similarity with no input []\n",
      "WARNING:root:cannot compute similarity with no input ['\\x80¦']\n",
      "WARNING:root:cannot compute similarity with no input []\n",
      "WARNING:root:cannot compute similarity with no input ['brennankâ\\x80\\x99s']\n",
      "WARNING:root:cannot compute similarity with no input ['ð\\x9f\\x94\\x92']\n",
      "WARNING:root:cannot compute similarity with no input ['snapchat', 'racheltatum', 'ð\\x9f\\x98\\x8að\\x9f\\x94¥ð\\x9f\\x91\\x8cð\\x9f\\x8f¼']\n",
      "WARNING:root:cannot compute similarity with no input ['creditâ\\x80¦']\n",
      "WARNING:root:cannot compute similarity with no input ['yeeeaaahhh', 'ð\\x9f\\x98\\x81ð\\x9f\\x98\\x81ð\\x9f\\x98\\x81ð\\x9f\\x98\\x81']\n",
      "WARNING:root:cannot compute similarity with no input ['Â´s', 'ð\\x9f\\x92\\x9a', '\\x80¦']\n",
      "WARNING:root:cannot compute similarity with no input ['lunchð\\x9f\\x8d´', '\\x80¦']\n",
      "WARNING:root:cannot compute similarity with no input ['faggot']\n",
      "WARNING:root:cannot compute similarity with no input ['craziestpeoples', 'ð\\x9f\\x98\\x81ð\\x9f\\x98\\x81']\n",
      "WARNING:root:cannot compute similarity with no input ['bihday', 'haryana', 'clpleader']\n",
      "WARNING:root:cannot compute similarity with no input ['elianny', 'ð\\x9f\\x98\\x86', '\\x80¦', 'hâ\\x80¦']\n",
      "WARNING:root:cannot compute similarity with no input ['snowã\\x80\\x9cã\\x80\\x9c', '\\x81¿ã\\x82\\x93ã\\x81ªã\\x82\\x84ã\\x81£ã\\x81¦ã\\x82\\x8bã\\x82\\x84ã\\x81¤']\n",
      "WARNING:root:cannot compute similarity with no input []\n",
      "WARNING:root:cannot compute similarity with no input ['\\x80¦']\n",
      "WARNING:root:cannot compute similarity with no input ['ampbitches']\n",
      "WARNING:root:cannot compute similarity with no input ['ð\\x9f\\x91']\n",
      "WARNING:root:cannot compute similarity with no input ['lushâ\\x98\\x84ð\\x9f\\x92\\x9c']\n",
      "WARNING:root:cannot compute similarity with no input ['yeahbitch']\n",
      "WARNING:root:cannot compute similarity with no input ['Â©the', 'snaparazziâ\\x84¢']\n",
      "WARNING:root:cannot compute similarity with no input []\n",
      "WARNING:root:cannot compute similarity with no input ['lopeeee']\n",
      "WARNING:root:cannot compute similarity with no input ['ð\\x9f\\x8f\\x9dseað\\x9f\\x8f\\x9d']\n",
      "WARNING:root:cannot compute similarity with no input ['rss|xactaccounts|', '\\x80¦']\n",
      "WARNING:root:cannot compute similarity with no input ['ð\\x9f\\x94\\x9d', 'toptags', '\\x80¦']\n",
      "WARNING:root:cannot compute similarity with no input ['isum']\n",
      "WARNING:root:cannot compute similarity with no input ['â\\x99¡', '\\x80¦']\n",
      "WARNING:root:cannot compute similarity with no input ['workwork', '\\x80¦']\n",
      "WARNING:root:cannot compute similarity with no input ['rss|xactaccounts|', '\\x80¦']\n",
      "WARNING:root:cannot compute similarity with no input ['quotestagsapp']\n",
      "WARNING:root:cannot compute similarity with no input ['faggot']\n",
      "WARNING:root:cannot compute similarity with no input ['ð\\x9f\\x94\\x9d', 'toptags', '\\x80¦']\n",
      "WARNING:root:cannot compute similarity with no input ['\\x80¦']\n",
      "WARNING:root:cannot compute similarity with no input ['\\x80¦']\n",
      "WARNING:root:cannot compute similarity with no input ['\\x83\\x97ã\\x83\\xadã\\x83¡ã\\x83\\x86ã\\x82¦ã\\x82¹ç\\x81', 'å±±', '\\x82¢ã\\x83¡ã\\x83ªã\\x82', 'ã\\x83³ã\\x82¦ã\\x82©ã\\x83¼ã\\x82¿ã\\x83¼ã\\x83\\x95ã\\x83\\xadã\\x83³ã\\x83\\x88', '\\x83\\x87ã\\x82£ã\\x82ºã\\x83\\x8bã\\x83¼', '\\x83\\x87ã\\x82£ã\\x82ºã\\x83\\x8bã\\x83¼ã\\x82·ã\\x83¼', '\\x80¦']\n",
      "WARNING:root:cannot compute similarity with no input ['ð\\x9f\\x94\\x9d', 'toptags', '\\x80¦']\n",
      "WARNING:root:cannot compute similarity with no input ['â\\x98\\x86', 'erinswallows']\n",
      "WARNING:root:cannot compute similarity with no input ['faggot']\n",
      "WARNING:root:cannot compute similarity with no input ['enjoyð\\x9f\\x92\\x83ð\\x9f\\x8d\\x92beâ\\x9c¨oÂ²breakthroughÂ®', 'ð\\x9f\\x8c´\\x9c¨freeð\\x9f\\x92\\x83\\x9f\\x92ª\\x80¼ï¸\\x8fð\\x9f\\x87ºð\\x9f\\x87¸']\n",
      "WARNING:root:cannot compute similarity with no input ['\\x80¦']\n",
      "WARNING:root:cannot compute similarity with no input ['ð\\x9f\\x94\\x9d', 'toptags', '\\x80¦']\n",
      "WARNING:root:cannot compute similarity with no input ['ó¾\\x94¥', 'ó¾\\x94', 'skinnywraps', 'ó¾¬\\x94ó¾', '¦ó¾\\xad', 'ó¾', '£ó¾\\x93\\x91ó¾\\x93', 'ó¾\\x81\\x81ó¾\\x81\\x9aó¾\\x81\\x9bó¾\\x92¿ð\\x9f\\x9a\\x98ó¾', '¤ó¾¦\\x82ó¾\\x81']\n",
      "WARNING:root:cannot compute similarity with no input ['yettalou', 'christiancera', '\\x80¦']\n",
      "WARNING:root:cannot compute similarity with no input ['ð\\x9f\\x98\\x84', 'toptags', 'â\\x80¦']\n",
      "WARNING:root:cannot compute similarity with no input []\n",
      "WARNING:root:cannot compute similarity with no input ['ð\\x9f\\x99\\x88ð\\x9f\\x8d\\x93']\n",
      "WARNING:root:cannot compute similarity with no input []\n",
      "WARNING:root:cannot compute similarity with no input ['bleh', 'ness\\x80¦']\n",
      "WARNING:root:cannot compute similarity with no input ['sistersâ\\x9d¤ï¸\\x8fð\\x9f\\x91¯', '||', 'anniecaroline', 'â\\x80¦']\n",
      "WARNING:root:cannot compute similarity with no input ['wordans']\n",
      "WARNING:root:cannot compute similarity with no input ['ð\\x9f\\x94\\x9d']\n",
      "WARNING:root:cannot compute similarity with no input []\n",
      "WARNING:root:cannot compute similarity with no input ['ð\\x9f\\x92\\x81ð\\x9f\\x8f', 'ð\\x9f\\x92\\x81ð\\x9f\\x8f½ð\\x9f\\x92\\x81ð\\x9f\\x8f¿ð\\x9f\\x92\\x81ð\\x9f\\x8f¼ð\\x9f\\x8e\\x80ð\\x9f\\x99\\x8cð\\x9f\\x8f¼ð\\x9f\\x92', 'ð\\x9f\\x8f¼ð\\x9f\\x91\\x84ð\\x9f\\x91', 'ð\\x9f\\x91\\x99ð\\x9f\\x91\\x98ð\\x9f\\x92\\x84ð\\x9f\\x92\\x8bð\\x9f\\x91', 'ð\\x9f\\x92\\x8d', '\\x80¦']\n",
      "WARNING:root:cannot compute similarity with no input ['ð\\x9f\\x92\\x93ð\\x9f\\x90\\xadð\\x9f\\x91\\x91']\n",
      "WARNING:root:cannot compute similarity with no input ['ó¾\\x94\\x96']\n",
      "WARNING:root:cannot compute similarity with no input ['fathersday', '\\x80¦']\n",
      "WARNING:root:cannot compute similarity with no input ['gmâ\\x98\\x80ï¸\\x8fâ\\x9e°ð\\x9f\\x92', 'ð\\x9f\\x98', 'ð\\x9f\\x96\\x90ð\\x9f\\x8f¾', '\\x80¦']\n",
      "WARNING:root:cannot compute similarity with no input ['ilovethesecret', '\\x80¦']\n",
      "WARNING:root:cannot compute similarity with no input ['bihdayð\\x9f\\x92\\x97', 'ã\\x80\\x8c', 'ã\\x80\\x8d']\n",
      "WARNING:root:cannot compute similarity with no input []\n",
      "WARNING:root:cannot compute similarity with no input ['ciaoh', '\\x80¦']\n",
      "WARNING:root:cannot compute similarity with no input ['bihday']\n",
      "WARNING:root:cannot compute similarity with no input ['bihday', 'selfie', 'ð\\x9f\\x98\\x80ð\\x9f\\x8e\\x81ð\\x9f\\x8e\\x82ð\\x9f\\x8e\\x89ð\\x9f\\x8e\\x8a', '\\x80¦']\n",
      "WARNING:root:cannot compute similarity with no input ['wishð\\x9f\\x98\\x89ð\\x9f\\x91\\x8cð\\x9f\\x8f½']\n",
      "WARNING:root:cannot compute similarity with no input ['mitchellrattle', 'mitchell', 'goodson']\n",
      "WARNING:root:cannot compute similarity with no input ['ð\\x9f\\x92\\x95', 'ð\\x9f\\x91¸', 'ð\\x9f\\x92\\x97', 'ð\\x9f\\x94\\x9d', 'toptags', 'â\\x80¦']\n",
      "WARNING:root:cannot compute similarity with no input ['â\\x9d¤ï¸\\x8fdermaworld', 'familyâ\\x9d¤ï¸\\x8f', 'â\\x80¦']\n",
      "WARNING:root:cannot compute similarity with no input []\n",
      "WARNING:root:cannot compute similarity with no input ['whaaat']\n",
      "WARNING:root:cannot compute similarity with no input ['ð\\x9f\\x94\\x9d', 'toptags', '\\x80¦']\n",
      "WARNING:root:cannot compute similarity with no input ['\\x9d¤']\n",
      "WARNING:root:cannot compute similarity with no input ['â\\x98\\x94ï¸\\x8fð\\x9f\\x8c\\x8að\\x9f\\x8c\\x8að\\x9f\\x92\\x8b']\n",
      "WARNING:root:cannot compute similarity with no input ['bihdayð\\x9f\\x92\\x99', '\\x9f\\x91\\x91', '\\x9f\\x92\\x9e']\n",
      "WARNING:root:cannot compute similarity with no input ['â\\x9c\\x8câ\\x9c\\x8bð\\x9f\\x91\\x8dð\\x9f\\x92\\x95', 'ð\\x9f\\x98\\x94', 'toptags', '\\x80¦']\n",
      "WARNING:root:cannot compute similarity with no input ['latepost', 'â\\x80¦']\n",
      "WARNING:root:cannot compute similarity with no input ['\\x80¦']\n",
      "WARNING:root:cannot compute similarity with no input ['ð\\x9f\\x98\\x8a', '\\x9d¤ï¸\\x8f', 'specialâ\\x9c\\x8cð\\x9f\\x8f', 'ï¸\\x8fâ\\x80¦']\n",
      "WARNING:root:cannot compute similarity with no input ['and']\n",
      "WARNING:root:cannot compute similarity with no input ['bernt', 'anker', 'hoffman', 'pakkis', '1929']\n",
      "WARNING:root:cannot compute similarity with no input ['ð\\x9f\\x94\\x9d', 'toptags', '\\x80¦']\n",
      "WARNING:root:cannot compute similarity with no input ['faggot']\n",
      "WARNING:root:cannot compute similarity with no input ['coldplay']\n",
      "WARNING:root:cannot compute similarity with no input ['ð\\x9f\\x8e¶ð\\x9f\\x92\\x95', 'ð\\x9f\\x94\\x9d', 'toptags', '\\x80¦']\n",
      "WARNING:root:cannot compute similarity with no input ['\\x9f\\x92\\x93you', 'rð\\x9f\\x92\\x93', 'ð\\x9f\\x98\\x87']\n",
      "WARNING:root:cannot compute similarity with no input ['ï½\\x88ï½\\x81ï½\\x90ï½\\x90ï½\\x99', '\\x80¦']\n",
      "WARNING:root:cannot compute similarity with no input ['fcamposâ\\x80¦']\n",
      "WARNING:root:cannot compute similarity with no input ['ð\\x9f\\x94\\x9d']\n",
      "WARNING:root:cannot compute similarity with no input ['homeð\\x9f\\x90\\x99ð\\x9f\\x8c\\x87']\n",
      "WARNING:root:cannot compute similarity with no input ['sshow', 'ð\\x9f\\x98\\x8a']\n",
      "WARNING:root:cannot compute similarity with no input ['ð\\x9f\\x92\\x95ð\\x9f\\x91\\x91', 'ð\\x9f\\x94\\x9d', 'toptags', '\\x80¦']\n",
      "WARNING:root:cannot compute similarity with no input ['bihday']\n",
      "WARNING:root:cannot compute similarity with no input ['vfiestarintl', 'linstagram', 'ð\\x9f\\x8c¸ð\\x9f\\x8d¦ð\\x9f\\x91\\xadð\\x9f\\x8d¨ð\\x9f\\x8c¸']\n",
      "WARNING:root:cannot compute similarity with no input []\n",
      "WARNING:root:cannot compute similarity with no input []\n",
      "WARNING:root:cannot compute similarity with no input ['ð\\x9f\\x98\\x82', 'â\\x8f³', 'ð\\x9f\\x91', 'ð\\x9f\\x94\\x9d', 'toptags', 'â\\x80¦']\n",
      "WARNING:root:cannot compute similarity with no input ['â\\x9c¨\\x9f\\x92\\x81ð\\x9f\\x8f¼\\x9f\\x92\\x89\\x9f\\x98\\x89', 'ð\\x9f\\x91\\x89ð\\x9f\\x8f', '\\x9f\\x91\\x88ð\\x9f\\x8f', 'â\\x9c¨', 'allâ\\x9c¨â\\x9c\\x8cð\\x9f\\x8f', 'ï¸\\x8f']\n",
      "WARNING:root:cannot compute similarity with no input ['bihday', 'shownu', 'oppað\\x9f\\x8e\\x89ð\\x9f\\x8e\\x81ð\\x9f\\x92\\x9d', '\\x9f\\x8e¤ð\\x9f\\x8e¶ð\\x9f\\x92\\x95']\n",
      "WARNING:root:cannot compute similarity with no input ['shoppingð\\x9f\\x92\\x84ð\\x9f\\x91\\x9bð\\x9f\\x8c\\x9f']\n",
      "WARNING:root:cannot compute similarity with no input ['\\x80¦']\n",
      "WARNING:root:cannot compute similarity with no input ['fridayyyy', 'ó¾\\x86¶ó¾\\x86¶ó¾\\x94\\x97']\n",
      "WARNING:root:cannot compute similarity with no input ['homeday', 'ã\\x80°']\n",
      "WARNING:root:cannot compute similarity with no input ['ð\\x9f\\x98\\x84', 'toptags', 'â\\x80¦']\n",
      "WARNING:root:cannot compute similarity with no input ['wrs', '14', '88']\n",
      "WARNING:root:cannot compute similarity with no input ['disneyð\\x9f\\x90\\xadð\\x9f\\x8f°ð\\x9f\\x91¸ð\\x9f\\x91\\x91ã\\x80\\x90ã\\x80\\x91', '\\x88¶æ\\x9c\\x8d']\n",
      "WARNING:root:cannot compute similarity with no input ['ð\\x9f\\x94\\x9d', 'ð\\x9f\\x94\\x9d', 'ð\\x9f\\x94\\x9d', 'toptags', 'â\\x80¦']\n",
      "WARNING:root:cannot compute similarity with no input []\n",
      "WARNING:root:cannot compute similarity with no input ['saddie', 'fattie', 'fattie', '\\x80¦']\n",
      "WARNING:root:cannot compute similarity with no input ['flybcccom', '\\x80¦']\n",
      "WARNING:root:cannot compute similarity with no input ['readysetgo', 'ð\\x9f\\x8d´']\n",
      "WARNING:root:cannot compute similarity with no input ['royaltyrenames', 'bihday', 'balayya']\n",
      "WARNING:root:cannot compute similarity with no input ['hmu', 'ð\\x9f\\x98\\x9dð\\x9f\\x98\\x8b']\n",
      "WARNING:root:cannot compute similarity with no input ['ð\\x9f\\x98\\x82ð\\x9f\\x98\\x82ð\\x9f\\x98\\x82ð\\x9f\\x98\\x82ð\\x9f\\x98\\x82ð\\x9f\\x98\\x82ð\\x9f\\x98\\x82ð\\x9f\\x98\\x82ð\\x9f\\x98\\x82ð\\x9f\\x98\\x82ð\\x9f\\x98\\x82', 'twait']\n",
      "WARNING:root:cannot compute similarity with no input ['museoâ\\x80¦']\n",
      "WARNING:root:cannot compute similarity with no input ['selfie', 'ð\\x9f\\x98\\x84']\n",
      "WARNING:root:cannot compute similarity with no input ['faggot']\n",
      "WARNING:root:cannot compute similarity with no input ['\\x80¦']\n",
      "WARNING:root:cannot compute similarity with no input ['\\x9d¤ï¸\\x8f\\x9f\\x98\\x81']\n",
      "WARNING:root:cannot compute similarity with no input ['loveð\\x9f\\x8c´ð\\x9f\\x8c´ð\\x9f\\x8c´', '¥³å\\xad\\x90æ\\x97', '\\x80¦']\n",
      "WARNING:root:cannot compute similarity with no input ['ð\\x9f\\x8e\\x89ð\\x9f\\x92\\x90ð\\x9f\\x8e\\x88ð\\x9f\\x98\\x8d', 'bihday', 'ramenskoye']\n",
      "WARNING:root:cannot compute similarity with no input ['alice', 'â\\x80¦']\n",
      "WARNING:root:cannot compute similarity with no input ['â\\x98\\x86', 'cassidyevans']\n",
      "WARNING:root:cannot compute similarity with no input ['neverâ\\x80¦']\n",
      "WARNING:root:cannot compute similarity with no input ['of', 'godsâ\\x80¦']\n",
      "WARNING:root:cannot compute similarity with no input ['regram', '\\x80¦']\n",
      "WARNING:root:cannot compute similarity with no input ['hellooooð\\x9f\\x99\\x8b']\n",
      "WARNING:root:cannot compute similarity with no input ['seasone', 'of']\n",
      "WARNING:root:cannot compute similarity with no input []\n",
      "WARNING:root:cannot compute similarity with no input ['ð\\x9f\\x94\\x9d', 'toptags', '\\x80¦']\n",
      "WARNING:root:cannot compute similarity with no input ['sunburnð\\x9f\\x91¶ð\\x9f\\x8f½ð\\x9f\\x96\\x96ð\\x9f\\x8f½ð\\x9f\\x92\\x99']\n",
      "WARNING:root:cannot compute similarity with no input ['thislegitimately', 'mademe']\n",
      "WARNING:root:cannot compute similarity with no input ['faggot']\n",
      "WARNING:root:cannot compute similarity with no input ['toptags', '\\x80¦']\n",
      "WARNING:root:cannot compute similarity with no input ['nove']\n",
      "WARNING:root:cannot compute similarity with no input ['tyannah']\n",
      "WARNING:root:cannot compute similarity with no input []\n",
      "WARNING:root:cannot compute similarity with no input ['smiiiiiiiile']\n",
      "WARNING:root:cannot compute similarity with no input ['wingym']\n",
      "WARNING:root:cannot compute similarity with no input ['prefeer']\n",
      "WARNING:root:cannot compute similarity with no input ['ð\\x9f\\x92\\x86', 'ð\\x9f\\x94\\x9d', 'toptags', 'â\\x80¦']\n",
      "WARNING:root:cannot compute similarity with no input ['gustin', 'ð\\x9f\\x98\\x81ð\\x9f\\x91\\x8cð\\x9f\\x8f¼ð\\x9f\\x8d¸']\n",
      "WARNING:root:cannot compute similarity with no input ['mrrat', 'phantomaviation', 'cptplanespotter', 'blackmaverick', 'wbruchal', 'ufeellucky', 'spadâ\\x80¦']\n",
      "WARNING:root:cannot compute similarity with no input ['vtac', '45']\n",
      "WARNING:root:cannot compute similarity with no input ['ð\\x9f\\x8e\\x82bihday']\n",
      "WARNING:root:cannot compute similarity with no input ['instagram']\n",
      "WARNING:root:cannot compute similarity with no input ['appletstag', '\\x80¦']\n",
      "WARNING:root:cannot compute similarity with no input ['â\\x9d¤ï¸\\x8fâ\\x9d¤ï¸\\x8fâ\\x9d¤ï¸\\x8fâ\\x9d¤ï¸\\x8f', '\\x9f\\x91\\x8dð\\x9f\\x91\\x8dð\\x9f\\x91\\x8dð\\x9f\\x98\\x8dð\\x9f\\x98\\x98ð\\x9f\\x98\\x8e']\n",
      "WARNING:root:cannot compute similarity with no input ['\\x9f\\x8f\\x8eð\\x9f\\x8f\\x8e', 'â\\x9d¤ï¸\\x8f']\n",
      "WARNING:root:cannot compute similarity with no input ['â\\x98\\x80ï¸\\x8fâ\\x98\\x80ï¸\\x8fâ\\x98\\x80ï¸\\x8f', 'netherlands']\n",
      "WARNING:root:cannot compute similarity with no input ['ð\\x9f\\x94\\x9d']\n",
      "WARNING:root:cannot compute similarity with no input ['ð\\x9f\\x92\\x95', 'ð\\x9f\\x91¸', 'ð\\x9f\\x92\\x97', 'ð\\x9f\\x94\\x9d', 'toptags', 'â\\x80¦']\n",
      "WARNING:root:cannot compute similarity with no input ['\\x9f\\x8d\\x96â\\x98\\x86', '\\x80¦']\n",
      "WARNING:root:cannot compute similarity with no input ['ð\\x9f\\x92', 'ð\\x9f\\x8c\\x9f', 'â\\x9d\\x84ï¸\\x8f', 'ð\\x9f\\x94\\x9d', 'toptags', 'â\\x80¦']\n",
      "WARNING:root:cannot compute similarity with no input ['thanksbitch']\n",
      "WARNING:root:cannot compute similarity with no input ['é¡\\x94èª\\x8dè¨¼', 'ð\\x9f\\x94\\x8e', 'ð\\x9f\\x98\\x8d']\n",
      "WARNING:root:cannot compute similarity with no input ['â\\x80¢rougeâ\\x80¢', '\\x80¦']\n",
      "WARNING:root:cannot compute similarity with no input ['faggots']\n",
      "WARNING:root:cannot compute similarity with no input ['ð\\x9f\\x8e\\x82happy', 'bihday', 'natalie', 'pomanð\\x9f\\x8e\\x82', 'bihday', 'poman']\n",
      "WARNING:root:cannot compute similarity with no input ['seashellcounseling', 'â\\x80¦']\n",
      "WARNING:root:cannot compute similarity with no input ['rss|xactaccounts|', '\\x80¦']\n",
      "WARNING:root:cannot compute similarity with no input ['Â´s', 'ð\\x9f\\x92\\x9a', '\\x80¦']\n",
      "WARNING:root:cannot compute similarity with no input ['postsecret', 'ð\\x9f¤\\x90']\n",
      "WARNING:root:cannot compute similarity with no input ['fathersday', 'amphi', 'theatreoau', 'ife']\n",
      "WARNING:root:cannot compute similarity with no input ['friendszxc', 'ð\\x9f\\x92\\x9c', 'ð\\x9f\\x98\\x81ð\\x9f\\x98\\x81ð\\x9f\\x98\\x81']\n",
      "WARNING:root:cannot compute similarity with no input ['ð\\x9f\\x92\\x95', 'ð\\x9f\\x91¸', 'ð\\x9f\\x92\\x97', 'ð\\x9f\\x94\\x9d', 'toptags', 'â\\x80¦']\n",
      "WARNING:root:cannot compute similarity with no input ['firstâ\\x80¦']\n",
      "WARNING:root:cannot compute similarity with no input ['faggot']\n",
      "WARNING:root:cannot compute similarity with no input ['â\\x99¥ï¸\\x8eâ\\x99¥ï¸\\x8eâ\\x99¥ï¸\\x8eâ\\x99¥ï¸\\x8e', 'gmð\\x9f\\x8d³ð\\x9f\\x8d½ð\\x9f\\x8d\\x9eð\\x9f\\x92\\x93']\n",
      "WARNING:root:cannot compute similarity with no input ['montmare', '\\x80¦']\n",
      "WARNING:root:cannot compute similarity with no input ['\\x80¦']\n",
      "WARNING:root:cannot compute similarity with no input ['faggot']\n",
      "WARNING:root:cannot compute similarity with no input ['ð\\x9f\\x94\\x9d', 'toptags', '\\x80¦']\n",
      "WARNING:root:cannot compute similarity with no input ['\\x80¦']\n",
      "WARNING:root:cannot compute similarity with no input ['clifford', 'ponceâ\\x84¢']\n",
      "WARNING:root:cannot compute similarity with no input ['sunderland', 'ontario']\n",
      "WARNING:root:cannot compute similarity with no input ['tnx', 'hhwear', 'â\\x9d¤ï¸\\x8f', 'â\\x80¦']\n",
      "WARNING:root:cannot compute similarity with no input ['lozza', 'ð\\x9f\\x8d¹ð\\x9f\\x8d¦â\\x98\\x80ï¸\\x8f', 'â\\x80¦']\n",
      "WARNING:root:cannot compute similarity with no input ['â\\x98\\x80ï¸\\x8fâ\\x9c¨ð\\x9f\\x8e¨', 'baselâ\\x80¦']\n",
      "WARNING:root:cannot compute similarity with no input ['passionpurposepeopleprocessprofit']\n",
      "WARNING:root:cannot compute similarity with no input ['\\x81\\x86ã\\x81¾ã\\x83¡ã\\x82·', 'ð\\x9f\\x8d´']\n",
      "WARNING:root:cannot compute similarity with no input ['ð\\x9f\\x94\\x9d', 'toptags', '\\x80¦']\n",
      "WARNING:root:cannot compute similarity with no input ['sadwav']\n",
      "WARNING:root:cannot compute similarity with no input ['bihday', 'swayð\\x9f\\x8e\\x89ð\\x9f\\x8e\\x82']\n",
      "WARNING:root:cannot compute similarity with no input ['â\\x80¦']\n",
      "WARNING:root:cannot compute similarity with no input ['â\\x80¦']\n",
      "WARNING:root:cannot compute similarity with no input ['cheersð\\x9f\\x8d¹', 'fathersday', '\\x80¦']\n",
      "WARNING:root:cannot compute similarity with no input ['fâ\\x80¦']\n",
      "WARNING:root:cannot compute similarity with no input ['\\x83\\x8bã\\x83\\x8e', 'bihday']\n",
      "WARNING:root:cannot compute similarity with no input ['Wigga', 'wigga', 'wigga', 'wigga', 'wigga']\n",
      "WARNING:root:cannot compute similarity with no input ['corrieeeeeee', 'timeð\\x9f\\x98\\x9c']\n",
      "WARNING:root:cannot compute similarity with no input ['toptags', '\\x80¦']\n",
      "WARNING:root:cannot compute similarity with no input ['bihdayð\\x9f\\x8e\\x82ð\\x9f\\x8e\\x82ð\\x9f\\x8e\\x89ð\\x9f\\x8e\\x89ð\\x9f\\x8e\\x87ð\\x9f\\x8e\\x86']\n",
      "WARNING:root:cannot compute similarity with no input ['selfie']\n",
      "WARNING:root:cannot compute similarity with no input ['ð\\x9f\\x8d\\x94ð\\x9f\\x8d½ð\\x9f\\x8d\\x93', 'jsfoodies']\n",
      "WARNING:root:cannot compute similarity with no input ['ð\\x9f\\x98\\x86ð\\x9f\\x92\\x95ð\\x9f\\x8c\\x9fð\\x9f\\x92\\x93â\\x9c¨â\\xad\\x90ï¸\\x8f', '\\x82\\x86ã\\x82\\x8aã\\x81\\x9dã\\x82\\x93', 'bihdayð\\x9f\\x8e\\x89', 'ð\\x9f\\x92\\x93', 'ð\\x9f\\x8c\\x9f', '\\x9f\\x91¼']\n",
      "WARNING:root:cannot compute similarity with no input ['myfriend']\n",
      "WARNING:root:cannot compute similarity with no input ['pohcawlbikehire']\n",
      "WARNING:root:cannot compute similarity with no input ['slamminjamminon']\n",
      "WARNING:root:cannot compute similarity with no input ['camiilabeckeer', '§Ã£oeparceria', '\\x80¦']\n",
      "WARNING:root:cannot compute similarity with no input ['nigth']\n",
      "WARNING:root:cannot compute similarity with no input ['bihday']\n",
      "WARNING:root:cannot compute similarity with no input ['â\\x80¦']\n",
      "WARNING:root:cannot compute similarity with no input []\n",
      "WARNING:root:cannot compute similarity with no input ['ð\\x9f\\x98', 'ð\\x9f\\x98', 'ð\\x9f\\x98']\n",
      "WARNING:root:cannot compute similarity with no input ['bihday', 'monroe']\n",
      "WARNING:root:cannot compute similarity with no input ['lolð\\x9f\\x98\\x8dð\\x9f\\x98\\x8dð\\x9f\\x98\\x8dð\\x9f\\x98\\x8dð\\x9f\\x98\\x8dð\\x9f\\x98±ð\\x9f\\x98±ð\\x9f\\x98±ð\\x9f\\x98±']\n",
      "WARNING:root:cannot compute similarity with no input ['bihday', 'rahulji']\n",
      "WARNING:root:cannot compute similarity with no input ['socute', 'ð\\x9f\\x98\\xadð\\x9f\\x92\\x96ð\\x9f\\x92\\x96ð\\x9f\\x92\\x96ð\\x9f\\x92\\x96ð\\x9f\\x92\\x96']\n",
      "WARNING:root:cannot compute similarity with no input ['ð\\x9f\\x94\\x9d', 'toptags', '\\x80¦']\n",
      "WARNING:root:cannot compute similarity with no input ['aists']\n",
      "WARNING:root:cannot compute similarity with no input ['ilovethesecret', '\\x80¦']\n",
      "WARNING:root:cannot compute similarity with no input ['quotestagsapp']\n",
      "WARNING:root:cannot compute similarity with no input ['cashual', 'xd', 'ahahhskavsa', 'â\\x80¦']\n",
      "WARNING:root:cannot compute similarity with no input ['bihday', '\\xad³']\n",
      "WARNING:root:cannot compute similarity with no input ['\\x80¦']\n",
      "WARNING:root:cannot compute similarity with no input ['ð\\x9f\\x98\\x84ð\\x9f\\x98\\x9dð\\x9f\\x92ªð\\x9f\\x8f', 'ð\\x9f\\x91\\x8cð\\x9f\\x8f']\n",
      "WARNING:root:cannot compute similarity with no input ['ó¾\\x9f\\x9eð\\x9f\\x8f', 'ó¾\\x9f\\x9eð\\x9f\\x8f', 'ó¾\\x9f\\x9eð\\x9f\\x8f', 'â\\x9c\\x8cð\\x9f\\x8f', 'ï¸\\x8f']\n",
      "WARNING:root:cannot compute similarity with no input ['Tbt', 'nigguh']\n",
      "WARNING:root:cannot compute similarity with no input ['ð\\x9f\\x94\\x9d', 'toptags', '\\x80¦']\n",
      "WARNING:root:cannot compute similarity with no input ['instagood', 'tbt', '\\x80¦']\n",
      "WARNING:root:cannot compute similarity with no input ['hersheyamp', 'bihday']\n",
      "WARNING:root:cannot compute similarity with no input ['kapela', 'osp', 'radawie']\n",
      "WARNING:root:cannot compute similarity with no input ['homesweethomes']\n",
      "WARNING:root:cannot compute similarity with no input ['bihday', 'haryana', 'clpleader']\n",
      "WARNING:root:cannot compute similarity with no input []\n",
      "WARNING:root:cannot compute similarity with no input ['wasmadwasibnoworsteverws']\n",
      "WARNING:root:cannot compute similarity with no input ['bestsoundever']\n",
      "WARNING:root:cannot compute similarity with no input ['ð\\x9f\\x98¡', '\\x9f\\x98¡ð\\x9f\\x98¡', '\\x9f\\x98¡the', 'russians']\n",
      "WARNING:root:cannot compute similarity with no input ['bihday', '\\x81\\x9dã\\x82\\x8dã\\x81\\x9dã\\x82\\x8dç\\x94\\x9fæ\\x84\\x8fæ°\\x97ç\\x9b´ã\\x81\\x9dã\\x81\\x86', '\\x82¸ã\\x83£ã\\x82¤ã\\x82¢ã\\x83³ã\\x81¨å\\x90\\x8cã\\x81\\x98èª\\x95ç\\x94\\x9fæ\\x97¥']\n",
      "WARNING:root:cannot compute similarity with no input ['ã\\x83', 'ã\\x83', '\\x9c\\x94\\x80¦']\n",
      "WARNING:root:cannot compute similarity with no input ['faggot']\n",
      "WARNING:root:cannot compute similarity with no input ['ð\\x9f\\x94\\x9d', 'toptags', '\\x80¦']\n",
      "WARNING:root:cannot compute similarity with no input ['bihday', 'commandoo']\n",
      "WARNING:root:cannot compute similarity with no input ['faggot']\n",
      "WARNING:root:cannot compute similarity with no input ['Murda', 'mook']\n",
      "WARNING:root:cannot compute similarity with no input ['ð\\x9f\\x92\\x83', 'saaaaaaaaa', 'shhhhhhhe', 'iiiiiiið\\x9f\\x87¨ð\\x9f\\x87±ð\\x9f\\x87¨ð\\x9f\\x87±ð\\x9f\\x87¨ð\\x9f\\x87±ð\\x9f\\x87¨ð\\x9f\\x87±ð\\x9f\\x87¨ð\\x9f\\x87±', 'â\\x9d¤ï¸\\x8f']\n",
      "WARNING:root:cannot compute similarity with no input ['worldcare']\n",
      "WARNING:root:cannot compute similarity with no input ['ð\\x9f\\x94\\x9d', 'toptags', '\\x80¦']\n",
      "WARNING:root:cannot compute similarity with no input ['plussizebarbieâ\\x9e°conjuring', 'ð\\x9f\\x91¸ð\\x9f\\x8f¼â\\x9e°ð\\x9f\\x92\\x80', 'snapchat', 'barbiets', 'ð\\x9f\\x91', '\\x80¦']\n",
      "WARNING:root:cannot compute similarity with no input ['bahoom', 'â\\x80¦']\n",
      "WARNING:root:cannot compute similarity with no input []\n",
      "WARNING:root:cannot compute similarity with no input ['chillax', 'ð\\x9f\\x8c´ð\\x9f\\x8c´', 'â\\x80¦']\n",
      "WARNING:root:cannot compute similarity with no input []\n",
      "WARNING:root:cannot compute similarity with no input []\n",
      "WARNING:root:cannot compute similarity with no input ['â\\x9d¤ï¸\\x8fâ\\x9d¤ï¸\\x8fâ\\x9d¤ï¸\\x8f', '¿Ñ\\x80Ð¸Ñ\\x80Ð¾Ð´Ð°', '\\x81ÐµÑ\\x81Ñ\\x82Ñ\\x80Ñ\\x8b', 'Ñ\\x83Ñ\\x87Ñ\\x88Ð¸ÐµÐ¿Ð¾Ð´Ñ\\x80Ñ\\x83Ð¶ÐºÐ¸']\n",
      "WARNING:root:cannot compute similarity with no input ['faggot']\n",
      "WARNING:root:cannot compute similarity with no input ['ð\\x9f\\x94\\x9d', 'toptags', '\\x80¦']\n",
      "WARNING:root:cannot compute similarity with no input ['cardiff', 'ó¾\\x8c©']\n",
      "WARNING:root:cannot compute similarity with no input ['begginer', 'ð\\x9f\\x93\\x8bð\\x9f\\x94\\x9bð\\x9f\\x86\\x92', '\\x80¦']\n",
      "WARNING:root:cannot compute similarity with no input ['vincent', 'and', 'pablo']\n",
      "WARNING:root:cannot compute similarity with no input ['ð\\x9f\\x8c´ð\\x9f\\x8d\\x8dð\\x9f\\x8c´']\n",
      "WARNING:root:cannot compute similarity with no input ['appletstag', '\\x80¦']\n",
      "WARNING:root:cannot compute similarity with no input ['porait', 'of', 'femi', 'festus', 'â\\x80¦']\n",
      "WARNING:root:cannot compute similarity with no input ['dhanteras', 'overloadedð\\x9f\\x98\\x98ð\\x9f\\x98\\x98ð\\x9f\\x98\\x98', '\\x9f\\x98\\x87ð\\x9f\\x92¡ð\\x9f\\x92', 'ð\\x9f\\x92¥ð\\x9f\\x8e\\x8að\\x9f\\x8e\\x89']\n",
      "WARNING:root:cannot compute similarity with no input ['latepostð\\x9f\\x91', 'ð\\x9f\\x94']\n",
      "WARNING:root:cannot compute similarity with no input ['ð\\x9f\\x92', 'ð\\x9f\\x8c\\x9f', 'â\\x9d\\x84ï¸\\x8f', 'ð\\x9f\\x94\\x9d', 'toptags', 'â\\x80¦']\n",
      "WARNING:root:cannot compute similarity with no input ['14', '88']\n",
      "WARNING:root:cannot compute similarity with no input ['â\\x98\\x80ï¸\\x8fð\\x9f\\x8c´ð\\x9f\\x8c´ð\\x9f\\x8c´']\n",
      "WARNING:root:cannot compute similarity with no input ['ð\\x9f\\x98\\x98']\n",
      "WARNING:root:cannot compute similarity with no input ['palmy', 'ð\\x9f\\x8c´ð\\x9f\\x92\\x9b', 'palmâ\\x80¦']\n",
      "WARNING:root:cannot compute similarity with no input ['joseee', 'â\\x9d¤ð\\x9f\\x8d\\x81', 'ð\\x9f\\x98\\x84']\n",
      "WARNING:root:cannot compute similarity with no input []\n",
      "WARNING:root:cannot compute similarity with no input ['ð\\x9f\\x94\\x9d', 'toptags', '\\x80¦']\n",
      "WARNING:root:cannot compute similarity with no input ['woohooo', 'woot', 'woot', 'woot', 'ð\\x9f\\x99\\x8c']\n",
      "WARNING:root:cannot compute similarity with no input ['blved']\n",
      "WARNING:root:cannot compute similarity with no input ['peckerwood']\n",
      "WARNING:root:cannot compute similarity with no input ['juneâ\\x9c\\x88ï¸\\x8f', 'macau']\n",
      "WARNING:root:cannot compute similarity with no input ['â\\x9c\\x8cð\\x9f\\x8f', 'ï¸\\x8f', '\\x80¦']\n",
      "WARNING:root:cannot compute similarity with no input ['appletstag', '\\x80¦']\n",
      "WARNING:root:cannot compute similarity with no input ['qc', 'diegoð\\x9f\\x98\\x8eó¾\\x80\\x8aó¾\\x93\\x96ð\\x9f\\x8f\\x8eð\\x9f\\x8f\\x8eð\\x9f\\x8f\\x8eó¾\\x9f±ó¾\\x9f±ó¾\\x9f±']\n",
      "WARNING:root:cannot compute similarity with no input ['ð\\x9f\\x98\\x94ð\\x9f\\x98¿ð\\x9f\\x92\\x94']\n",
      "WARNING:root:cannot compute similarity with no input ['monthsð\\x9f\\x91', 'instalike', '\\x80¦']\n",
      "WARNING:root:cannot compute similarity with no input ['anton', 'yelchin']\n",
      "WARNING:root:cannot compute similarity with no input ['ð\\x9f\\x94\\x9d', 'toptags', '\\x80¦']\n",
      "WARNING:root:cannot compute similarity with no input []\n",
      "WARNING:root:cannot compute similarity with no input ['ð\\x9f\\x94\\x9d', 'toptags', '\\x80¦']\n",
      "WARNING:root:cannot compute similarity with no input ['bestfriend', 'goalsð\\x9f\\x98\\x8dð\\x9f\\x92\\x98ð\\x9f\\x92\\x95', 'nationalbestfriendday', 'bestfriendsday']\n",
      "WARNING:root:cannot compute similarity with no input ['coldâ\\x9d\\x84ï¸\\x8fâ\\x9d\\x84ï¸\\x8fâ\\x9d\\x84ï¸\\x8f', '\\x80¦']\n",
      "WARNING:root:cannot compute similarity with no input ['exo', 'weariy']\n",
      "WARNING:root:cannot compute similarity with no input ['\\x80¦']\n",
      "WARNING:root:cannot compute similarity with no input ['\\x80¦']\n",
      "WARNING:root:cannot compute similarity with no input ['latepostð\\x9f\\x91', 'ð\\x9f\\x94']\n",
      "WARNING:root:cannot compute similarity with no input ['ootnð\\x9f\\x92\\x81ð\\x9f\\x8f']\n",
      "WARNING:root:cannot compute similarity with no input ['yepdefinitely', 'með\\x9f\\x98\\x82ð\\x9f\\x98\\x82ð\\x9f\\x98\\x82ð\\x9f\\x98\\x82ð\\x9f\\x98\\x82', '\\x80¦']\n",
      "WARNING:root:cannot compute similarity with no input ['mhhhh', 'and']\n",
      "WARNING:root:cannot compute similarity with no input ['ð\\x9f\\x92\\x9fmy', 'loveð\\x9f\\x92\\x9f', '\\x80¦']\n",
      "WARNING:root:cannot compute similarity with no input ['bihday', 'milesð\\x9f\\x8e\\x82']\n",
      "WARNING:root:cannot compute similarity with no input ['ð\\x9f\\x92\\x84']\n",
      "WARNING:root:cannot compute similarity with no input ['faggot']\n",
      "WARNING:root:cannot compute similarity with no input ['ð\\x9f\\x94\\x9d', 'toptags', '\\x80¦']\n",
      "WARNING:root:cannot compute similarity with no input ['selfie', '\\x80¦']\n",
      "WARNING:root:cannot compute similarity with no input ['ð\\x9f\\x94\\x9d', 'toptags', '\\x80¦']\n",
      "WARNING:root:cannot compute similarity with no input ['bihday', 'tristen', 'ð\\x9f\\x8e\\x82']\n",
      "WARNING:root:cannot compute similarity with no input ['neverâ\\x80¦']\n",
      "WARNING:root:cannot compute similarity with no input ['mondaymorning']\n",
      "WARNING:root:cannot compute similarity with no input ['faggots']\n",
      "WARNING:root:cannot compute similarity with no input ['wassup', 'niggah']\n",
      "WARNING:root:cannot compute similarity with no input ['pinche', 'calor', 'ð\\x9f\\x99\\x84â\\x98¹ð\\x9f\\x98\\x8að\\x9f\\x98\\x9bð\\x9f\\x98\\x8eð\\x9f¤\\x93']\n",
      "WARNING:root:cannot compute similarity with no input ['newhairâ\\x9c¨ð\\x9f\\x92\\x87', '\\x80¦']\n",
      "WARNING:root:cannot compute similarity with no input ['â\\x98\\x86', 'sattineferrety']\n",
      "WARNING:root:cannot compute similarity with no input ['ð\\x9f\\x94\\x9d', 'toptags', '\\x80¦']\n",
      "WARNING:root:cannot compute similarity with no input ['faggot']\n",
      "WARNING:root:cannot compute similarity with no input ['elmira']\n",
      "WARNING:root:cannot compute similarity with no input ['weekeend']\n",
      "WARNING:root:cannot compute similarity with no input ['\\x80¦']\n",
      "WARNING:root:cannot compute similarity with no input ['ulm', 'toptags', 'â\\x80¦']\n",
      "WARNING:root:cannot compute similarity with no input ['\\x80¦']\n",
      "WARNING:root:cannot compute similarity with no input ['ð\\x9f\\x92\\x81ð\\x9f\\x8f', 'ð\\x9f\\x92\\x81ð\\x9f\\x8f½ð\\x9f\\x92\\x81ð\\x9f\\x8f¿ð\\x9f\\x92\\x81ð\\x9f\\x8f¼ð\\x9f\\x8e\\x80ð\\x9f\\x99\\x8cð\\x9f\\x8f¼ð\\x9f\\x92', 'ð\\x9f\\x8f¼ð\\x9f\\x91\\x84ð\\x9f\\x91', 'ð\\x9f\\x91\\x99ð\\x9f\\x91\\x98ð\\x9f\\x92\\x84ð\\x9f\\x92\\x8bð\\x9f\\x91', 'ð\\x9f\\x92\\x8d', '\\x80¦']\n",
      "WARNING:root:cannot compute similarity with no input ['niger']\n",
      "WARNING:root:cannot compute similarity with no input ['ð\\x9f\\x99\\x8f', 'ð\\x9f\\x98\\x94', 'toptags', '\\x80¦']\n",
      "WARNING:root:cannot compute similarity with no input ['getð\\x9f\\x98', 'ð\\x9f\\x87ºð\\x9f\\x87¸ð\\x9f\\x92\\x9c']\n",
      "WARNING:root:cannot compute similarity with no input ['lebron']\n",
      "WARNING:root:cannot compute similarity with no input ['truthð\\x9f\\x92¯', 'holycowejuice', '\\x80¦']\n",
      "WARNING:root:cannot compute similarity with no input ['truthâ\\x80¼ï¸\\x8fð\\x9f\\x92\\x8bâ\\x9d¤ï¸\\x8f', '\\x80¦']\n",
      "WARNING:root:cannot compute similarity with no input ['okaaaay', 'ð\\x9f\\x98\\x8dð\\x9f\\x98\\x84']\n",
      "WARNING:root:cannot compute similarity with no input ['â\\x98\\x95ï¸\\x8f', '\\x80¦']\n",
      "WARNING:root:cannot compute similarity with no input ['â\\x9c¨', 'ð\\x9f\\x92', 'ð\\x9f\\x91±', 'ð\\x9f\\x94\\x9d', 'toptags', 'â\\x80¦']\n",
      "WARNING:root:cannot compute similarity with no input ['ð\\x9f\\x92\\x99ð\\x9f\\x91§ð\\x9f\\x8f', 'â\\x98\\x81ï¸\\x8fð\\x9f\\x91§ð\\x9f\\x8f', 'ð\\x9f\\x92\\x99', 'ð\\x9f\\x93¸', 'ð\\x9f\\x91¶ð\\x9f\\x8f', 'â\\x98\\x94ï¸\\x8fð\\x9f\\x92\\x9c']\n",
      "WARNING:root:cannot compute similarity with no input ['\\x9f\\x87¯ð\\x9f\\x87µ', 'mountâ\\x80¦']\n",
      "WARNING:root:cannot compute similarity with no input ['funday', 'ð\\x9f\\x98\\x80ð\\x9f\\x98', 'ð\\x9f\\x91\\x84']\n",
      "WARNING:root:cannot compute similarity with no input ['immoality', '\\x80¦']\n",
      "WARNING:root:cannot compute similarity with no input ['\\x80¦']\n",
      "WARNING:root:cannot compute similarity with no input ['borrowdale', 'brooke', 'harare', 'zimbabwe']\n",
      "WARNING:root:cannot compute similarity with no input ['peepsð\\x9f\\x98\\x8eð\\x9f\\x8f\\x8d']\n",
      "WARNING:root:cannot compute similarity with no input ['ð\\x9f\\x94\\x9d', 'toptags', '\\x80¦']\n",
      "WARNING:root:cannot compute similarity with no input ['frio', 'ð\\x9f\\x92\\x99', '\\x80¦']\n",
      "WARNING:root:cannot compute similarity with no input ['\\x9f\\x8e\\x82ð\\x9f\\x8e\\x82ð\\x9f\\x8d°ð\\x9f\\x8d¦ð\\x9f\\x8d¦ð\\x9f\\x8d§ð\\x9f\\x8d§', 'bihday', 'to', 'youð\\x9f\\x91\\x8d']\n",
      "WARNING:root:cannot compute similarity with no input ['ð\\x9f\\x8e\\x89', 'ð\\x9f\\x8e\\x89ð\\x9f\\x8e\\x89']\n",
      "WARNING:root:cannot compute similarity with no input ['ó¾\\x8d\\x98ð\\x9f\\x8f', 'yass']\n",
      "WARNING:root:cannot compute similarity with no input ['withyou', 'vinallop']\n",
      "WARNING:root:cannot compute similarity with no input ['quotestagsapp']\n",
      "WARNING:root:cannot compute similarity with no input ['maxinecklacemaxicollar']\n",
      "WARNING:root:cannot compute similarity with no input ['hallwayst', '\\x80¦']\n",
      "WARNING:root:cannot compute similarity with no input ['ð\\x9f\\x92\\x95', 'ð\\x9f\\x91¸', 'ð\\x9f\\x92\\x97', 'ð\\x9f\\x94\\x9d', 'toptags', 'â\\x80¦']\n",
      "WARNING:root:cannot compute similarity with no input ['fuccckkkkkkkkk', 'ð\\x9f\\x98\\x82ð\\x9f\\x98\\x8d']\n",
      "WARNING:root:cannot compute similarity with no input []\n",
      "WARNING:root:cannot compute similarity with no input ['facce', 'strane']\n",
      "WARNING:root:cannot compute similarity with no input ['happyholidayð\\x9f\\x8c´ð\\x9f\\x92\\x96ð\\x9f\\x92\\x96', 'happyfathersdayð\\x9f\\x91¨ð\\x9f\\x8f', 'ð\\x9f\\x8c¹', '\\x80\\x97å\\xad\\x90ã\\x83\\x9eã\\x83ªã\\x83¼ã\\x83\\x8a', '\\x80¦']\n",
      "WARNING:root:cannot compute similarity with no input ['\\x80¦']\n",
      "WARNING:root:cannot compute similarity with no input ['pacchos', 'cafeð\\x9f\\x8d´ð\\x9f\\x92\\x95', '\\x89\\x8bä½\\x9cã\\x82\\x8a', '\\x83\\x91ã\\x83³ã\\x82±ã\\x83¼ã\\x82\\xad', '\\x82¹ã\\x83\\x95ã\\x83¬ã\\x83\\x91ã\\x83³ã\\x82±ã\\x83¼ã\\x82\\xad', '\\x81µã\\x82\\x8fã\\x81µã\\x82\\x8f', '\\x86\\x8dç\\x8f¾', 'ã\\x83\\x95ã\\x82§']\n",
      "WARNING:root:cannot compute similarity with no input ['annadayð\\x9f\\x91¯ð\\x9f\\x92']\n",
      "WARNING:root:cannot compute similarity with no input ['bfast', 'wendys', 'shopwise', 'cubao']\n",
      "WARNING:root:cannot compute similarity with no input ['ð\\x9f\\x93¸', 'ð\\x9f\\x92\\x95', 'ð\\x9f\\x86\\x92', 'ð\\x9f\\x98\\x84', 'toptags', 'â\\x80¦']\n",
      "WARNING:root:cannot compute similarity with no input ['â\\x9a¾ð\\x9f\\x8d\\x9f', 'â\\x80¦']\n",
      "WARNING:root:cannot compute similarity with no input ['bihday', 'ð\\x9f\\x8e\\x82', 'balakrishna']\n",
      "WARNING:root:cannot compute similarity with no input ['morningâ\\x98\\x80ï¸\\x8fâ\\x9c¨', 'â\\x80¦']\n",
      "WARNING:root:cannot compute similarity with no input ['ð\\x9f\\x8c´ð\\x9f\\x8d\\x80ð\\x9f\\x91', '\\x80¦']\n",
      "WARNING:root:cannot compute similarity with no input ['\\x9f\\x8d\\x87enjoyâ\\x9c¨\\x9f\\x8e¬beð\\x9f\\x92ªð\\x9f\\x87ºð\\x9f\\x87¸ð\\x9f\\x8c´oÂ²breakthroughÂ®ð\\x9f\\x8d\\x87', 'ð\\x9f\\x94¥\\x9c¨freeð\\x9f\\x92\\x83\\x9f\\x92\\x8b\\x9f\\x91\\x99']\n",
      "WARNING:root:cannot compute similarity with no input ['â\\x80¢tranquility', 'â\\x80¢stability', 'ð\\x9f\\x8e\\x88']\n",
      "WARNING:root:cannot compute similarity with no input ['â\\x80¦']\n",
      "WARNING:root:cannot compute similarity with no input ['ð\\x9f\\x92\\x97todays', 'coordinateð\\x9f\\x92\\x97', '\\x9f\\x92\\x97', 'â\\x80¦']\n",
      "WARNING:root:cannot compute similarity with no input ['tubbytoons', 'xoxoorlando']\n",
      "WARNING:root:cannot compute similarity with no input ['ð\\x9f\\x98\\x82', 'â\\x8f³', 'ð\\x9f\\x91', 'ð\\x9f\\x94\\x9d', 'toptags', 'â\\x80¦']\n",
      "WARNING:root:cannot compute similarity with no input ['faggot']\n",
      "WARNING:root:cannot compute similarity with no input ['marrakesh', 'morocco']\n",
      "WARNING:root:cannot compute similarity with no input []\n",
      "WARNING:root:cannot compute similarity with no input ['\\x80¦']\n",
      "WARNING:root:cannot compute similarity with no input ['â\\x98', 'amazingxshow']\n",
      "WARNING:root:cannot compute similarity with no input []\n",
      "WARNING:root:cannot compute similarity with no input ['swheeet', 'ð\\x9f\\x98\\x84ð\\x9f\\x91\\x8d']\n",
      "WARNING:root:cannot compute similarity with no input ['happysundayandenjoyallofit']\n",
      "WARNING:root:cannot compute similarity with no input ['laurie', 'bihday', 'anniversaire']\n",
      "WARNING:root:cannot compute similarity with no input ['amppulsevictims']\n",
      "WARNING:root:cannot compute similarity with no input ['ã\\x80\\x9cð\\x9f\\x8c·ð\\x9f\\x8c¼ð\\x9f\\x8c¹', 'whiteÂ¥', 'blackÂ¥', 'pinkÂ¥', 'skiÂ¥', '\\x80¦']\n",
      "WARNING:root:cannot compute similarity with no input ['iloveyouð\\x9f\\x92\\x8b']\n",
      "WARNING:root:cannot compute similarity with no input ['beð\\x9f\\x92\\x93', 'ð\\x9f\\x92\\x93']\n",
      "WARNING:root:cannot compute similarity with no input ['ð\\x9f\\x8c´ð\\x9f\\x93¸ð\\x9f\\x8c´', '\\x80¦']\n",
      "WARNING:root:cannot compute similarity with no input ['ð\\x9f\\x91\\x8að\\x9f\\x8f¼ð\\x9f\\x92ªð\\x9f\\x8f¼', '\\x80¦']\n",
      "WARNING:root:cannot compute similarity with no input ['bodytemple', 'bsð\\x9f\\x99\\x84', 'â\\x80¦']\n",
      "WARNING:root:cannot compute similarity with no input ['heil', '14', '88']\n",
      "WARNING:root:cannot compute similarity with no input ['adele']\n",
      "WARNING:root:cannot compute similarity with no input []\n",
      "WARNING:root:cannot compute similarity with no input []\n",
      "WARNING:root:cannot compute similarity with no input ['faggot']\n",
      "WARNING:root:cannot compute similarity with no input ['ð\\x9f\\x94\\x9d', 'toptags', '\\x80¦']\n",
      "WARNING:root:cannot compute similarity with no input ['ð\\x9f\\x8c\\x9a', 'famagusta', 'cyprus']\n",
      "WARNING:root:cannot compute similarity with no input ['ð\\x9f\\x8e\\x8a', '\\x81¾ã\\x81\\x84', 'bihdayâ\\x9d¤ï¸\\x8e', '\\x9b¸æ£\\x92', '\\x81\\x93ã\\x82\\x8cã\\x81\\x8bã\\x82\\x89ã\\x82\\x82ã\\x82\\x88ã\\x82\\x8dã\\x81\\x97ã\\x81\\x8fð\\x9f\\x99\\x8fð\\x9f\\x8f']\n",
      "WARNING:root:cannot compute similarity with no input ['rotterdam', 'â\\x80¢', 'socafrenzy', 'â\\x80¢', 'ð\\x9f\\x92\\x83ð\\x9f\\x8f¿ð\\x9f\\x92\\x83ð\\x9f\\x8f¿ð\\x9f\\x92\\x83ð\\x9f\\x8f¿', 'â\\x80¢â\\x80¢â\\x80¢â\\x80¢â\\x80¢â\\x80¢â\\x80¢â\\x80¢â\\x80¢â\\x80¢â\\x80¢â\\x80¢â\\x80¢â\\x80¢â\\x80¢â\\x80¢â\\x80¢â\\x80¢â\\x80¢â\\x80¢â\\x80¢â\\x80¢â\\x80¢â\\x80¢â\\x80¢â\\x80¢â\\x80¢â\\x80¢â\\x80¢â\\x80¢â\\x80¢â\\x80¢â\\x80¢â\\x80¢â\\x80¢â\\x80¢â\\x80¢â\\x80¢â\\x80¢â\\x80¢â\\x80¢', 'â\\x80¦']\n",
      "WARNING:root:cannot compute similarity with no input ['\\x80¦']\n",
      "WARNING:root:cannot compute similarity with no input ['ð\\x9f\\x8d\\x8bð\\x9f\\x8d\\x8dð\\x9f\\x8d\\x8fð\\x9f\\x8d\\x88fruit', 'að\\x9f\\x8d\\x89ð\\x9f\\x8d\\x93ð\\x9f\\x8d\\x8að\\x9f\\x8d\\x87', '\\x9c\\x9dé£\\x9fã\\x82\\x8aã\\x82\\x93ã\\x81\\x94ã\\x81§ã\\x81\\x8aã\\x81¯ã\\x82\\x88ã\\x81\\x86', 'æ\\x9c\\x9då¾¡é£¯']\n",
      "WARNING:root:cannot compute similarity with no input ['anothr', '\\x9f\\x9a½â\\x80¦']\n",
      "WARNING:root:cannot compute similarity with no input ['\\x80¦']\n",
      "WARNING:root:cannot compute similarity with no input ['wpww', '14', '88']\n",
      "WARNING:root:cannot compute similarity with no input ['motha']\n",
      "WARNING:root:cannot compute similarity with no input ['faggot']\n",
      "WARNING:root:cannot compute similarity with no input ['friendzone', '\\x80¦']\n",
      "WARNING:root:cannot compute similarity with no input ['amploveland', '±a', 'ð\\x9f\\x98\\x8d']\n",
      "WARNING:root:cannot compute similarity with no input []\n",
      "WARNING:root:cannot compute similarity with no input ['dragoneducation']\n",
      "WARNING:root:cannot compute similarity with no input ['ð\\x9f\\x98\\x84', 'toptags', 'â\\x80¦']\n",
      "WARNING:root:cannot compute similarity with no input ['prettyboy', 'mca', 'mulan']\n",
      "WARNING:root:cannot compute similarity with no input ['ð\\x9f\\x98\\x8dð\\x9f\\x92¨ð\\x9f\\x92¨im', 'provaper']\n",
      "WARNING:root:cannot compute similarity with no input ['lozza', 'ð\\x9f\\x8d¹ð\\x9f\\x8d¦â\\x98\\x80ï¸\\x8f', 'â\\x80¦']\n",
      "WARNING:root:cannot compute similarity with no input ['crewlove', '¤dels', '\\x9f\\x99\\x8cð\\x9f\\x8f¼ð\\x9f\\x98\\x9câ\\x9d¤ï¸\\x8f']\n",
      "WARNING:root:cannot compute similarity with no input ['ð\\x9f\\x91', 'toptags', 'â\\x80¦']\n",
      "WARNING:root:cannot compute similarity with no input ['\\x83\\x8fã\\x83\\x83ã\\x82', 'ã\\x83', 'ã\\x83\\x96ã\\x83©ã\\x83\\x83ã\\x83\\x89', '°\\x8fæ\\x9e\\x97æ¾\\x84æ\\x9e\\x9då\\x86\\x99ç\\x9c\\x9få®¶', '\\x81¾ã\\x81\\x97ã\\x81\\x8bã\\x81\\x8få\\x86\\x99ç\\x9c\\x9f', '\\x82¹ã\\x82¯ã\\x82¨ã\\x82¢', 'mdeafâ\\x80¦']\n",
      "WARNING:root:cannot compute similarity with no input ['lmfao', 'deadass', 'ð\\x9f\\x98¹']\n",
      "WARNING:root:cannot compute similarity with no input ['ihop']\n",
      "WARNING:root:cannot compute similarity with no input ['bihday', 'ð\\x9f\\x8e\\x82ð\\x9f\\x8e\\x88ð\\x9f\\x8e\\x88ð\\x9f\\x8e\\x88ð\\x9f\\x8e\\x89']\n",
      "WARNING:root:cannot compute similarity with no input ['ampthequeue']\n",
      "WARNING:root:cannot compute similarity with no input ['ð\\x9f\\x94\\x9cð\\x9f\\x91¸ð\\x9f\\x8f¼', 'snapchat', 'barbiets', 'ð\\x9f\\x91', '\\x80¦']\n",
      "WARNING:root:cannot compute similarity with no input ['faggot']\n",
      "WARNING:root:cannot compute similarity with no input ['ð\\x9f\\x92\\x95ð\\x9f\\x8d\\x91love', 'girlsð\\x9f\\x92\\x95ð\\x9f\\x8d\\x91', '\\x80¦']\n",
      "WARNING:root:cannot compute similarity with no input ['disneyyyy', 'ð\\x9f\\x92\\x95', '\\x80¦']\n",
      "WARNING:root:cannot compute similarity with no input ['relaxationð\\x9f\\x8c¾ð\\x9f\\x90¸ð\\x9f\\x8c\\x8a', '\\x80¦']\n",
      "WARNING:root:cannot compute similarity with no input ['ð\\x9f\\x92\\x9c', 'bihdayswayð\\x9f\\x92\\x9c', 'ð\\x9f\\x92\\x9b', 'bihdayswayð\\x9f\\x92\\x9b', 'ð\\x9f\\x92\\x99', 'bihdayswayð\\x9f\\x92\\x99', 'ð\\x9f\\x92\\x97', 'bihdayswayð\\x9f\\x92\\x97']\n",
      "WARNING:root:cannot compute similarity with no input ['whatswrong']\n",
      "WARNING:root:cannot compute similarity with no input []\n",
      "WARNING:root:cannot compute similarity with no input ['equipo', 'crossfit', '\\x80¦']\n",
      "WARNING:root:cannot compute similarity with no input ['niellð\\x9f\\x92¯ð\\x9f\\x92\\x95ð\\x9f\\x99\\x88ð\\x9f\\x98\\x98ð\\x9f\\x99\\x87ð\\x9f\\x8f', '\\x98ºï¸\\x8f']\n",
      "WARNING:root:cannot compute similarity with no input ['blackampwhiteð\\x9f\\x93¸', '\\x80¦']\n",
      "WARNING:root:cannot compute similarity with no input []\n",
      "WARNING:root:cannot compute similarity with no input ['positivevibesonly', '\\x9f\\x92\\x96']\n",
      "WARNING:root:cannot compute similarity with no input ['â\\x98\\x80ï¸\\x8fð\\x9f\\x8c´', '\\x83\\x97ã\\x83ªã\\x82¯ã\\x83©', '\\x8b¥ã\\x81\\x84ã\\x81ª', 'funabashi', 'chiba']\n",
      "WARNING:root:cannot compute similarity with no input ['foy', 'arep', 'exigences']\n",
      "WARNING:root:cannot compute similarity with no input ['smarkð\\x9f\\x92\\x8bâ\\x99¡', '\\x94¾èª²å¾\\x8c']\n",
      "WARNING:root:cannot compute similarity with no input ['ð\\x9f\\x94\\x9d', 'toptags', '\\x80¦']\n",
      "WARNING:root:cannot compute similarity with no input ['haahhh', 'ð\\x9f\\x98\\x84']\n",
      "WARNING:root:cannot compute similarity with no input ['nooltham', '\\x80¦']\n",
      "WARNING:root:cannot compute similarity with no input ['quotestagsapp']\n",
      "WARNING:root:cannot compute similarity with no input ['yepp', 'escapinqlifee']\n",
      "WARNING:root:cannot compute similarity with no input ['repostð\\x9f\\x8cºsoffierose', 'ð\\x9f\\x98\\x98ð\\x9f\\x98\\x98', '\\x80¦']\n",
      "WARNING:root:cannot compute similarity with no input ['likrichmond', '\\x80¦']\n",
      "WARNING:root:cannot compute similarity with no input ['gtgtgtgtgtgtgtgtgtgtgtgtgtgtgtgtgtgtgtgtgtgtgtgtgtgtgtgtgtgtgtgtgtgtgtgt', '\\x8cå®®å\\x92\\x8cä¹\\x9f', 'bihday', '\\x84\\x9bã\\x82\\x92å\\x8f', 'ã\\x81¹', '\\xad³â\\x80¦']\n",
      "WARNING:root:cannot compute similarity with no input ['ð\\x9f\\x92\\x9bð\\x9f\\x92\\x9bð\\x9f\\x92\\x9bð\\x9f\\x92\\x9bð\\x9f\\x92\\x9bð\\x9f\\x92\\x9bð\\x9f\\x92\\x9bð\\x9f\\x92\\x9bð\\x9f\\x92\\x9bð\\x9f\\x92\\x9bð\\x9f\\x92\\x9b', '\\x8cå®®å\\x92\\x8cä¹\\x9f', 'bihday', 'ð\\x9f\\x92\\x9bð\\x9f\\x92\\x9bð\\x9f\\x92\\x9bð\\x9f\\x92\\x9bð\\x9f\\x92\\x9bð\\x9f\\x92\\x9bð\\x9f\\x92\\x9bð\\x9f\\x92\\x9bð\\x9f\\x92\\x9bð\\x9f\\x92\\x9bð\\x9f\\x92\\x9b']\n",
      "WARNING:root:cannot compute similarity with no input ['bihday', 'jesy']\n",
      "WARNING:root:cannot compute similarity with no input ['\\x80¦']\n",
      "WARNING:root:cannot compute similarity with no input ['â\\x9c\\x8cð\\x9f\\x94¥ð\\x9f\\x94¥ð\\x9f\\x94\\x9d', 'toptags', '\\x80¦']\n",
      "WARNING:root:cannot compute similarity with no input ['abtofficial', 'â\\x9d¤ï¸\\x8fâ\\x80¦']\n",
      "WARNING:root:cannot compute similarity with no input ['hititonthehead', 'needtoreallyreadaboutherbackgroundevenifitsonlyforcompare']\n",
      "WARNING:root:cannot compute similarity with no input ['ð\\x9f\\x94\\x9d', 'toptags', '\\x80¦']\n",
      "WARNING:root:cannot compute similarity with no input ['ð\\x9f\\x92\\x81ð\\x9f\\x8f', 'ð\\x9f\\x92\\x81ð\\x9f\\x8f½ð\\x9f\\x92\\x81ð\\x9f\\x8f¿ð\\x9f\\x92\\x81ð\\x9f\\x8f¼ð\\x9f\\x8e\\x80ð\\x9f\\x99\\x8cð\\x9f\\x8f¼ð\\x9f\\x92', 'ð\\x9f\\x8f¼ð\\x9f\\x91\\x84ð\\x9f\\x91', 'ð\\x9f\\x91\\x99ð\\x9f\\x91\\x98ð\\x9f\\x92\\x84ð\\x9f\\x92\\x8bð\\x9f\\x91', 'ð\\x9f\\x92\\x8d', '\\x80¦']\n",
      "WARNING:root:cannot compute similarity with no input []\n",
      "WARNING:root:cannot compute similarity with no input ['kharkov', 'ukraine']\n",
      "WARNING:root:cannot compute similarity with no input ['ç\\x88\\x86ç¬\\x91ã\\x80\\x82']\n",
      "WARNING:root:cannot compute similarity with no input ['ð\\x9f\\x94\\x9d', 'toptags', '\\x80¦']\n",
      "WARNING:root:cannot compute similarity with no input ['85', '362', '228', '275']\n",
      "WARNING:root:cannot compute similarity with no input ['bihday', '\\x8f\\x8dæ\\x8a\\x97æ\\x9c\\x9f', '\\x82\\x84ã\\x81£ã\\x81¨ã\\x81\\x97ã\\x81¦ã\\x81\\x8fã\\x82\\x8cã\\x81\\x9f', '\\x81¥å¤ªã\\x83\\x9dã\\x83¼ã\\x82º', '¬\\x91', 'ã\\x82\\x93ã\\x81\\x98ã\\x82\\x83ã\\x82\\x89ã\\x82\\x89ã\\x81°ã\\x81\\x84â\\x98\\x86']\n",
      "WARNING:root:cannot compute similarity with no input ['newnewnew']\n",
      "WARNING:root:cannot compute similarity with no input ['britmumspics', 'â\\x80¦']\n",
      "WARNING:root:cannot compute similarity with no input ['Â°ð\\x9f\\x8c¹ð\\x9f\\x8c¿ð\\x9f\\x8c¹ð\\x9f\\x8c¿ð\\x9f\\x8c¹ð\\x9f\\x8c¿ð\\x9f\\x8c¹ð\\x9f\\x8c¿ð\\x9f\\x8c¹ð\\x9f\\x8c¿ð\\x9f\\x8c¹ð\\x9f\\x8c¿ð\\x9f\\x8c¹ð\\x9f\\x8c¿ð\\x9f\\x8c¹Â°', 'Â°â\\x80¢â\\x97\\x8bâ\\x97\\x8fâ\\x98\\x86daysÂ°â\\x80¢â\\x97\\x8bâ\\x97\\x8fâ\\x98\\x86']\n",
      "WARNING:root:cannot compute similarity with no input ['selfie']\n",
      "WARNING:root:cannot compute similarity with no input ['ð\\x9f\\x93¹', 'sadwav']\n",
      "WARNING:root:cannot compute similarity with no input ['\\x80¦']\n",
      "WARNING:root:cannot compute similarity with no input ['adamson', 'ð\\x9f\\x92\\x97']\n",
      "WARNING:root:cannot compute similarity with no input ['caic', 'carlos', 'drummond', 'andrade']\n",
      "WARNING:root:cannot compute similarity with no input ['hologramð\\x9f\\x8c\\x88', '\\x80¦']\n",
      "WARNING:root:cannot compute similarity with no input ['ð\\x9f\\x8d®', 'ð\\x9f\\x8d®', 'â\\x80¦']\n",
      "WARNING:root:cannot compute similarity with no input ['happyramadhanð\\x9f\\x98\\x82ð\\x9f\\x98\\x8að\\x9f\\x98\\x89']\n",
      "WARNING:root:cannot compute similarity with no input ['appletstag', '\\x80¦']\n",
      "WARNING:root:cannot compute similarity with no input ['\\x80¦']\n",
      "WARNING:root:cannot compute similarity with no input ['wohoo']\n",
      "WARNING:root:cannot compute similarity with no input ['sundayð\\x9f\\x92\\x95']\n",
      "WARNING:root:cannot compute similarity with no input ['whoopppp', '\\x80¦']\n",
      "WARNING:root:cannot compute similarity with no input ['linstagram', 'ð\\x9f\\x8c¸ð\\x9f\\x8d¦ð\\x9f\\x91\\xadð\\x9f\\x8d¨ð\\x9f\\x8c¸']\n",
      "WARNING:root:cannot compute similarity with no input ['vincent', 'and', 'pablo']\n",
      "WARNING:root:cannot compute similarity with no input ['sorria', 'ð\\x9f\\x98\\x83â\\x98º', '\\x80¦']\n",
      "WARNING:root:cannot compute similarity with no input ['lanham', 'maryland']\n",
      "WARNING:root:cannot compute similarity with no input ['selfie', 'backstageð\\x9f\\x98\\x8eð\\x9f\\x98\\x8cð\\x9f\\x8e', 'ð\\x9f\\x8e¶â\\x9d¤ï¸\\x8f']\n",
      "WARNING:root:cannot compute similarity with no input ['selamat', 'malam', 'ð\\x9f\\x8c¹']\n",
      "WARNING:root:cannot compute similarity with no input ['beð\\x9f\\x92\\x93', 'ð\\x9f\\x92\\x93']\n",
      "WARNING:root:cannot compute similarity with no input ['happybihdayð\\x9f\\x8e\\x82ð\\x9f\\x8e\\x89ð\\x9f\\x92\\x9e', 'bihay', '¤§é\\x98ª\\x9f\\x8d¾\\x9f\\x8e\\x82']\n",
      "WARNING:root:cannot compute similarity with no input ['goodmorning', 'ð\\x9f\\x98\\x83ð\\x9f\\x98\\x83', 'ð\\x9f\\x8d\\x89ð\\x9f\\x8d\\x87ð\\x9f\\x8d\\x92ð\\x9f\\x98\\x98']\n",
      "WARNING:root:cannot compute similarity with no input ['camiilabeckeer', '§Ã£oeparceria', '\\x80¦']\n",
      "WARNING:root:cannot compute similarity with no input ['ð\\x9f\\x94\\x9d', 'toptags', '\\x80¦']\n",
      "WARNING:root:cannot compute similarity with no input ['\\x82\\x82ã\\x82\\x82ã\\x81\\x93', '\\x9c\\x88æ\\x97¥', 'bihday']\n",
      "WARNING:root:cannot compute similarity with no input ['morea']\n",
      "WARNING:root:cannot compute similarity with no input ['Jennas', 'faggot']\n",
      "WARNING:root:cannot compute similarity with no input ['\\x80¦']\n",
      "WARNING:root:cannot compute similarity with no input ['ð\\x9f\\x98\\x82', 'â\\x8f³', 'ð\\x9f\\x91', 'ð\\x9f\\x94\\x9d', 'toptags', 'â\\x80¦']\n",
      "WARNING:root:cannot compute similarity with no input ['yessss', 'chrishon', 'â\\x80¼ï¸\\x8f', 'ð\\x9f\\x98\\x8dð\\x9f\\x98\\x82ð\\x9f\\x99\\x8cð\\x9f\\x8f¾']\n",
      "WARNING:root:cannot compute similarity with no input ['edinburgh']\n",
      "WARNING:root:cannot compute similarity with no input ['ð\\x9f\\x8d°', 'bihday']\n",
      "WARNING:root:cannot compute similarity with no input ['ð\\x9f\\x93¸', 'ð\\x9f\\x92\\x95', 'ð\\x9f\\x86\\x92', 'ð\\x9f\\x98\\x84', 'toptags', 'â\\x80¦']\n",
      "WARNING:root:cannot compute similarity with no input ['tgif', 'ð\\x9f\\x98\\x98']\n",
      "WARNING:root:cannot compute similarity with no input ['santagnese']\n",
      "WARNING:root:cannot compute similarity with no input ['faggot']\n",
      "WARNING:root:cannot compute similarity with no input ['ð\\x9f\\x93¹', 'bihday']\n",
      "WARNING:root:cannot compute similarity with no input ['gtgtgtgtyesterdayâ\\x9d¤â\\x9d¤â\\x9d¤']\n",
      "WARNING:root:cannot compute similarity with no input ['\\x9f\\x92\\x83ð\\x9f\\x8f', 'ð\\x9f\\x92\\x83ð\\x9f\\x8f', 'ð\\x9f\\x91¯ð\\x9f\\x91¯ð\\x9f\\x92\\x83ð\\x9f\\x8f', 'ð\\x9f\\x92\\x83ð\\x9f\\x8f', 'â\\x9c\\x8cð\\x9f\\x8f½ð\\x9f\\x98\\x8e']\n",
      "WARNING:root:cannot compute similarity with no input ['faggot']\n",
      "WARNING:root:cannot compute similarity with no input ['todaycoordinatesâ\\x9d¤ï¸\\x8e', '\\x80¦']\n",
      "WARNING:root:cannot compute similarity with no input ['mrrat', 'cptplanespotter', 'blackmaverick', 'spad', 'ufeellucky', 'bbavg', 'lumpie', 'horatiâ\\x80¦']\n",
      "WARNING:root:cannot compute similarity with no input ['happyð\\x9f\\x92\\x99', '\\x80¦']\n",
      "WARNING:root:cannot compute similarity with no input ['latepost', 'ð\\x9f\\x98\\x81', '\\x80¦']\n",
      "WARNING:root:cannot compute similarity with no input ['appletstag', '\\x80¦']\n"
     ]
    }
   ],
   "source": [
    "import gensim\n",
    "import logging\n",
    "def w2v_tokenize_text(text):\n",
    "    tokens = []\n",
    "    for sent in nltk.sent_tokenize(text, language='english'):\n",
    "        for word in nltk.word_tokenize(sent, language='english'):\n",
    "            if len(word) < 2:\n",
    "                continue\n",
    "            tokens.append(word)\n",
    "    return tokens\n",
    "    \n",
    "train, test = train_test_split(dftotal, test_size=0.3, random_state = 42)\n",
    "\n",
    "test_tokenized = test.apply(lambda r: w2v_tokenize_text(r['tweet']), axis=1).values\n",
    "train_tokenized = train.apply(lambda r: w2v_tokenize_text(r['tweet']), axis=1).values\n",
    "\n",
    "X_train_word_average = word_averaging_list(wv,train_tokenized)\n",
    "X_test_word_average = word_averaging_list(wv,test_tokenized)\n",
    "\n",
    "\n",
    "\n",
    "\n",
    "\n",
    "\n",
    "# def w2v_tokenize_text(text):\n",
    "#     tokens = []\n",
    "#     for sent in nltk.sent_tokenize(text, language='english'):\n",
    "#         for word in nltk.word_tokenize(sent, language='english'):\n",
    "#             if (len(word)<2):\n",
    "#                 continue\n",
    "#             tokens.append(word)\n",
    "#     return tokens\n",
    "    \n",
    "# train, test = train_test_split(df, test_size=0.3, random_state = 42)\n",
    "\n",
    "# test_tokenized = test.apply(lambda r: w2v_tokenize_text(r['article']), axis=1).values\n",
    "# train_tokenized = train.apply(lambda r: w2v_tokenize_text(r['article']), axis=1).values\n",
    "\n",
    "# X_train_word_average = word_averaging_list(wv,train_tokenized)\n",
    "# X_test_word_average = word_averaging_list(wv,test_tokenized)"
   ]
  },
  {
   "cell_type": "code",
   "execution_count": 74,
   "metadata": {},
   "outputs": [
    {
     "name": "stderr",
     "output_type": "stream",
     "text": [
      "C:\\Users\\hedi\\.conda\\envs\\factory619\\lib\\site-packages\\sklearn\\linear_model\\logistic.py:432: FutureWarning:\n",
      "\n",
      "Default solver will be changed to 'lbfgs' in 0.22. Specify a solver to silence this warning.\n",
      "\n"
     ]
    },
    {
     "name": "stdout",
     "output_type": "stream",
     "text": [
      "accuracy 0.8990028262144724\n",
      "              precision    recall  f1-score   support\n",
      "\n",
      "           0       0.90      0.95      0.92     12030\n",
      "           1       0.90      0.81      0.85      6723\n",
      "\n",
      "    accuracy                           0.90     18753\n",
      "   macro avg       0.90      0.88      0.89     18753\n",
      "weighted avg       0.90      0.90      0.90     18753\n",
      "\n"
     ]
    }
   ],
   "source": [
    "from sklearn.linear_model import LogisticRegression\n",
    "from sklearn.metrics import accuracy_score\n",
    "logreg = LogisticRegression(n_jobs=1, C=1e5)\n",
    "logreg = logreg.fit(X_train_word_average, train[\"class\"])\n",
    "y_pred = logreg.predict(X_test_word_average)\n",
    "print('accuracy %s' % accuracy_score(y_pred, test[\"class\"]))\n",
    "print(classification_report(test[\"class\"], y_pred))"
   ]
  },
  {
   "cell_type": "code",
   "execution_count": 75,
   "metadata": {},
   "outputs": [
    {
     "name": "stdout",
     "output_type": "stream",
     "text": [
      "Wall time: 1min 8s\n"
     ]
    },
    {
     "data": {
      "text/plain": [
       "XGBClassifier(base_score=0.5, booster=None, colsample_bylevel=1,\n",
       "              colsample_bynode=1, colsample_bytree=1, gamma=0, gpu_id=-1,\n",
       "              importance_type='gain', interaction_constraints=None,\n",
       "              learning_rate=0.300000012, max_delta_step=0, max_depth=6,\n",
       "              min_child_weight=1, missing=nan, monotone_constraints=None,\n",
       "              n_estimators=100, n_jobs=0, num_parallel_tree=1,\n",
       "              objective='binary:logistic', random_state=0, reg_alpha=0,\n",
       "              reg_lambda=1, scale_pos_weight=1, subsample=1, tree_method=None,\n",
       "              validate_parameters=False, verbosity=None)"
      ]
     },
     "execution_count": 75,
     "metadata": {},
     "output_type": "execute_result"
    }
   ],
   "source": [
    "\n",
    "%%time\n",
    "from xgboost import XGBClassifier\n",
    "# # train XGBoost model with default parameters\n",
    "my_model = XGBClassifier(objective ='reg:linear', colsample_bytree = 0.3, learning_rate = 0.1,max_depth = 5, alpha = 10, n_estimators = 300)\n",
    "model = XGBClassifier()\n",
    "model.fit(X_train_word_average, train[\"class\"] ,verbose=False)\n",
    "               \n",
    "# model.fit(X_train, y_train)\n",
    "# y_pred = model.predict(X_test)\n",
    "# print('accuracy %s' % accuracy_score(y_pred, test[\"subj or obj\"]))\n",
    "# # and save our model\n",
    "# my_model.save_model(\"xgboost_baseline.model\")"
   ]
  },
  {
   "cell_type": "code",
   "execution_count": 76,
   "metadata": {},
   "outputs": [
    {
     "name": "stdout",
     "output_type": "stream",
     "text": [
      "accuracy 0.898842851810377\n"
     ]
    }
   ],
   "source": [
    "y_pred = model.predict(X_test_word_average)\n",
    "print('accuracy %s' % accuracy_score(y_pred, test[\"class\"]))\n"
   ]
  },
  {
   "cell_type": "code",
   "execution_count": 77,
   "metadata": {},
   "outputs": [
    {
     "name": "stdout",
     "output_type": "stream",
     "text": [
      "[[11336   694]\n",
      " [ 1203  5520]]\n"
     ]
    },
    {
     "data": {
      "text/plain": [
       "<matplotlib.image.AxesImage at 0x1b03e783d88>"
      ]
     },
     "execution_count": 77,
     "metadata": {},
     "output_type": "execute_result"
    },
    {
     "data": {
      "text/plain": [
       "Text(0, 0, '11336')"
      ]
     },
     "execution_count": 77,
     "metadata": {},
     "output_type": "execute_result"
    },
    {
     "data": {
      "text/plain": [
       "Text(1, 0, '694')"
      ]
     },
     "execution_count": 77,
     "metadata": {},
     "output_type": "execute_result"
    },
    {
     "data": {
      "text/plain": [
       "Text(0, 1, '1203')"
      ]
     },
     "execution_count": 77,
     "metadata": {},
     "output_type": "execute_result"
    },
    {
     "data": {
      "text/plain": [
       "Text(1, 1, '5520')"
      ]
     },
     "execution_count": 77,
     "metadata": {},
     "output_type": "execute_result"
    },
    {
     "data": {
      "text/plain": [
       "Text(0.5, 0, 'predicted label')"
      ]
     },
     "execution_count": 77,
     "metadata": {},
     "output_type": "execute_result"
    },
    {
     "data": {
      "text/plain": [
       "Text(0, 0.5, 'true label')"
      ]
     },
     "execution_count": 77,
     "metadata": {},
     "output_type": "execute_result"
    },
    {
     "data": {
      "image/png": "[encoded data removed]",
      "text/plain": [
       "<Figure size 180x180 with 1 Axes>"
      ]
     },
     "metadata": {
      "needs_background": "light"
     },
     "output_type": "display_data"
    }
   ],
   "source": [
    "\n",
    "confmat = confusion_matrix(y_true=test[\"class\"], y_pred=y_pred)\n",
    "print(confmat)\n",
    "\n",
    "fig, ax = plt.subplots(figsize=(2.5, 2.5))\n",
    "ax.matshow(confmat, cmap='Greys', alpha=0.5)\n",
    "for i in range(confmat.shape[0]):\n",
    "    for j in range(confmat.shape[1]):\n",
    "        ax.text(x=j, y=i, s=confmat[i, j], va='center', ha='center')\n",
    "\n",
    "plt.xlabel('predicted label')\n",
    "plt.ylabel('true label')\n",
    "\n",
    "plt.tight_layout()\n",
    "plt.savefig('./confusion_matrix.png', dpi=300)\n",
    "plt.show()"
   ]
  },
  {
   "cell_type": "code",
   "execution_count": null,
   "metadata": {},
   "outputs": [],
   "source": []
  },
  {
   "cell_type": "code",
   "execution_count": null,
   "metadata": {},
   "outputs": [],
   "source": []
  },
  {
   "cell_type": "code",
   "execution_count": null,
   "metadata": {},
   "outputs": [],
   "source": []
  },
  {
   "cell_type": "code",
   "execution_count": null,
   "metadata": {},
   "outputs": [],
   "source": []
  },
  {
   "cell_type": "code",
   "execution_count": null,
   "metadata": {},
   "outputs": [],
   "source": []
  },
  {
   "cell_type": "code",
   "execution_count": 78,
   "metadata": {},
   "outputs": [
    {
     "ename": "NameError",
     "evalue": "name 'CountVectorizer' is not defined",
     "output_type": "error",
     "traceback": [
      "\u001b[1;31m---------------------------------------------------------------------------\u001b[0m",
      "\u001b[1;31mNameError\u001b[0m                                 Traceback (most recent call last)",
      "\u001b[1;32m<ipython-input-78-8c283655b178>\u001b[0m in \u001b[0;36m<module>\u001b[1;34m\u001b[0m\n\u001b[0;32m      2\u001b[0m \u001b[1;32mfrom\u001b[0m \u001b[0msklearn\u001b[0m\u001b[1;33m.\u001b[0m\u001b[0mlinear_model\u001b[0m \u001b[1;32mimport\u001b[0m \u001b[0mLogisticRegression\u001b[0m\u001b[1;33m\u001b[0m\u001b[1;33m\u001b[0m\u001b[0m\n\u001b[0;32m      3\u001b[0m \u001b[1;33m\u001b[0m\u001b[0m\n\u001b[1;32m----> 4\u001b[1;33m logreg = Pipeline([('vect', CountVectorizer()),\n\u001b[0m\u001b[0;32m      5\u001b[0m                 \u001b[1;33m(\u001b[0m\u001b[1;34m'tfidf'\u001b[0m\u001b[1;33m,\u001b[0m \u001b[0mTfidfTransformer\u001b[0m\u001b[1;33m(\u001b[0m\u001b[1;33m)\u001b[0m\u001b[1;33m)\u001b[0m\u001b[1;33m,\u001b[0m\u001b[1;33m\u001b[0m\u001b[1;33m\u001b[0m\u001b[0m\n\u001b[0;32m      6\u001b[0m                 \u001b[1;33m(\u001b[0m\u001b[1;34m'clf'\u001b[0m\u001b[1;33m,\u001b[0m \u001b[0mLogisticRegression\u001b[0m\u001b[1;33m(\u001b[0m\u001b[0mn_jobs\u001b[0m\u001b[1;33m=\u001b[0m\u001b[1;36m1\u001b[0m\u001b[1;33m,\u001b[0m \u001b[0mC\u001b[0m\u001b[1;33m=\u001b[0m\u001b[1;36m1e5\u001b[0m\u001b[1;33m)\u001b[0m\u001b[1;33m)\u001b[0m\u001b[1;33m,\u001b[0m\u001b[1;33m\u001b[0m\u001b[1;33m\u001b[0m\u001b[0m\n",
      "\u001b[1;31mNameError\u001b[0m: name 'CountVectorizer' is not defined"
     ]
    }
   ],
   "source": [
    "# #LogisticRegression\n",
    "# from sklearn.linear_model import LogisticRegression\n",
    "\n",
    "# logreg = Pipeline([('vect', CountVectorizer()),\n",
    "#                 ('tfidf', TfidfTransformer()),\n",
    "#                 ('clf', LogisticRegression(n_jobs=1, C=1e5)),\n",
    "#                ])\n",
    "# logreg.fit(X_train, y_train)\n",
    "\n",
    "\n",
    "# y_pred = logreg.predict(X_test)\n",
    "\n",
    "# print('accuracy %s' % accuracy_score(y_pred, y_test))\n",
    "# print(classification_report(y_test, y_pred))"
   ]
  },
  {
   "cell_type": "code",
   "execution_count": 34,
   "metadata": {},
   "outputs": [
    {
     "name": "stdout",
     "output_type": "stream",
     "text": [
      "accuracy 0.7912043574742788\n",
      "              precision    recall  f1-score   support\n",
      "\n",
      "           0       0.00      0.00      0.00       303\n",
      "           1       0.79      0.99      0.88      3816\n",
      "           2       0.76      0.16      0.27       838\n",
      "\n",
      "    accuracy                           0.79      4957\n",
      "   macro avg       0.52      0.39      0.38      4957\n",
      "weighted avg       0.74      0.79      0.72      4957\n",
      "\n"
     ]
    },
    {
     "name": "stderr",
     "output_type": "stream",
     "text": [
      "C:\\Users\\hedi\\.conda\\envs\\factory619\\lib\\site-packages\\sklearn\\metrics\\classification.py:1437: UndefinedMetricWarning:\n",
      "\n",
      "Precision and F-score are ill-defined and being set to 0.0 in labels with no predicted samples.\n",
      "\n"
     ]
    }
   ],
   "source": [
    "from sklearn.linear_model import SGDClassifier\n",
    "from sklearn.feature_extraction.text import CountVectorizer\n",
    "from sklearn.metrics import accuracy_score\n",
    "\n",
    "sgd = Pipeline([('vect', CountVectorizer()),\n",
    "                ('tfidf', TfidfTransformer()),\n",
    "                ('clf', SGDClassifier(loss='hinge', penalty='l2',alpha=1e-3, random_state=42, max_iter=5, tol=None)),\n",
    "               ])\n",
    "sgd.fit(text_train, y_train)\n",
    "\n",
    "\n",
    "y_pred = sgd.predict(text_test)\n",
    "\n",
    "print('accuracy %s' % accuracy_score(y_pred, y_test))\n",
    "print(classification_report(y_test, y_pred))"
   ]
  },
  {
   "cell_type": "code",
   "execution_count": 24,
   "metadata": {},
   "outputs": [
    {
     "name": "stdout",
     "output_type": "stream",
     "text": [
      "[[   0  315    8]\n",
      " [   0 3798   25]\n",
      " [   0  670  141]]\n"
     ]
    },
    {
     "data": {
      "image/png": "[encoded data removed]",
      "text/plain": [
       "<Figure size 180x180 with 1 Axes>"
      ]
     },
     "metadata": {
      "needs_background": "light"
     },
     "output_type": "display_data"
    }
   ],
   "source": [
    "\n",
    "confmat = confusion_matrix(y_true=y_test, y_pred=y_pred)\n",
    "print(confmat)\n",
    "\n",
    "fig, ax = plt.subplots(figsize=(2.5, 2.5))\n",
    "ax.matshow(confmat, cmap='Greys', alpha=0.5)\n",
    "for i in range(confmat.shape[0]):\n",
    "    for j in range(confmat.shape[1]):\n",
    "        ax.text(x=j, y=i, s=confmat[i, j], va='center', ha='center')\n",
    "\n",
    "plt.xlabel('predicted label')\n",
    "plt.ylabel('true label')\n",
    "\n",
    "plt.tight_layout()\n",
    "plt.savefig('./confusion_matrix.png', dpi=300)\n",
    "plt.show()"
   ]
  },
  {
   "cell_type": "code",
   "execution_count": 21,
   "metadata": {},
   "outputs": [
    {
     "data": {
      "text/html": [
       "<div>\n",
       "<style scoped>\n",
       "    .dataframe tbody tr th:only-of-type {\n",
       "        vertical-align: middle;\n",
       "    }\n",
       "\n",
       "    .dataframe tbody tr th {\n",
       "        vertical-align: top;\n",
       "    }\n",
       "\n",
       "    .dataframe thead th {\n",
       "        text-align: right;\n",
       "    }\n",
       "</style>\n",
       "<table border=\"1\" class=\"dataframe\">\n",
       "  <thead>\n",
       "    <tr style=\"text-align: right;\">\n",
       "      <th></th>\n",
       "      <th>count</th>\n",
       "      <th>hate_speech</th>\n",
       "      <th>offensive_language</th>\n",
       "      <th>neither</th>\n",
       "      <th>class</th>\n",
       "      <th>tweet</th>\n",
       "    </tr>\n",
       "  </thead>\n",
       "  <tbody>\n",
       "    <tr>\n",
       "      <td>0</td>\n",
       "      <td>6</td>\n",
       "      <td>0</td>\n",
       "      <td>5</td>\n",
       "      <td>1</td>\n",
       "      <td>1</td>\n",
       "      <td>I hate you sidelines hoes yall got so much c...</td>\n",
       "    </tr>\n",
       "    <tr>\n",
       "      <td>1</td>\n",
       "      <td>3</td>\n",
       "      <td>0</td>\n",
       "      <td>3</td>\n",
       "      <td>0</td>\n",
       "      <td>1</td>\n",
       "      <td>smh u got Ebola now RT I stick my foot out t...</td>\n",
       "    </tr>\n",
       "    <tr>\n",
       "      <td>2</td>\n",
       "      <td>3</td>\n",
       "      <td>0</td>\n",
       "      <td>0</td>\n",
       "      <td>3</td>\n",
       "      <td>2</td>\n",
       "      <td>Game  Preview Houston Astros at New York Yankees</td>\n",
       "    </tr>\n",
       "    <tr>\n",
       "      <td>3</td>\n",
       "      <td>3</td>\n",
       "      <td>0</td>\n",
       "      <td>3</td>\n",
       "      <td>0</td>\n",
       "      <td>1</td>\n",
       "      <td>These hoes aint loyal    man thats the realest...</td>\n",
       "    </tr>\n",
       "    <tr>\n",
       "      <td>4</td>\n",
       "      <td>3</td>\n",
       "      <td>0</td>\n",
       "      <td>3</td>\n",
       "      <td>0</td>\n",
       "      <td>1</td>\n",
       "      <td>Im elated i passed on my creative gene to my d...</td>\n",
       "    </tr>\n",
       "    <tr>\n",
       "      <td>...</td>\n",
       "      <td>...</td>\n",
       "      <td>...</td>\n",
       "      <td>...</td>\n",
       "      <td>...</td>\n",
       "      <td>...</td>\n",
       "      <td>...</td>\n",
       "    </tr>\n",
       "    <tr>\n",
       "      <td>24778</td>\n",
       "      <td>3</td>\n",
       "      <td>0</td>\n",
       "      <td>3</td>\n",
       "      <td>0</td>\n",
       "      <td>1</td>\n",
       "      <td>like a hoe gettin dick all day and then tonig...</td>\n",
       "    </tr>\n",
       "    <tr>\n",
       "      <td>24779</td>\n",
       "      <td>3</td>\n",
       "      <td>0</td>\n",
       "      <td>3</td>\n",
       "      <td>0</td>\n",
       "      <td>1</td>\n",
       "      <td>That pussy cant be that hairy shit gotta stink...</td>\n",
       "    </tr>\n",
       "    <tr>\n",
       "      <td>24780</td>\n",
       "      <td>3</td>\n",
       "      <td>0</td>\n",
       "      <td>3</td>\n",
       "      <td>0</td>\n",
       "      <td>1</td>\n",
       "      <td>youre a fucking pussy And no this isnt a jo...</td>\n",
       "    </tr>\n",
       "    <tr>\n",
       "      <td>24781</td>\n",
       "      <td>3</td>\n",
       "      <td>0</td>\n",
       "      <td>3</td>\n",
       "      <td>0</td>\n",
       "      <td>1</td>\n",
       "      <td>broke no even though Obama is working on it...</td>\n",
       "    </tr>\n",
       "    <tr>\n",
       "      <td>24782</td>\n",
       "      <td>3</td>\n",
       "      <td>3</td>\n",
       "      <td>0</td>\n",
       "      <td>0</td>\n",
       "      <td>0</td>\n",
       "      <td>You be totally correct Anthony Cant be livin ...</td>\n",
       "    </tr>\n",
       "  </tbody>\n",
       "</table>\n",
       "<p>24783 rows × 6 columns</p>\n",
       "</div>"
      ],
      "text/plain": [
       "       count  hate_speech  offensive_language  neither  class  \\\n",
       "0          6            0                   5        1      1   \n",
       "1          3            0                   3        0      1   \n",
       "2          3            0                   0        3      2   \n",
       "3          3            0                   3        0      1   \n",
       "4          3            0                   3        0      1   \n",
       "...      ...          ...                 ...      ...    ...   \n",
       "24778      3            0                   3        0      1   \n",
       "24779      3            0                   3        0      1   \n",
       "24780      3            0                   3        0      1   \n",
       "24781      3            0                   3        0      1   \n",
       "24782      3            3                   0        0      0   \n",
       "\n",
       "                                                   tweet  \n",
       "0        I hate you sidelines hoes yall got so much c...  \n",
       "1        smh u got Ebola now RT I stick my foot out t...  \n",
       "2      Game  Preview Houston Astros at New York Yankees   \n",
       "3      These hoes aint loyal    man thats the realest...  \n",
       "4      Im elated i passed on my creative gene to my d...  \n",
       "...                                                  ...  \n",
       "24778   like a hoe gettin dick all day and then tonig...  \n",
       "24779  That pussy cant be that hairy shit gotta stink...  \n",
       "24780     youre a fucking pussy And no this isnt a jo...  \n",
       "24781     broke no even though Obama is working on it...  \n",
       "24782   You be totally correct Anthony Cant be livin ...  \n",
       "\n",
       "[24783 rows x 6 columns]"
      ]
     },
     "execution_count": 21,
     "metadata": {},
     "output_type": "execute_result"
    }
   ],
   "source": [
    "#still  not good  result cause of  the  disbalence  of the dataset\n",
    "\n",
    "\n",
    "df\n"
   ]
  },
  {
   "cell_type": "code",
   "execution_count": 35,
   "metadata": {},
   "outputs": [
    {
     "name": "stdout",
     "output_type": "stream",
     "text": [
      "<class 'pandas.core.frame.DataFrame'>\n",
      "RangeIndex: 24783 entries, 0 to 24782\n",
      "Data columns (total 6 columns):\n",
      "count                 24783 non-null int64\n",
      "hate_speech           24783 non-null int64\n",
      "offensive_language    24783 non-null int64\n",
      "neither               24783 non-null int64\n",
      "class                 24783 non-null int64\n",
      "tweet                 24783 non-null object\n",
      "dtypes: int64(5), object(1)\n",
      "memory usage: 1.1+ MB\n"
     ]
    },
    {
     "data": {
      "text/plain": [
       "1    19190\n",
       "2     4163\n",
       "0     1430\n",
       "Name: class, dtype: int64"
      ]
     },
     "execution_count": 35,
     "metadata": {},
     "output_type": "execute_result"
    }
   ],
   "source": [
    "#Lstm first try\n",
    "df.info()\n",
    "df[\"class\"].value_counts()\n",
    "# df.class.value_counts()\n",
    "\n"
   ]
  },
  {
   "cell_type": "code",
   "execution_count": 178,
   "metadata": {},
   "outputs": [
    {
     "name": "stdout",
     "output_type": "stream",
     "text": [
      "Found 42203 unique tokens.\n"
     ]
    }
   ],
   "source": [
    "# The maximum number of words to be used. (most frequent)\n",
    "from keras.preprocessing.text import Tokenizer\n",
    "MAX_NB_WORDS = 50000\n",
    "# Max number of words in each complaint.\n",
    "MAX_SEQUENCE_LENGTH = 250\n",
    "# This is fixed.\n",
    "EMBEDDING_DIM = 100\n",
    "tokenizer = Tokenizer(num_words=MAX_NB_WORDS, filters='!\"#$%&()*+,-./:;<=>?@[\\]^_`{|}~', lower=True)\n",
    "tokenizer.fit_on_texts(df_tot['tweet'].values)\n",
    "word_index = tokenizer.word_index\n",
    "print('Found %s unique tokens.' % len(word_index))"
   ]
  },
  {
   "cell_type": "code",
   "execution_count": 37,
   "metadata": {},
   "outputs": [
    {
     "data": {
      "text/plain": [
       "21780"
      ]
     },
     "execution_count": 37,
     "metadata": {},
     "output_type": "execute_result"
    }
   ],
   "source": [
    "len(word_index)"
   ]
  },
  {
   "cell_type": "code",
   "execution_count": 179,
   "metadata": {},
   "outputs": [
    {
     "name": "stdout",
     "output_type": "stream",
     "text": [
      "Shape of data tensor: (62507, 250)\n"
     ]
    }
   ],
   "source": [
    "from  keras.preprocessing.sequence import pad_sequences\n",
    "X = tokenizer.texts_to_sequences(df_tot['tweet'].values)\n",
    "X = pad_sequences(X, maxlen=MAX_SEQUENCE_LENGTH)\n",
    "print('Shape of data tensor:', X.shape)"
   ]
  },
  {
   "cell_type": "code",
   "execution_count": 180,
   "metadata": {},
   "outputs": [
    {
     "name": "stdout",
     "output_type": "stream",
     "text": [
      "Shape of label tensor: (62507, 2)\n"
     ]
    }
   ],
   "source": [
    "Y = pd.get_dummies(df_tot['class']).values\n",
    "print('Shape of label tensor:', Y.shape)\n"
   ]
  },
  {
   "cell_type": "code",
   "execution_count": 181,
   "metadata": {},
   "outputs": [
    {
     "name": "stdout",
     "output_type": "stream",
     "text": [
      "(56256, 250) (56256, 2)\n",
      "(6251, 250) (6251, 2)\n"
     ]
    }
   ],
   "source": [
    "X_train, X_test, Y_train, Y_test = train_test_split(X,Y, test_size = 0.10, random_state = 42)\n",
    "print(X_train.shape,Y_train.shape)\n",
    "print(X_test.shape,Y_test.shape)"
   ]
  },
  {
   "cell_type": "code",
   "execution_count": 165,
   "metadata": {},
   "outputs": [
    {
     "data": {
      "text/html": [
       "        <script type=\"text/javascript\">\n",
       "        window.PlotlyConfig = {MathJaxConfig: 'local'};\n",
       "        if (window.MathJax) {MathJax.Hub.Config({SVG: {font: \"STIX-Web\"}});}\n",
       "        if (typeof require !== 'undefined') {\n",
       "        require.undef(\"plotly\");\n",
       "        requirejs.config({\n",
       "            paths: {\n",
       "                'plotly': ['https://cdn.plot.ly/plotly-latest.min']\n",
       "            }\n",
       "        });\n",
       "        require(['plotly'], function(Plotly) {\n",
       "            window._Plotly = Plotly;\n",
       "        });\n",
       "        }\n",
       "        </script>\n",
       "        "
      ]
     },
     "metadata": {},
     "output_type": "display_data"
    }
   ],
   "source": [
    "import seaborn as sns\n",
    "from keras.preprocessing.text import Tokenizer\n",
    "from keras.preprocessing.sequence import pad_sequences\n",
    "from keras.models import Sequential\n",
    "from keras.layers import Dense, Embedding, LSTM, SpatialDropout1D\n",
    "from sklearn.model_selection import train_test_split\n",
    "from keras.utils.np_utils import to_categorical\n",
    "from keras.callbacks import EarlyStopping\n",
    "from keras.layers import Dropout\n",
    "import re\n",
    "from nltk.corpus import stopwords\n",
    "from nltk import word_tokenize\n",
    "STOPWORDS = set(stopwords.words('english'))\n",
    "from bs4 import BeautifulSoup\n",
    "import plotly.graph_objs as go\n",
    "# import plotly.plotly as py\n",
    "import cufflinks\n",
    "from IPython.core.interactiveshell import InteractiveShell\n",
    "import plotly.figure_factory as ff\n",
    "InteractiveShell.ast_node_interactivity = 'all'\n",
    "from plotly.offline import iplot\n",
    "cufflinks.go_offline()\n",
    "cufflinks.set_config_file(world_readable=True, theme='pearl')"
   ]
  },
  {
   "cell_type": "code",
   "execution_count": null,
   "metadata": {},
   "outputs": [],
   "source": []
  },
  {
   "cell_type": "code",
   "execution_count": null,
   "metadata": {},
   "outputs": [
    {
     "name": "stderr",
     "output_type": "stream",
     "text": [
      "C:\\Users\\hedi\\AppData\\Roaming\\Python\\Python37\\site-packages\\tensorflow_core\\python\\framework\\indexed_slices.py:433: UserWarning:\n",
      "\n",
      "Converting sparse IndexedSlices to a dense Tensor of unknown shape. This may consume a large amount of memory.\n",
      "\n"
     ]
    },
    {
     "name": "stdout",
     "output_type": "stream",
     "text": [
      "Train on 50630 samples, validate on 5626 samples\n",
      "Epoch 1/5\n",
      "39000/50630 [======================>.......] - ETA: 10:15 - loss: 0.3452 - accuracy: 0.8513"
     ]
    },
    {
     "name": "stderr",
     "output_type": "stream",
     "text": [
      "ERROR:root:Internal Python error in the inspect module.\n",
      "Below is the traceback from this internal error.\n",
      "\n"
     ]
    },
    {
     "name": "stdout",
     "output_type": "stream",
     "text": [
      "Traceback (most recent call last):\n",
      "  File \"C:\\Users\\hedi\\.conda\\envs\\factory619\\lib\\site-packages\\IPython\\core\\interactiveshell.py\", line 3326, in run_code\n",
      "    exec(code_obj, self.user_global_ns, self.user_ns)\n",
      "  File \"<ipython-input-187-fffb0a7c7dc0>\", line 13, in <module>\n",
      "    history = model.fit(X_train, Y_train, epochs=epochs, batch_size=batch_size,validation_split=0.1,callbacks=[EarlyStopping(monitor='val_loss', patience=3, min_delta=0.0001)])\n",
      "  File \"C:\\Users\\hedi\\.conda\\envs\\factory619\\lib\\site-packages\\keras\\engine\\training.py\", line 1239, in fit\n",
      "    validation_freq=validation_freq)\n",
      "  File \"C:\\Users\\hedi\\.conda\\envs\\factory619\\lib\\site-packages\\keras\\engine\\training_arrays.py\", line 196, in fit_loop\n",
      "    outs = fit_function(ins_batch)\n",
      "  File \"C:\\Users\\hedi\\AppData\\Roaming\\Python\\Python37\\site-packages\\tensorflow_core\\python\\keras\\backend.py\", line 3727, in __call__\n",
      "    outputs = self._graph_fn(*converted_inputs)\n",
      "  File \"C:\\Users\\hedi\\AppData\\Roaming\\Python\\Python37\\site-packages\\tensorflow_core\\python\\eager\\function.py\", line 1551, in __call__\n",
      "    return self._call_impl(args, kwargs)\n",
      "  File \"C:\\Users\\hedi\\AppData\\Roaming\\Python\\Python37\\site-packages\\tensorflow_core\\python\\eager\\function.py\", line 1591, in _call_impl\n",
      "    return self._call_flat(args, self.captured_inputs, cancellation_manager)\n",
      "  File \"C:\\Users\\hedi\\AppData\\Roaming\\Python\\Python37\\site-packages\\tensorflow_core\\python\\eager\\function.py\", line 1692, in _call_flat\n",
      "    ctx, args, cancellation_manager=cancellation_manager))\n",
      "  File \"C:\\Users\\hedi\\AppData\\Roaming\\Python\\Python37\\site-packages\\tensorflow_core\\python\\eager\\function.py\", line 545, in call\n",
      "    ctx=ctx)\n",
      "  File \"C:\\Users\\hedi\\AppData\\Roaming\\Python\\Python37\\site-packages\\tensorflow_core\\python\\eager\\execute.py\", line 61, in quick_execute\n",
      "    num_outputs)\n",
      "KeyboardInterrupt\n",
      "\n",
      "During handling of the above exception, another exception occurred:\n",
      "\n",
      "Traceback (most recent call last):\n",
      "  File \"C:\\Users\\hedi\\.conda\\envs\\factory619\\lib\\site-packages\\IPython\\core\\interactiveshell.py\", line 3329, in run_code\n",
      "    sys.excepthook = old_excepthook\n",
      "KeyboardInterrupt\n",
      "\n",
      "During handling of the above exception, another exception occurred:\n",
      "\n",
      "Traceback (most recent call last):\n",
      "  File \"C:\\Users\\hedi\\.conda\\envs\\factory619\\lib\\site-packages\\IPython\\core\\interactiveshell.py\", line 2040, in showtraceback\n",
      "    stb = value._render_traceback_()\n",
      "AttributeError: 'KeyboardInterrupt' object has no attribute '_render_traceback_'\n",
      "\n",
      "During handling of the above exception, another exception occurred:\n",
      "\n",
      "Traceback (most recent call last):\n",
      "  File \"C:\\Users\\hedi\\.conda\\envs\\factory619\\lib\\site-packages\\IPython\\core\\ultratb.py\", line 1101, in get_records\n",
      "    return _fixed_getinnerframes(etb, number_of_lines_of_context, tb_offset)\n",
      "  File \"C:\\Users\\hedi\\.conda\\envs\\factory619\\lib\\site-packages\\IPython\\core\\ultratb.py\", line 319, in wrapped\n",
      "    return f(*args, **kwargs)\n",
      "  File \"C:\\Users\\hedi\\.conda\\envs\\factory619\\lib\\site-packages\\IPython\\core\\ultratb.py\", line 365, in _fixed_getinnerframes\n",
      "    aux = traceback.extract_tb(etb)\n",
      "  File \"C:\\Users\\hedi\\.conda\\envs\\factory619\\lib\\traceback.py\", line 72, in extract_tb\n",
      "    return StackSummary.extract(walk_tb(tb), limit=limit)\n",
      "  File \"C:\\Users\\hedi\\.conda\\envs\\factory619\\lib\\traceback.py\", line 363, in extract\n",
      "    f.line\n",
      "  File \"C:\\Users\\hedi\\.conda\\envs\\factory619\\lib\\traceback.py\", line 285, in line\n",
      "    self._line = linecache.getline(self.filename, self.lineno).strip()\n",
      "  File \"C:\\Users\\hedi\\.conda\\envs\\factory619\\lib\\linecache.py\", line 16, in getline\n",
      "    lines = getlines(filename, module_globals)\n",
      "KeyboardInterrupt\n"
     ]
    },
    {
     "ename": "TypeError",
     "evalue": "can only concatenate str (not \"list\") to str",
     "output_type": "error",
     "traceback": [
      "\u001b[1;31m---------------------------------------------------------------------------\u001b[0m",
      "\u001b[1;31mKeyboardInterrupt\u001b[0m                         Traceback (most recent call last)",
      "\u001b[1;32m~\\.conda\\envs\\factory619\\lib\\site-packages\\IPython\\core\\interactiveshell.py\u001b[0m in \u001b[0;36mrun_code\u001b[1;34m(self, code_obj, result, async_)\u001b[0m\n\u001b[0;32m   3325\u001b[0m                 \u001b[1;32melse\u001b[0m\u001b[1;33m:\u001b[0m\u001b[1;33m\u001b[0m\u001b[1;33m\u001b[0m\u001b[0m\n\u001b[1;32m-> 3326\u001b[1;33m                     \u001b[0mexec\u001b[0m\u001b[1;33m(\u001b[0m\u001b[0mcode_obj\u001b[0m\u001b[1;33m,\u001b[0m \u001b[0mself\u001b[0m\u001b[1;33m.\u001b[0m\u001b[0muser_global_ns\u001b[0m\u001b[1;33m,\u001b[0m \u001b[0mself\u001b[0m\u001b[1;33m.\u001b[0m\u001b[0muser_ns\u001b[0m\u001b[1;33m)\u001b[0m\u001b[1;33m\u001b[0m\u001b[1;33m\u001b[0m\u001b[0m\n\u001b[0m\u001b[0;32m   3327\u001b[0m             \u001b[1;32mfinally\u001b[0m\u001b[1;33m:\u001b[0m\u001b[1;33m\u001b[0m\u001b[1;33m\u001b[0m\u001b[0m\n",
      "\u001b[1;32m<ipython-input-187-fffb0a7c7dc0>\u001b[0m in \u001b[0;36m<module>\u001b[1;34m\u001b[0m\n\u001b[0;32m     12\u001b[0m \u001b[1;33m\u001b[0m\u001b[0m\n\u001b[1;32m---> 13\u001b[1;33m \u001b[0mhistory\u001b[0m \u001b[1;33m=\u001b[0m \u001b[0mmodel\u001b[0m\u001b[1;33m.\u001b[0m\u001b[0mfit\u001b[0m\u001b[1;33m(\u001b[0m\u001b[0mX_train\u001b[0m\u001b[1;33m,\u001b[0m \u001b[0mY_train\u001b[0m\u001b[1;33m,\u001b[0m \u001b[0mepochs\u001b[0m\u001b[1;33m=\u001b[0m\u001b[0mepochs\u001b[0m\u001b[1;33m,\u001b[0m \u001b[0mbatch_size\u001b[0m\u001b[1;33m=\u001b[0m\u001b[0mbatch_size\u001b[0m\u001b[1;33m,\u001b[0m\u001b[0mvalidation_split\u001b[0m\u001b[1;33m=\u001b[0m\u001b[1;36m0.1\u001b[0m\u001b[1;33m,\u001b[0m\u001b[0mcallbacks\u001b[0m\u001b[1;33m=\u001b[0m\u001b[1;33m[\u001b[0m\u001b[0mEarlyStopping\u001b[0m\u001b[1;33m(\u001b[0m\u001b[0mmonitor\u001b[0m\u001b[1;33m=\u001b[0m\u001b[1;34m'val_loss'\u001b[0m\u001b[1;33m,\u001b[0m \u001b[0mpatience\u001b[0m\u001b[1;33m=\u001b[0m\u001b[1;36m3\u001b[0m\u001b[1;33m,\u001b[0m \u001b[0mmin_delta\u001b[0m\u001b[1;33m=\u001b[0m\u001b[1;36m0.0001\u001b[0m\u001b[1;33m)\u001b[0m\u001b[1;33m]\u001b[0m\u001b[1;33m)\u001b[0m\u001b[1;33m\u001b[0m\u001b[1;33m\u001b[0m\u001b[0m\n\u001b[0m",
      "\u001b[1;32m~\\.conda\\envs\\factory619\\lib\\site-packages\\keras\\engine\\training.py\u001b[0m in \u001b[0;36mfit\u001b[1;34m(self, x, y, batch_size, epochs, verbose, callbacks, validation_split, validation_data, shuffle, class_weight, sample_weight, initial_epoch, steps_per_epoch, validation_steps, validation_freq, max_queue_size, workers, use_multiprocessing, **kwargs)\u001b[0m\n\u001b[0;32m   1238\u001b[0m                                         \u001b[0mvalidation_steps\u001b[0m\u001b[1;33m=\u001b[0m\u001b[0mvalidation_steps\u001b[0m\u001b[1;33m,\u001b[0m\u001b[1;33m\u001b[0m\u001b[1;33m\u001b[0m\u001b[0m\n\u001b[1;32m-> 1239\u001b[1;33m                                         validation_freq=validation_freq)\n\u001b[0m\u001b[0;32m   1240\u001b[0m \u001b[1;33m\u001b[0m\u001b[0m\n",
      "\u001b[1;32m~\\.conda\\envs\\factory619\\lib\\site-packages\\keras\\engine\\training_arrays.py\u001b[0m in \u001b[0;36mfit_loop\u001b[1;34m(model, fit_function, fit_inputs, out_labels, batch_size, epochs, verbose, callbacks, val_function, val_inputs, shuffle, initial_epoch, steps_per_epoch, validation_steps, validation_freq)\u001b[0m\n\u001b[0;32m    195\u001b[0m \u001b[1;33m\u001b[0m\u001b[0m\n\u001b[1;32m--> 196\u001b[1;33m                 \u001b[0mouts\u001b[0m \u001b[1;33m=\u001b[0m \u001b[0mfit_function\u001b[0m\u001b[1;33m(\u001b[0m\u001b[0mins_batch\u001b[0m\u001b[1;33m)\u001b[0m\u001b[1;33m\u001b[0m\u001b[1;33m\u001b[0m\u001b[0m\n\u001b[0m\u001b[0;32m    197\u001b[0m                 \u001b[0mouts\u001b[0m \u001b[1;33m=\u001b[0m \u001b[0mto_list\u001b[0m\u001b[1;33m(\u001b[0m\u001b[0mouts\u001b[0m\u001b[1;33m)\u001b[0m\u001b[1;33m\u001b[0m\u001b[1;33m\u001b[0m\u001b[0m\n",
      "\u001b[1;32m~\\AppData\\Roaming\\Python\\Python37\\site-packages\\tensorflow_core\\python\\keras\\backend.py\u001b[0m in \u001b[0;36m__call__\u001b[1;34m(self, inputs)\u001b[0m\n\u001b[0;32m   3726\u001b[0m       \u001b[0mconverted_inputs\u001b[0m\u001b[1;33m.\u001b[0m\u001b[0mappend\u001b[0m\u001b[1;33m(\u001b[0m\u001b[0mvalue\u001b[0m\u001b[1;33m)\u001b[0m\u001b[1;33m\u001b[0m\u001b[1;33m\u001b[0m\u001b[0m\n\u001b[1;32m-> 3727\u001b[1;33m     \u001b[0moutputs\u001b[0m \u001b[1;33m=\u001b[0m \u001b[0mself\u001b[0m\u001b[1;33m.\u001b[0m\u001b[0m_graph_fn\u001b[0m\u001b[1;33m(\u001b[0m\u001b[1;33m*\u001b[0m\u001b[0mconverted_inputs\u001b[0m\u001b[1;33m)\u001b[0m\u001b[1;33m\u001b[0m\u001b[1;33m\u001b[0m\u001b[0m\n\u001b[0m\u001b[0;32m   3728\u001b[0m \u001b[1;33m\u001b[0m\u001b[0m\n",
      "\u001b[1;32m~\\AppData\\Roaming\\Python\\Python37\\site-packages\\tensorflow_core\\python\\eager\\function.py\u001b[0m in \u001b[0;36m__call__\u001b[1;34m(self, *args, **kwargs)\u001b[0m\n\u001b[0;32m   1550\u001b[0m     \"\"\"\n\u001b[1;32m-> 1551\u001b[1;33m     \u001b[1;32mreturn\u001b[0m \u001b[0mself\u001b[0m\u001b[1;33m.\u001b[0m\u001b[0m_call_impl\u001b[0m\u001b[1;33m(\u001b[0m\u001b[0margs\u001b[0m\u001b[1;33m,\u001b[0m \u001b[0mkwargs\u001b[0m\u001b[1;33m)\u001b[0m\u001b[1;33m\u001b[0m\u001b[1;33m\u001b[0m\u001b[0m\n\u001b[0m\u001b[0;32m   1552\u001b[0m \u001b[1;33m\u001b[0m\u001b[0m\n",
      "\u001b[1;32m~\\AppData\\Roaming\\Python\\Python37\\site-packages\\tensorflow_core\\python\\eager\\function.py\u001b[0m in \u001b[0;36m_call_impl\u001b[1;34m(self, args, kwargs, cancellation_manager)\u001b[0m\n\u001b[0;32m   1590\u001b[0m           list(kwargs.keys()), list(self._arg_keywords)))\n\u001b[1;32m-> 1591\u001b[1;33m     \u001b[1;32mreturn\u001b[0m \u001b[0mself\u001b[0m\u001b[1;33m.\u001b[0m\u001b[0m_call_flat\u001b[0m\u001b[1;33m(\u001b[0m\u001b[0margs\u001b[0m\u001b[1;33m,\u001b[0m \u001b[0mself\u001b[0m\u001b[1;33m.\u001b[0m\u001b[0mcaptured_inputs\u001b[0m\u001b[1;33m,\u001b[0m \u001b[0mcancellation_manager\u001b[0m\u001b[1;33m)\u001b[0m\u001b[1;33m\u001b[0m\u001b[1;33m\u001b[0m\u001b[0m\n\u001b[0m\u001b[0;32m   1592\u001b[0m \u001b[1;33m\u001b[0m\u001b[0m\n",
      "\u001b[1;32m~\\AppData\\Roaming\\Python\\Python37\\site-packages\\tensorflow_core\\python\\eager\\function.py\u001b[0m in \u001b[0;36m_call_flat\u001b[1;34m(self, args, captured_inputs, cancellation_manager)\u001b[0m\n\u001b[0;32m   1691\u001b[0m       return self._build_call_outputs(self._inference_function.call(\n\u001b[1;32m-> 1692\u001b[1;33m           ctx, args, cancellation_manager=cancellation_manager))\n\u001b[0m\u001b[0;32m   1693\u001b[0m     forward_backward = self._select_forward_and_backward_functions(\n",
      "\u001b[1;32m~\\AppData\\Roaming\\Python\\Python37\\site-packages\\tensorflow_core\\python\\eager\\function.py\u001b[0m in \u001b[0;36mcall\u001b[1;34m(self, ctx, args, cancellation_manager)\u001b[0m\n\u001b[0;32m    544\u001b[0m               \u001b[0mattrs\u001b[0m\u001b[1;33m=\u001b[0m\u001b[1;33m(\u001b[0m\u001b[1;34m\"executor_type\"\u001b[0m\u001b[1;33m,\u001b[0m \u001b[0mexecutor_type\u001b[0m\u001b[1;33m,\u001b[0m \u001b[1;34m\"config_proto\"\u001b[0m\u001b[1;33m,\u001b[0m \u001b[0mconfig\u001b[0m\u001b[1;33m)\u001b[0m\u001b[1;33m,\u001b[0m\u001b[1;33m\u001b[0m\u001b[1;33m\u001b[0m\u001b[0m\n\u001b[1;32m--> 545\u001b[1;33m               ctx=ctx)\n\u001b[0m\u001b[0;32m    546\u001b[0m         \u001b[1;32melse\u001b[0m\u001b[1;33m:\u001b[0m\u001b[1;33m\u001b[0m\u001b[1;33m\u001b[0m\u001b[0m\n",
      "\u001b[1;32m~\\AppData\\Roaming\\Python\\Python37\\site-packages\\tensorflow_core\\python\\eager\\execute.py\u001b[0m in \u001b[0;36mquick_execute\u001b[1;34m(op_name, num_outputs, inputs, attrs, ctx, name)\u001b[0m\n\u001b[0;32m     60\u001b[0m                                                \u001b[0mop_name\u001b[0m\u001b[1;33m,\u001b[0m \u001b[0minputs\u001b[0m\u001b[1;33m,\u001b[0m \u001b[0mattrs\u001b[0m\u001b[1;33m,\u001b[0m\u001b[1;33m\u001b[0m\u001b[1;33m\u001b[0m\u001b[0m\n\u001b[1;32m---> 61\u001b[1;33m                                                num_outputs)\n\u001b[0m\u001b[0;32m     62\u001b[0m   \u001b[1;32mexcept\u001b[0m \u001b[0mcore\u001b[0m\u001b[1;33m.\u001b[0m\u001b[0m_NotOkStatusException\u001b[0m \u001b[1;32mas\u001b[0m \u001b[0me\u001b[0m\u001b[1;33m:\u001b[0m\u001b[1;33m\u001b[0m\u001b[1;33m\u001b[0m\u001b[0m\n",
      "\u001b[1;31mKeyboardInterrupt\u001b[0m: ",
      "\nDuring handling of the above exception, another exception occurred:\n",
      "\u001b[1;31mKeyboardInterrupt\u001b[0m                         Traceback (most recent call last)",
      "\u001b[1;32m~\\.conda\\envs\\factory619\\lib\\site-packages\\IPython\\core\\interactiveshell.py\u001b[0m in \u001b[0;36mrun_code\u001b[1;34m(self, code_obj, result, async_)\u001b[0m\n\u001b[0;32m   3328\u001b[0m                 \u001b[1;31m# Reset our crash handler in place\u001b[0m\u001b[1;33m\u001b[0m\u001b[1;33m\u001b[0m\u001b[1;33m\u001b[0m\u001b[0m\n\u001b[1;32m-> 3329\u001b[1;33m                 \u001b[0msys\u001b[0m\u001b[1;33m.\u001b[0m\u001b[0mexcepthook\u001b[0m \u001b[1;33m=\u001b[0m \u001b[0mold_excepthook\u001b[0m\u001b[1;33m\u001b[0m\u001b[1;33m\u001b[0m\u001b[0m\n\u001b[0m\u001b[0;32m   3330\u001b[0m         \u001b[1;32mexcept\u001b[0m \u001b[0mSystemExit\u001b[0m \u001b[1;32mas\u001b[0m \u001b[0me\u001b[0m\u001b[1;33m:\u001b[0m\u001b[1;33m\u001b[0m\u001b[1;33m\u001b[0m\u001b[0m\n",
      "\u001b[1;31mKeyboardInterrupt\u001b[0m: ",
      "\nDuring handling of the above exception, another exception occurred:\n",
      "\u001b[1;31mAttributeError\u001b[0m                            Traceback (most recent call last)",
      "\u001b[1;32m~\\.conda\\envs\\factory619\\lib\\site-packages\\IPython\\core\\interactiveshell.py\u001b[0m in \u001b[0;36mshowtraceback\u001b[1;34m(self, exc_tuple, filename, tb_offset, exception_only, running_compiled_code)\u001b[0m\n\u001b[0;32m   2039\u001b[0m                         \u001b[1;31m# in the engines. This should return a list of strings.\u001b[0m\u001b[1;33m\u001b[0m\u001b[1;33m\u001b[0m\u001b[1;33m\u001b[0m\u001b[0m\n\u001b[1;32m-> 2040\u001b[1;33m                         \u001b[0mstb\u001b[0m \u001b[1;33m=\u001b[0m \u001b[0mvalue\u001b[0m\u001b[1;33m.\u001b[0m\u001b[0m_render_traceback_\u001b[0m\u001b[1;33m(\u001b[0m\u001b[1;33m)\u001b[0m\u001b[1;33m\u001b[0m\u001b[1;33m\u001b[0m\u001b[0m\n\u001b[0m\u001b[0;32m   2041\u001b[0m                     \u001b[1;32mexcept\u001b[0m \u001b[0mException\u001b[0m\u001b[1;33m:\u001b[0m\u001b[1;33m\u001b[0m\u001b[1;33m\u001b[0m\u001b[0m\n",
      "\u001b[1;31mAttributeError\u001b[0m: 'KeyboardInterrupt' object has no attribute '_render_traceback_'",
      "\nDuring handling of the above exception, another exception occurred:\n",
      "\u001b[1;31mTypeError\u001b[0m                                 Traceback (most recent call last)",
      "\u001b[1;32m~\\.conda\\envs\\factory619\\lib\\site-packages\\IPython\\core\\interactiveshell.py\u001b[0m in \u001b[0;36mrun_code\u001b[1;34m(self, code_obj, result, async_)\u001b[0m\n\u001b[0;32m   3341\u001b[0m             \u001b[1;32mif\u001b[0m \u001b[0mresult\u001b[0m \u001b[1;32mis\u001b[0m \u001b[1;32mnot\u001b[0m \u001b[1;32mNone\u001b[0m\u001b[1;33m:\u001b[0m\u001b[1;33m\u001b[0m\u001b[1;33m\u001b[0m\u001b[0m\n\u001b[0;32m   3342\u001b[0m                 \u001b[0mresult\u001b[0m\u001b[1;33m.\u001b[0m\u001b[0merror_in_exec\u001b[0m \u001b[1;33m=\u001b[0m \u001b[0msys\u001b[0m\u001b[1;33m.\u001b[0m\u001b[0mexc_info\u001b[0m\u001b[1;33m(\u001b[0m\u001b[1;33m)\u001b[0m\u001b[1;33m[\u001b[0m\u001b[1;36m1\u001b[0m\u001b[1;33m]\u001b[0m\u001b[1;33m\u001b[0m\u001b[1;33m\u001b[0m\u001b[0m\n\u001b[1;32m-> 3343\u001b[1;33m             \u001b[0mself\u001b[0m\u001b[1;33m.\u001b[0m\u001b[0mshowtraceback\u001b[0m\u001b[1;33m(\u001b[0m\u001b[0mrunning_compiled_code\u001b[0m\u001b[1;33m=\u001b[0m\u001b[1;32mTrue\u001b[0m\u001b[1;33m)\u001b[0m\u001b[1;33m\u001b[0m\u001b[1;33m\u001b[0m\u001b[0m\n\u001b[0m\u001b[0;32m   3344\u001b[0m         \u001b[1;32melse\u001b[0m\u001b[1;33m:\u001b[0m\u001b[1;33m\u001b[0m\u001b[1;33m\u001b[0m\u001b[0m\n\u001b[0;32m   3345\u001b[0m             \u001b[0moutflag\u001b[0m \u001b[1;33m=\u001b[0m \u001b[1;32mFalse\u001b[0m\u001b[1;33m\u001b[0m\u001b[1;33m\u001b[0m\u001b[0m\n",
      "\u001b[1;32m~\\.conda\\envs\\factory619\\lib\\site-packages\\IPython\\core\\interactiveshell.py\u001b[0m in \u001b[0;36mshowtraceback\u001b[1;34m(self, exc_tuple, filename, tb_offset, exception_only, running_compiled_code)\u001b[0m\n\u001b[0;32m   2041\u001b[0m                     \u001b[1;32mexcept\u001b[0m \u001b[0mException\u001b[0m\u001b[1;33m:\u001b[0m\u001b[1;33m\u001b[0m\u001b[1;33m\u001b[0m\u001b[0m\n\u001b[0;32m   2042\u001b[0m                         stb = self.InteractiveTB.structured_traceback(etype,\n\u001b[1;32m-> 2043\u001b[1;33m                                             value, tb, tb_offset=tb_offset)\n\u001b[0m\u001b[0;32m   2044\u001b[0m \u001b[1;33m\u001b[0m\u001b[0m\n\u001b[0;32m   2045\u001b[0m                     \u001b[0mself\u001b[0m\u001b[1;33m.\u001b[0m\u001b[0m_showtraceback\u001b[0m\u001b[1;33m(\u001b[0m\u001b[0metype\u001b[0m\u001b[1;33m,\u001b[0m \u001b[0mvalue\u001b[0m\u001b[1;33m,\u001b[0m \u001b[0mstb\u001b[0m\u001b[1;33m)\u001b[0m\u001b[1;33m\u001b[0m\u001b[1;33m\u001b[0m\u001b[0m\n",
      "\u001b[1;32m~\\.conda\\envs\\factory619\\lib\\site-packages\\IPython\\core\\ultratb.py\u001b[0m in \u001b[0;36mstructured_traceback\u001b[1;34m(self, etype, value, tb, tb_offset, number_of_lines_of_context)\u001b[0m\n\u001b[0;32m   1383\u001b[0m         \u001b[0mself\u001b[0m\u001b[1;33m.\u001b[0m\u001b[0mtb\u001b[0m \u001b[1;33m=\u001b[0m \u001b[0mtb\u001b[0m\u001b[1;33m\u001b[0m\u001b[1;33m\u001b[0m\u001b[0m\n\u001b[0;32m   1384\u001b[0m         return FormattedTB.structured_traceback(\n\u001b[1;32m-> 1385\u001b[1;33m             self, etype, value, tb, tb_offset, number_of_lines_of_context)\n\u001b[0m\u001b[0;32m   1386\u001b[0m \u001b[1;33m\u001b[0m\u001b[0m\n\u001b[0;32m   1387\u001b[0m \u001b[1;33m\u001b[0m\u001b[0m\n",
      "\u001b[1;32m~\\.conda\\envs\\factory619\\lib\\site-packages\\IPython\\core\\ultratb.py\u001b[0m in \u001b[0;36mstructured_traceback\u001b[1;34m(self, etype, value, tb, tb_offset, number_of_lines_of_context)\u001b[0m\n\u001b[0;32m   1286\u001b[0m             \u001b[1;31m# Verbose modes need a full traceback\u001b[0m\u001b[1;33m\u001b[0m\u001b[1;33m\u001b[0m\u001b[1;33m\u001b[0m\u001b[0m\n\u001b[0;32m   1287\u001b[0m             return VerboseTB.structured_traceback(\n\u001b[1;32m-> 1288\u001b[1;33m                 \u001b[0mself\u001b[0m\u001b[1;33m,\u001b[0m \u001b[0metype\u001b[0m\u001b[1;33m,\u001b[0m \u001b[0mvalue\u001b[0m\u001b[1;33m,\u001b[0m \u001b[0mtb\u001b[0m\u001b[1;33m,\u001b[0m \u001b[0mtb_offset\u001b[0m\u001b[1;33m,\u001b[0m \u001b[0mnumber_of_lines_of_context\u001b[0m\u001b[1;33m\u001b[0m\u001b[1;33m\u001b[0m\u001b[0m\n\u001b[0m\u001b[0;32m   1289\u001b[0m             )\n\u001b[0;32m   1290\u001b[0m         \u001b[1;32melif\u001b[0m \u001b[0mmode\u001b[0m \u001b[1;33m==\u001b[0m \u001b[1;34m'Minimal'\u001b[0m\u001b[1;33m:\u001b[0m\u001b[1;33m\u001b[0m\u001b[1;33m\u001b[0m\u001b[0m\n",
      "\u001b[1;32m~\\.conda\\envs\\factory619\\lib\\site-packages\\IPython\\core\\ultratb.py\u001b[0m in \u001b[0;36mstructured_traceback\u001b[1;34m(self, etype, evalue, etb, tb_offset, number_of_lines_of_context)\u001b[0m\n\u001b[0;32m   1148\u001b[0m         \u001b[0mexception\u001b[0m \u001b[1;33m=\u001b[0m \u001b[0mself\u001b[0m\u001b[1;33m.\u001b[0m\u001b[0mget_parts_of_chained_exception\u001b[0m\u001b[1;33m(\u001b[0m\u001b[0mevalue\u001b[0m\u001b[1;33m)\u001b[0m\u001b[1;33m\u001b[0m\u001b[1;33m\u001b[0m\u001b[0m\n\u001b[0;32m   1149\u001b[0m         \u001b[1;32mif\u001b[0m \u001b[0mexception\u001b[0m\u001b[1;33m:\u001b[0m\u001b[1;33m\u001b[0m\u001b[1;33m\u001b[0m\u001b[0m\n\u001b[1;32m-> 1150\u001b[1;33m             \u001b[0mformatted_exceptions\u001b[0m \u001b[1;33m+=\u001b[0m \u001b[0mself\u001b[0m\u001b[1;33m.\u001b[0m\u001b[0mprepare_chained_exception_message\u001b[0m\u001b[1;33m(\u001b[0m\u001b[0mevalue\u001b[0m\u001b[1;33m.\u001b[0m\u001b[0m__cause__\u001b[0m\u001b[1;33m)\u001b[0m\u001b[1;33m\u001b[0m\u001b[1;33m\u001b[0m\u001b[0m\n\u001b[0m\u001b[0;32m   1151\u001b[0m             \u001b[0metype\u001b[0m\u001b[1;33m,\u001b[0m \u001b[0mevalue\u001b[0m\u001b[1;33m,\u001b[0m \u001b[0metb\u001b[0m \u001b[1;33m=\u001b[0m \u001b[0mexception\u001b[0m\u001b[1;33m\u001b[0m\u001b[1;33m\u001b[0m\u001b[0m\n\u001b[0;32m   1152\u001b[0m         \u001b[1;32melse\u001b[0m\u001b[1;33m:\u001b[0m\u001b[1;33m\u001b[0m\u001b[1;33m\u001b[0m\u001b[0m\n",
      "\u001b[1;31mTypeError\u001b[0m: can only concatenate str (not \"list\") to str"
     ]
    }
   ],
   "source": [
    "from keras.layers import Bidirectional\n",
    "model = Sequential()\n",
    "model.add(Embedding(MAX_NB_WORDS, EMBEDDING_DIM, input_length=X.shape[1]))\n",
    "model.add(SpatialDropout1D(0.2))\n",
    "model.add(Bidirectional(GRU(128,unroll=True)))\n",
    "#model.add(LSTM(100, dropout=0.2, recurrent_dropout=0.2))\n",
    "model.add(Dense(2, activation='softmax'))\n",
    "model.compile(loss='categorical_crossentropy', optimizer='adam', metrics=['accuracy'])\n",
    "\n",
    "epochs = 5\n",
    "batch_size = 250\n",
    "\n",
    "history = model.fit(X_train, Y_train, epochs=epochs, batch_size=batch_size,validation_split=0.1,callbacks=[EarlyStopping(monitor='val_loss', patience=3, min_delta=0.0001)])"
   ]
  },
  {
   "cell_type": "code",
   "execution_count": 167,
   "metadata": {},
   "outputs": [
    {
     "name": "stdout",
     "output_type": "stream",
     "text": [
      "3055/3055 [==============================] - 6s 2ms/step\n",
      "Test set\n",
      "  Loss: 0.336\n",
      "  Accuracy: 0.887\n"
     ]
    }
   ],
   "source": [
    "accr = model.evaluate(X_test,Y_test)\n",
    "print('Test set\\n  Loss: {:0.3f}\\n  Accuracy: {:0.3f}'.format(accr[0],accr[1]))\n"
   ]
  },
  {
   "cell_type": "code",
   "execution_count": 168,
   "metadata": {},
   "outputs": [
    {
     "data": {
      "text/plain": [
       "[0.3359092356841371, 0.8873977065086365]"
      ]
     },
     "execution_count": 168,
     "metadata": {},
     "output_type": "execute_result"
    }
   ],
   "source": [
    "accr"
   ]
  },
  {
   "cell_type": "code",
   "execution_count": 169,
   "metadata": {},
   "outputs": [
    {
     "data": {
      "image/png": "[encoded data removed]",
      "text/plain": [
       "<Figure size 432x288 with 1 Axes>"
      ]
     },
     "metadata": {
      "needs_background": "light"
     },
     "output_type": "display_data"
    }
   ],
   "source": [
    "plt.title('Loss')\n",
    "plt.plot(history.history['loss'], label='train')\n",
    "plt.plot(history.history['val_loss'], label='test')\n",
    "plt.legend()\n",
    "plt.show();\n"
   ]
  },
  {
   "cell_type": "code",
   "execution_count": 77,
   "metadata": {},
   "outputs": [
    {
     "data": {
      "text/plain": [
       "{'val_loss': [0.33560543173046614,\n",
       "  0.29792263202873487,\n",
       "  0.32848247610523473,\n",
       "  0.3807851864264611,\n",
       "  0.41451355214479096],\n",
       " 'val_accuracy': [0.8834603428840637,\n",
       "  0.8852532505989075,\n",
       "  0.8843567967414856,\n",
       "  0.881219208240509,\n",
       "  0.8789780139923096],\n",
       " 'loss': [0.46061791738147534,\n",
       "  0.24916913790808054,\n",
       "  0.17514939859404796,\n",
       "  0.12784849899796719,\n",
       "  0.09863671028833186],\n",
       " 'accuracy': [0.8409306, 0.9151099, 0.94136405, 0.95625967, 0.966572]}"
      ]
     },
     "execution_count": 77,
     "metadata": {},
     "output_type": "execute_result"
    }
   ],
   "source": [
    "history.history"
   ]
  },
  {
   "cell_type": "code",
   "execution_count": null,
   "metadata": {},
   "outputs": [],
   "source": []
  },
  {
   "cell_type": "code",
   "execution_count": null,
   "metadata": {},
   "outputs": [],
   "source": []
  },
  {
   "cell_type": "code",
   "execution_count": 170,
   "metadata": {},
   "outputs": [
    {
     "data": {
      "image/png": "[encoded data removed]",
      "text/plain": [
       "<Figure size 432x288 with 1 Axes>"
      ]
     },
     "metadata": {
      "needs_background": "light"
     },
     "output_type": "display_data"
    }
   ],
   "source": [
    "plt.title('Accuracy')\n",
    "plt.plot(history.history['accuracy'], label='train')\n",
    "plt.plot(history.history['val_accuracy'], label='test')\n",
    "plt.legend()\n",
    "plt.show();"
   ]
  },
  {
   "cell_type": "code",
   "execution_count": 1,
   "metadata": {},
   "outputs": [
    {
     "ename": "NameError",
     "evalue": "name 'model' is not defined",
     "output_type": "error",
     "traceback": [
      "\u001b[1;31m---------------------------------------------------------------------------\u001b[0m",
      "\u001b[1;31mNameError\u001b[0m                                 Traceback (most recent call last)",
      "\u001b[1;32m<ipython-input-1-d3d77e449678>\u001b[0m in \u001b[0;36m<module>\u001b[1;34m\u001b[0m\n\u001b[1;32m----> 1\u001b[1;33m \u001b[0mmodel\u001b[0m\u001b[1;33m.\u001b[0m\u001b[0msave\u001b[0m\u001b[1;33m(\u001b[0m\u001b[1;34m\"insultmodel\"\u001b[0m\u001b[1;33m)\u001b[0m\u001b[1;33m\u001b[0m\u001b[1;33m\u001b[0m\u001b[0m\n\u001b[0m",
      "\u001b[1;31mNameError\u001b[0m: name 'model' is not defined"
     ]
    }
   ],
   "source": [
    "model.save(\"insultmodel\")"
   ]
  },
  {
   "cell_type": "code",
   "execution_count": null,
   "metadata": {},
   "outputs": [],
   "source": []
  },
  {
   "cell_type": "code",
   "execution_count": null,
   "metadata": {},
   "outputs": [],
   "source": []
  },
  {
   "cell_type": "code",
   "execution_count": null,
   "metadata": {},
   "outputs": [],
   "source": []
  },
  {
   "cell_type": "code",
   "execution_count": 114,
   "metadata": {},
   "outputs": [
    {
     "ename": "ValueError",
     "evalue": "Classification metrics can't handle a mix of multilabel-indicator and continuous-multioutput targets",
     "output_type": "error",
     "traceback": [
      "\u001b[1;31m---------------------------------------------------------------------------\u001b[0m",
      "\u001b[1;31mValueError\u001b[0m                                Traceback (most recent call last)",
      "\u001b[1;32m<ipython-input-114-67b392448cde>\u001b[0m in \u001b[0;36m<module>\u001b[1;34m\u001b[0m\n\u001b[1;32m----> 1\u001b[1;33m \u001b[0mconfmat\u001b[0m \u001b[1;33m=\u001b[0m \u001b[0mconfusion_matrix\u001b[0m\u001b[1;33m(\u001b[0m\u001b[0my_true\u001b[0m\u001b[1;33m=\u001b[0m\u001b[0mY_test\u001b[0m\u001b[1;33m,\u001b[0m \u001b[0my_pred\u001b[0m\u001b[1;33m=\u001b[0m\u001b[0my_pred\u001b[0m\u001b[1;33m)\u001b[0m\u001b[1;33m\u001b[0m\u001b[1;33m\u001b[0m\u001b[0m\n\u001b[0m\u001b[0;32m      2\u001b[0m \u001b[0mprint\u001b[0m\u001b[1;33m(\u001b[0m\u001b[0mconfmat\u001b[0m\u001b[1;33m)\u001b[0m\u001b[1;33m\u001b[0m\u001b[1;33m\u001b[0m\u001b[0m\n\u001b[0;32m      3\u001b[0m \u001b[1;33m\u001b[0m\u001b[0m\n\u001b[0;32m      4\u001b[0m \u001b[0mfig\u001b[0m\u001b[1;33m,\u001b[0m \u001b[0max\u001b[0m \u001b[1;33m=\u001b[0m \u001b[0mplt\u001b[0m\u001b[1;33m.\u001b[0m\u001b[0msubplots\u001b[0m\u001b[1;33m(\u001b[0m\u001b[0mfigsize\u001b[0m\u001b[1;33m=\u001b[0m\u001b[1;33m(\u001b[0m\u001b[1;36m2.5\u001b[0m\u001b[1;33m,\u001b[0m \u001b[1;36m2.5\u001b[0m\u001b[1;33m)\u001b[0m\u001b[1;33m)\u001b[0m\u001b[1;33m\u001b[0m\u001b[1;33m\u001b[0m\u001b[0m\n\u001b[0;32m      5\u001b[0m \u001b[0max\u001b[0m\u001b[1;33m.\u001b[0m\u001b[0mmatshow\u001b[0m\u001b[1;33m(\u001b[0m\u001b[0mconfmat\u001b[0m\u001b[1;33m,\u001b[0m \u001b[0mcmap\u001b[0m\u001b[1;33m=\u001b[0m\u001b[1;34m'Greys'\u001b[0m\u001b[1;33m,\u001b[0m \u001b[0malpha\u001b[0m\u001b[1;33m=\u001b[0m\u001b[1;36m0.5\u001b[0m\u001b[1;33m)\u001b[0m\u001b[1;33m\u001b[0m\u001b[1;33m\u001b[0m\u001b[0m\n",
      "\u001b[1;32m~\\.conda\\envs\\factory619\\lib\\site-packages\\sklearn\\metrics\\classification.py\u001b[0m in \u001b[0;36mconfusion_matrix\u001b[1;34m(y_true, y_pred, labels, sample_weight)\u001b[0m\n\u001b[0;32m    251\u001b[0m \u001b[1;33m\u001b[0m\u001b[0m\n\u001b[0;32m    252\u001b[0m     \"\"\"\n\u001b[1;32m--> 253\u001b[1;33m     \u001b[0my_type\u001b[0m\u001b[1;33m,\u001b[0m \u001b[0my_true\u001b[0m\u001b[1;33m,\u001b[0m \u001b[0my_pred\u001b[0m \u001b[1;33m=\u001b[0m \u001b[0m_check_targets\u001b[0m\u001b[1;33m(\u001b[0m\u001b[0my_true\u001b[0m\u001b[1;33m,\u001b[0m \u001b[0my_pred\u001b[0m\u001b[1;33m)\u001b[0m\u001b[1;33m\u001b[0m\u001b[1;33m\u001b[0m\u001b[0m\n\u001b[0m\u001b[0;32m    254\u001b[0m     \u001b[1;32mif\u001b[0m \u001b[0my_type\u001b[0m \u001b[1;32mnot\u001b[0m \u001b[1;32min\u001b[0m \u001b[1;33m(\u001b[0m\u001b[1;34m\"binary\"\u001b[0m\u001b[1;33m,\u001b[0m \u001b[1;34m\"multiclass\"\u001b[0m\u001b[1;33m)\u001b[0m\u001b[1;33m:\u001b[0m\u001b[1;33m\u001b[0m\u001b[1;33m\u001b[0m\u001b[0m\n\u001b[0;32m    255\u001b[0m         \u001b[1;32mraise\u001b[0m \u001b[0mValueError\u001b[0m\u001b[1;33m(\u001b[0m\u001b[1;34m\"%s is not supported\"\u001b[0m \u001b[1;33m%\u001b[0m \u001b[0my_type\u001b[0m\u001b[1;33m)\u001b[0m\u001b[1;33m\u001b[0m\u001b[1;33m\u001b[0m\u001b[0m\n",
      "\u001b[1;32m~\\.conda\\envs\\factory619\\lib\\site-packages\\sklearn\\metrics\\classification.py\u001b[0m in \u001b[0;36m_check_targets\u001b[1;34m(y_true, y_pred)\u001b[0m\n\u001b[0;32m     79\u001b[0m     \u001b[1;32mif\u001b[0m \u001b[0mlen\u001b[0m\u001b[1;33m(\u001b[0m\u001b[0my_type\u001b[0m\u001b[1;33m)\u001b[0m \u001b[1;33m>\u001b[0m \u001b[1;36m1\u001b[0m\u001b[1;33m:\u001b[0m\u001b[1;33m\u001b[0m\u001b[1;33m\u001b[0m\u001b[0m\n\u001b[0;32m     80\u001b[0m         raise ValueError(\"Classification metrics can't handle a mix of {0} \"\n\u001b[1;32m---> 81\u001b[1;33m                          \"and {1} targets\".format(type_true, type_pred))\n\u001b[0m\u001b[0;32m     82\u001b[0m \u001b[1;33m\u001b[0m\u001b[0m\n\u001b[0;32m     83\u001b[0m     \u001b[1;31m# We can't have more than one value on y_type => The set is no more needed\u001b[0m\u001b[1;33m\u001b[0m\u001b[1;33m\u001b[0m\u001b[1;33m\u001b[0m\u001b[0m\n",
      "\u001b[1;31mValueError\u001b[0m: Classification metrics can't handle a mix of multilabel-indicator and continuous-multioutput targets"
     ]
    }
   ],
   "source": [
    "\n",
    "confmat = confusion_matrix(y_true=Y_test, y_pred=y_pred)\n",
    "print(confmat)\n",
    "\n",
    "fig, ax = plt.subplots(figsize=(2.5, 2.5))\n",
    "ax.matshow(confmat, cmap='Greys', alpha=0.5)\n",
    "for i in range(confmat.shape[0]):\n",
    "    for j in range(confmat.shape[1]):\n",
    "        ax.text(x=j, y=i, s=confmat[i, j], va='center', ha='center')\n",
    "\n",
    "plt.xlabel('predicted label')\n",
    "plt.ylabel('true label')\n",
    "\n",
    "plt.tight_layout()\n",
    "plt.savefig('./confusion_matrix.png', dpi=300)\n",
    "plt.show()"
   ]
  },
  {
   "cell_type": "code",
   "execution_count": 96,
   "metadata": {},
   "outputs": [
    {
     "name": "stdout",
     "output_type": "stream",
     "text": [
      "[[3.0285178e-02 9.6968317e-01 3.1680862e-05]] 1\n"
     ]
    }
   ],
   "source": [
    "#predict if this a hate speech or nor  with the  LSTM model\n",
    "new_complaint = [' fuck you bitch']\n",
    "seq = tokenizer.texts_to_sequences(new_complaint)\n",
    "padded = pad_sequences(seq, maxlen=MAX_SEQUENCE_LENGTH)\n",
    "pred = model.predict(padded)\n",
    "labels = [0,1,2]\n",
    "print(pred, labels[np.argmax(pred)])"
   ]
  },
  {
   "cell_type": "markdown",
   "metadata": {},
   "source": [
    "mix two dataset\n"
   ]
  },
  {
   "cell_type": "code",
   "execution_count": 11,
   "metadata": {},
   "outputs": [
    {
     "data": {
      "text/html": [
       "<div>\n",
       "<style scoped>\n",
       "    .dataframe tbody tr th:only-of-type {\n",
       "        vertical-align: middle;\n",
       "    }\n",
       "\n",
       "    .dataframe tbody tr th {\n",
       "        vertical-align: top;\n",
       "    }\n",
       "\n",
       "    .dataframe thead th {\n",
       "        text-align: right;\n",
       "    }\n",
       "</style>\n",
       "<table border=\"1\" class=\"dataframe\">\n",
       "  <thead>\n",
       "    <tr style=\"text-align: right;\">\n",
       "      <th></th>\n",
       "      <th>index</th>\n",
       "      <th>post</th>\n",
       "      <th>label</th>\n",
       "    </tr>\n",
       "  </thead>\n",
       "  <tbody>\n",
       "    <tr>\n",
       "      <td>0</td>\n",
       "      <td>0</td>\n",
       "      <td>simply copy and paste the following text into ...</td>\n",
       "      <td>0</td>\n",
       "    </tr>\n",
       "    <tr>\n",
       "      <td>1</td>\n",
       "      <td>1</td>\n",
       "      <td>in order to help increase the booklets downloa...</td>\n",
       "      <td>0</td>\n",
       "    </tr>\n",
       "    <tr>\n",
       "      <td>2</td>\n",
       "      <td>2</td>\n",
       "      <td>as of march 13th 2014 the booklet had been dow...</td>\n",
       "      <td>0</td>\n",
       "    </tr>\n",
       "    <tr>\n",
       "      <td>3</td>\n",
       "      <td>3</td>\n",
       "      <td>click below for a free download of a colorfull...</td>\n",
       "      <td>1</td>\n",
       "    </tr>\n",
       "    <tr>\n",
       "      <td>4</td>\n",
       "      <td>4</td>\n",
       "      <td>click on the download 7 42 mb green banner link</td>\n",
       "      <td>0</td>\n",
       "    </tr>\n",
       "    <tr>\n",
       "      <td>...</td>\n",
       "      <td>...</td>\n",
       "      <td>...</td>\n",
       "      <td>...</td>\n",
       "    </tr>\n",
       "    <tr>\n",
       "      <td>9920</td>\n",
       "      <td>9920</td>\n",
       "      <td>billy that guy would n t leave me alone so i g...</td>\n",
       "      <td>0</td>\n",
       "    </tr>\n",
       "    <tr>\n",
       "      <td>9921</td>\n",
       "      <td>9921</td>\n",
       "      <td>wish we at least had a marine le pen to vote f...</td>\n",
       "      <td>0</td>\n",
       "    </tr>\n",
       "    <tr>\n",
       "      <td>9922</td>\n",
       "      <td>9922</td>\n",
       "      <td>its like the choices are white genocide candid...</td>\n",
       "      <td>0</td>\n",
       "    </tr>\n",
       "    <tr>\n",
       "      <td>9923</td>\n",
       "      <td>9923</td>\n",
       "      <td>why white people used to say that sex was a si...</td>\n",
       "      <td>1</td>\n",
       "    </tr>\n",
       "    <tr>\n",
       "      <td>9924</td>\n",
       "      <td>9924</td>\n",
       "      <td>now i get it</td>\n",
       "      <td>0</td>\n",
       "    </tr>\n",
       "  </tbody>\n",
       "</table>\n",
       "<p>9925 rows × 3 columns</p>\n",
       "</div>"
      ],
      "text/plain": [
       "      index                                               post  label\n",
       "0         0  simply copy and paste the following text into ...      0\n",
       "1         1  in order to help increase the booklets downloa...      0\n",
       "2         2  as of march 13th 2014 the booklet had been dow...      0\n",
       "3         3  click below for a free download of a colorfull...      1\n",
       "4         4    click on the download 7 42 mb green banner link      0\n",
       "...     ...                                                ...    ...\n",
       "9920   9920  billy that guy would n t leave me alone so i g...      0\n",
       "9921   9921  wish we at least had a marine le pen to vote f...      0\n",
       "9922   9922  its like the choices are white genocide candid...      0\n",
       "9923   9923  why white people used to say that sex was a si...      1\n",
       "9924   9924                                       now i get it      0\n",
       "\n",
       "[9925 rows x 3 columns]"
      ]
     },
     "execution_count": 11,
     "metadata": {},
     "output_type": "execute_result"
    }
   ],
   "source": [
    "df1=pd.read_csv(\"hate_speech.csv\",delimiter=\",\")\n",
    "df1"
   ]
  },
  {
   "cell_type": "code",
   "execution_count": 12,
   "metadata": {},
   "outputs": [
    {
     "data": {
      "text/html": [
       "<div>\n",
       "<style scoped>\n",
       "    .dataframe tbody tr th:only-of-type {\n",
       "        vertical-align: middle;\n",
       "    }\n",
       "\n",
       "    .dataframe tbody tr th {\n",
       "        vertical-align: top;\n",
       "    }\n",
       "\n",
       "    .dataframe thead th {\n",
       "        text-align: right;\n",
       "    }\n",
       "</style>\n",
       "<table border=\"1\" class=\"dataframe\">\n",
       "  <thead>\n",
       "    <tr style=\"text-align: right;\">\n",
       "      <th></th>\n",
       "      <th>id</th>\n",
       "      <th>label</th>\n",
       "      <th>tweet</th>\n",
       "    </tr>\n",
       "  </thead>\n",
       "  <tbody>\n",
       "    <tr>\n",
       "      <td>0</td>\n",
       "      <td>1</td>\n",
       "      <td>0</td>\n",
       "      <td>@user when a father is dysfunctional and is s...</td>\n",
       "    </tr>\n",
       "    <tr>\n",
       "      <td>1</td>\n",
       "      <td>2</td>\n",
       "      <td>0</td>\n",
       "      <td>@user @user thanks for #lyft credit i can't us...</td>\n",
       "    </tr>\n",
       "    <tr>\n",
       "      <td>2</td>\n",
       "      <td>3</td>\n",
       "      <td>0</td>\n",
       "      <td>bihday your majesty</td>\n",
       "    </tr>\n",
       "    <tr>\n",
       "      <td>3</td>\n",
       "      <td>4</td>\n",
       "      <td>0</td>\n",
       "      <td>#model   i love u take with u all the time in ...</td>\n",
       "    </tr>\n",
       "    <tr>\n",
       "      <td>4</td>\n",
       "      <td>5</td>\n",
       "      <td>0</td>\n",
       "      <td>factsguide: society now    #motivation</td>\n",
       "    </tr>\n",
       "    <tr>\n",
       "      <td>...</td>\n",
       "      <td>...</td>\n",
       "      <td>...</td>\n",
       "      <td>...</td>\n",
       "    </tr>\n",
       "    <tr>\n",
       "      <td>31957</td>\n",
       "      <td>31958</td>\n",
       "      <td>0</td>\n",
       "      <td>ate @user isz that youuu?ðððððð...</td>\n",
       "    </tr>\n",
       "    <tr>\n",
       "      <td>31958</td>\n",
       "      <td>31959</td>\n",
       "      <td>0</td>\n",
       "      <td>to see nina turner on the airwaves trying to...</td>\n",
       "    </tr>\n",
       "    <tr>\n",
       "      <td>31959</td>\n",
       "      <td>31960</td>\n",
       "      <td>0</td>\n",
       "      <td>listening to sad songs on a monday morning otw...</td>\n",
       "    </tr>\n",
       "    <tr>\n",
       "      <td>31960</td>\n",
       "      <td>31961</td>\n",
       "      <td>1</td>\n",
       "      <td>@user #sikh #temple vandalised in in #calgary,...</td>\n",
       "    </tr>\n",
       "    <tr>\n",
       "      <td>31961</td>\n",
       "      <td>31962</td>\n",
       "      <td>0</td>\n",
       "      <td>thank you @user for you follow</td>\n",
       "    </tr>\n",
       "  </tbody>\n",
       "</table>\n",
       "<p>31962 rows × 3 columns</p>\n",
       "</div>"
      ],
      "text/plain": [
       "          id  label                                              tweet\n",
       "0          1      0   @user when a father is dysfunctional and is s...\n",
       "1          2      0  @user @user thanks for #lyft credit i can't us...\n",
       "2          3      0                                bihday your majesty\n",
       "3          4      0  #model   i love u take with u all the time in ...\n",
       "4          5      0             factsguide: society now    #motivation\n",
       "...      ...    ...                                                ...\n",
       "31957  31958      0  ate @user isz that youuu?ðððððð...\n",
       "31958  31959      0    to see nina turner on the airwaves trying to...\n",
       "31959  31960      0  listening to sad songs on a monday morning otw...\n",
       "31960  31961      1  @user #sikh #temple vandalised in in #calgary,...\n",
       "31961  31962      0                   thank you @user for you follow  \n",
       "\n",
       "[31962 rows x 3 columns]"
      ]
     },
     "execution_count": 12,
     "metadata": {},
     "output_type": "execute_result"
    }
   ],
   "source": [
    "df2=pd.read_csv(\"data/train_E6oV3lV.csv\",delimiter=\",\")\n",
    "df2"
   ]
  },
  {
   "cell_type": "code",
   "execution_count": 13,
   "metadata": {},
   "outputs": [
    {
     "data": {
      "text/plain": [
       "0    29720\n",
       "1     2242\n",
       "Name: class, dtype: int64"
      ]
     },
     "execution_count": 13,
     "metadata": {},
     "output_type": "execute_result"
    }
   ],
   "source": [
    "\n",
    "del df2['id']\n",
    "df2=df2.rename(columns={ \"label\": \"class\"})\n",
    "df2[\"class\"].value_counts()"
   ]
  },
  {
   "cell_type": "code",
   "execution_count": 86,
   "metadata": {},
   "outputs": [],
   "source": [
    "# def _clean(text):\n",
    "    \n",
    "#     #converting to lower case \n",
    "#     clean_text = text.lower()\n",
    "    \n",
    "#     # removing punctuations\n",
    "#     clean_text = \"\". join(p for p in clean_text if p not in punctuations)\n",
    "    \n",
    "#     # removing stopwords\n",
    "#     words = clean_text.split()\n",
    "#     words =[w for w in words if w not in stopword]\n",
    "    \n",
    "#     # lemmatization\n",
    "#     words = [lem.lemmatize(word, 'v') for word in words]\n",
    "#     words = [lem.lemmatize(word, 'n') for word in words]\n",
    "    \n",
    "#     cleaned_text = \" \".join(words)\n",
    "    \n",
    "#     return cleaned_text\n",
    "\n",
    "# # checking if our function works correctly or not\n",
    "# _clean(\"this is a Test Text for cleaning\")"
   ]
  },
  {
   "cell_type": "code",
   "execution_count": 14,
   "metadata": {},
   "outputs": [],
   "source": [
    "df2.tweet=df2.tweet.apply(lambda x:preprocess(x))\n",
    "\n",
    "df2.tweet=df2.tweet.apply(lambda x:Punctuation(x))\n",
    "# df.tweet.apply(lambda x:preprocess(x))"
   ]
  },
  {
   "cell_type": "code",
   "execution_count": 15,
   "metadata": {},
   "outputs": [
    {
     "data": {
      "text/plain": [
       "0    29720\n",
       "1     2242\n",
       "Name: class, dtype: int64"
      ]
     },
     "execution_count": 15,
     "metadata": {},
     "output_type": "execute_result"
    }
   ],
   "source": [
    "df2\n",
    "df2[\"class\"].value_counts()"
   ]
  },
  {
   "cell_type": "code",
   "execution_count": 89,
   "metadata": {},
   "outputs": [
    {
     "data": {
      "text/plain": [
       "1    19190\n",
       "2     4163\n",
       "0     1430\n",
       "Name: class, dtype: int64"
      ]
     },
     "execution_count": 89,
     "metadata": {},
     "output_type": "execute_result"
    }
   ],
   "source": [
    "df[\"class\"].value_counts()\n"
   ]
  },
  {
   "cell_type": "code",
   "execution_count": 81,
   "metadata": {},
   "outputs": [
    {
     "data": {
      "text/html": [
       "<div>\n",
       "<style scoped>\n",
       "    .dataframe tbody tr th:only-of-type {\n",
       "        vertical-align: middle;\n",
       "    }\n",
       "\n",
       "    .dataframe tbody tr th {\n",
       "        vertical-align: top;\n",
       "    }\n",
       "\n",
       "    .dataframe thead th {\n",
       "        text-align: right;\n",
       "    }\n",
       "</style>\n",
       "<table border=\"1\" class=\"dataframe\">\n",
       "  <thead>\n",
       "    <tr style=\"text-align: right;\">\n",
       "      <th></th>\n",
       "      <th>class</th>\n",
       "      <th>count</th>\n",
       "      <th>hate_speech</th>\n",
       "      <th>neither</th>\n",
       "      <th>offensive_language</th>\n",
       "      <th>tweet</th>\n",
       "    </tr>\n",
       "  </thead>\n",
       "  <tbody>\n",
       "    <tr>\n",
       "      <td>0</td>\n",
       "      <td>1</td>\n",
       "      <td>3.0</td>\n",
       "      <td>0.0</td>\n",
       "      <td>0.0</td>\n",
       "      <td>3.0</td>\n",
       "      <td>When I hear a baby cry at a restaurant I can...</td>\n",
       "    </tr>\n",
       "    <tr>\n",
       "      <td>1</td>\n",
       "      <td>2</td>\n",
       "      <td>3.0</td>\n",
       "      <td>0.0</td>\n",
       "      <td>3.0</td>\n",
       "      <td>0.0</td>\n",
       "      <td>RT if youd marry Scarlett Johansson</td>\n",
       "    </tr>\n",
       "    <tr>\n",
       "      <td>2</td>\n",
       "      <td>0</td>\n",
       "      <td>3.0</td>\n",
       "      <td>2.0</td>\n",
       "      <td>0.0</td>\n",
       "      <td>1.0</td>\n",
       "      <td>Nah its You   yo i thought some photoshopped m...</td>\n",
       "    </tr>\n",
       "    <tr>\n",
       "      <td>3</td>\n",
       "      <td>1</td>\n",
       "      <td>3.0</td>\n",
       "      <td>0.0</td>\n",
       "      <td>0.0</td>\n",
       "      <td>3.0</td>\n",
       "      <td>When youre grinding with a bitch and shes knoc...</td>\n",
       "    </tr>\n",
       "    <tr>\n",
       "      <td>4</td>\n",
       "      <td>1</td>\n",
       "      <td>3.0</td>\n",
       "      <td>0.0</td>\n",
       "      <td>0.0</td>\n",
       "      <td>3.0</td>\n",
       "      <td>Chill bitch we aint in love</td>\n",
       "    </tr>\n",
       "    <tr>\n",
       "      <td>...</td>\n",
       "      <td>...</td>\n",
       "      <td>...</td>\n",
       "      <td>...</td>\n",
       "      <td>...</td>\n",
       "      <td>...</td>\n",
       "      <td>...</td>\n",
       "    </tr>\n",
       "    <tr>\n",
       "      <td>31957</td>\n",
       "      <td>0</td>\n",
       "      <td>NaN</td>\n",
       "      <td>NaN</td>\n",
       "      <td>NaN</td>\n",
       "      <td>NaN</td>\n",
       "      <td>ate  isz that youuuððððððð...</td>\n",
       "    </tr>\n",
       "    <tr>\n",
       "      <td>31958</td>\n",
       "      <td>0</td>\n",
       "      <td>NaN</td>\n",
       "      <td>NaN</td>\n",
       "      <td>NaN</td>\n",
       "      <td>NaN</td>\n",
       "      <td>to see nina turner on the airwaves trying to ...</td>\n",
       "    </tr>\n",
       "    <tr>\n",
       "      <td>31959</td>\n",
       "      <td>0</td>\n",
       "      <td>NaN</td>\n",
       "      <td>NaN</td>\n",
       "      <td>NaN</td>\n",
       "      <td>NaN</td>\n",
       "      <td>listening to sad songs on a monday morning otw...</td>\n",
       "    </tr>\n",
       "    <tr>\n",
       "      <td>31960</td>\n",
       "      <td>1</td>\n",
       "      <td>NaN</td>\n",
       "      <td>NaN</td>\n",
       "      <td>NaN</td>\n",
       "      <td>NaN</td>\n",
       "      <td>vandalised in in   condemns act</td>\n",
       "    </tr>\n",
       "    <tr>\n",
       "      <td>31961</td>\n",
       "      <td>0</td>\n",
       "      <td>NaN</td>\n",
       "      <td>NaN</td>\n",
       "      <td>NaN</td>\n",
       "      <td>NaN</td>\n",
       "      <td>thank you  for you follow</td>\n",
       "    </tr>\n",
       "  </tbody>\n",
       "</table>\n",
       "<p>56745 rows × 6 columns</p>\n",
       "</div>"
      ],
      "text/plain": [
       "       class  count  hate_speech  neither  offensive_language  \\\n",
       "0          1    3.0          0.0      0.0                 3.0   \n",
       "1          2    3.0          0.0      3.0                 0.0   \n",
       "2          0    3.0          2.0      0.0                 1.0   \n",
       "3          1    3.0          0.0      0.0                 3.0   \n",
       "4          1    3.0          0.0      0.0                 3.0   \n",
       "...      ...    ...          ...      ...                 ...   \n",
       "31957      0    NaN          NaN      NaN                 NaN   \n",
       "31958      0    NaN          NaN      NaN                 NaN   \n",
       "31959      0    NaN          NaN      NaN                 NaN   \n",
       "31960      1    NaN          NaN      NaN                 NaN   \n",
       "31961      0    NaN          NaN      NaN                 NaN   \n",
       "\n",
       "                                                   tweet  \n",
       "0        When I hear a baby cry at a restaurant I can...  \n",
       "1                   RT if youd marry Scarlett Johansson   \n",
       "2      Nah its You   yo i thought some photoshopped m...  \n",
       "3      When youre grinding with a bitch and shes knoc...  \n",
       "4                            Chill bitch we aint in love  \n",
       "...                                                  ...  \n",
       "31957  ate  isz that youuuððððððð...  \n",
       "31958   to see nina turner on the airwaves trying to ...  \n",
       "31959  listening to sad songs on a monday morning otw...  \n",
       "31960                   vandalised in in   condemns act   \n",
       "31961                         thank you  for you follow   \n",
       "\n",
       "[56745 rows x 6 columns]"
      ]
     },
     "execution_count": 81,
     "metadata": {},
     "output_type": "execute_result"
    }
   ],
   "source": [
    "df_test"
   ]
  },
  {
   "cell_type": "code",
   "execution_count": null,
   "metadata": {},
   "outputs": [],
   "source": []
  },
  {
   "cell_type": "code",
   "execution_count": 115,
   "metadata": {},
   "outputs": [],
   "source": [
    "df_tot=pd.concat([df,df2,df1], sort=True)\n"
   ]
  },
  {
   "cell_type": "code",
   "execution_count": 116,
   "metadata": {},
   "outputs": [
    {
     "data": {
      "text/html": [
       "<div>\n",
       "<style scoped>\n",
       "    .dataframe tbody tr th:only-of-type {\n",
       "        vertical-align: middle;\n",
       "    }\n",
       "\n",
       "    .dataframe tbody tr th {\n",
       "        vertical-align: top;\n",
       "    }\n",
       "\n",
       "    .dataframe thead th {\n",
       "        text-align: right;\n",
       "    }\n",
       "</style>\n",
       "<table border=\"1\" class=\"dataframe\">\n",
       "  <thead>\n",
       "    <tr style=\"text-align: right;\">\n",
       "      <th></th>\n",
       "      <th>class</th>\n",
       "      <th>count</th>\n",
       "      <th>hate_speech</th>\n",
       "      <th>neither</th>\n",
       "      <th>offensive_language</th>\n",
       "      <th>tweet</th>\n",
       "    </tr>\n",
       "  </thead>\n",
       "  <tbody>\n",
       "    <tr>\n",
       "      <td>0</td>\n",
       "      <td>1</td>\n",
       "      <td>3.0</td>\n",
       "      <td>0.0</td>\n",
       "      <td>1.0</td>\n",
       "      <td>2.0</td>\n",
       "      <td>He a hoe fa that   Incredible vagina is rarely...</td>\n",
       "    </tr>\n",
       "    <tr>\n",
       "      <td>1</td>\n",
       "      <td>1</td>\n",
       "      <td>3.0</td>\n",
       "      <td>0.0</td>\n",
       "      <td>1.0</td>\n",
       "      <td>2.0</td>\n",
       "      <td>I want to take the time tonight to acknowled...</td>\n",
       "    </tr>\n",
       "    <tr>\n",
       "      <td>2</td>\n",
       "      <td>1</td>\n",
       "      <td>3.0</td>\n",
       "      <td>0.0</td>\n",
       "      <td>0.0</td>\n",
       "      <td>3.0</td>\n",
       "      <td>Lol  me next time bitch</td>\n",
       "    </tr>\n",
       "    <tr>\n",
       "      <td>3</td>\n",
       "      <td>1</td>\n",
       "      <td>3.0</td>\n",
       "      <td>0.0</td>\n",
       "      <td>0.0</td>\n",
       "      <td>3.0</td>\n",
       "      <td>If a bitch says eeeeeee she a hoe</td>\n",
       "    </tr>\n",
       "    <tr>\n",
       "      <td>4</td>\n",
       "      <td>2</td>\n",
       "      <td>3.0</td>\n",
       "      <td>0.0</td>\n",
       "      <td>2.0</td>\n",
       "      <td>1.0</td>\n",
       "      <td>You wanna find hoes on here Just follow the ch...</td>\n",
       "    </tr>\n",
       "    <tr>\n",
       "      <td>...</td>\n",
       "      <td>...</td>\n",
       "      <td>...</td>\n",
       "      <td>...</td>\n",
       "      <td>...</td>\n",
       "      <td>...</td>\n",
       "      <td>...</td>\n",
       "    </tr>\n",
       "    <tr>\n",
       "      <td>31957</td>\n",
       "      <td>0</td>\n",
       "      <td>NaN</td>\n",
       "      <td>NaN</td>\n",
       "      <td>NaN</td>\n",
       "      <td>NaN</td>\n",
       "      <td>ate  isz that youuuððððððð...</td>\n",
       "    </tr>\n",
       "    <tr>\n",
       "      <td>31958</td>\n",
       "      <td>0</td>\n",
       "      <td>NaN</td>\n",
       "      <td>NaN</td>\n",
       "      <td>NaN</td>\n",
       "      <td>NaN</td>\n",
       "      <td>to see nina turner on the airwaves trying to ...</td>\n",
       "    </tr>\n",
       "    <tr>\n",
       "      <td>31959</td>\n",
       "      <td>0</td>\n",
       "      <td>NaN</td>\n",
       "      <td>NaN</td>\n",
       "      <td>NaN</td>\n",
       "      <td>NaN</td>\n",
       "      <td>listening to sad songs on a monday morning otw...</td>\n",
       "    </tr>\n",
       "    <tr>\n",
       "      <td>31960</td>\n",
       "      <td>1</td>\n",
       "      <td>NaN</td>\n",
       "      <td>NaN</td>\n",
       "      <td>NaN</td>\n",
       "      <td>NaN</td>\n",
       "      <td>vandalised in in   condemns act</td>\n",
       "    </tr>\n",
       "    <tr>\n",
       "      <td>31961</td>\n",
       "      <td>0</td>\n",
       "      <td>NaN</td>\n",
       "      <td>NaN</td>\n",
       "      <td>NaN</td>\n",
       "      <td>NaN</td>\n",
       "      <td>thank you  for you follow</td>\n",
       "    </tr>\n",
       "  </tbody>\n",
       "</table>\n",
       "<p>56745 rows × 6 columns</p>\n",
       "</div>"
      ],
      "text/plain": [
       "       class  count  hate_speech  neither  offensive_language  \\\n",
       "0          1    3.0          0.0      1.0                 2.0   \n",
       "1          1    3.0          0.0      1.0                 2.0   \n",
       "2          1    3.0          0.0      0.0                 3.0   \n",
       "3          1    3.0          0.0      0.0                 3.0   \n",
       "4          2    3.0          0.0      2.0                 1.0   \n",
       "...      ...    ...          ...      ...                 ...   \n",
       "31957      0    NaN          NaN      NaN                 NaN   \n",
       "31958      0    NaN          NaN      NaN                 NaN   \n",
       "31959      0    NaN          NaN      NaN                 NaN   \n",
       "31960      1    NaN          NaN      NaN                 NaN   \n",
       "31961      0    NaN          NaN      NaN                 NaN   \n",
       "\n",
       "                                                   tweet  \n",
       "0      He a hoe fa that   Incredible vagina is rarely...  \n",
       "1        I want to take the time tonight to acknowled...  \n",
       "2                                Lol  me next time bitch  \n",
       "3                      If a bitch says eeeeeee she a hoe  \n",
       "4      You wanna find hoes on here Just follow the ch...  \n",
       "...                                                  ...  \n",
       "31957  ate  isz that youuuððððððð...  \n",
       "31958   to see nina turner on the airwaves trying to ...  \n",
       "31959  listening to sad songs on a monday morning otw...  \n",
       "31960                   vandalised in in   condemns act   \n",
       "31961                         thank you  for you follow   \n",
       "\n",
       "[56745 rows x 6 columns]"
      ]
     },
     "execution_count": 116,
     "metadata": {},
     "output_type": "execute_result"
    }
   ],
   "source": [
    "df_test"
   ]
  },
  {
   "cell_type": "code",
   "execution_count": null,
   "metadata": {},
   "outputs": [],
   "source": []
  },
  {
   "cell_type": "code",
   "execution_count": null,
   "metadata": {},
   "outputs": [],
   "source": []
  },
  {
   "cell_type": "code",
   "execution_count": 55,
   "metadata": {},
   "outputs": [
    {
     "data": {
      "text/plain": [
       "0    8770\n",
       "1    1155\n",
       "Name: label, dtype: int64"
      ]
     },
     "execution_count": 55,
     "metadata": {},
     "output_type": "execute_result"
    }
   ],
   "source": [
    "df1[\"label\"].value_counts()"
   ]
  },
  {
   "cell_type": "code",
   "execution_count": 18,
   "metadata": {},
   "outputs": [],
   "source": [
    "df1=df1.rename(columns={\"post\": \"tweet\", \"label\": \"class\"})"
   ]
  },
  {
   "cell_type": "code",
   "execution_count": 19,
   "metadata": {},
   "outputs": [],
   "source": [
    " del df1['index']"
   ]
  },
  {
   "cell_type": "code",
   "execution_count": 59,
   "metadata": {},
   "outputs": [
    {
     "data": {
      "text/html": [
       "<div>\n",
       "<style scoped>\n",
       "    .dataframe tbody tr th:only-of-type {\n",
       "        vertical-align: middle;\n",
       "    }\n",
       "\n",
       "    .dataframe tbody tr th {\n",
       "        vertical-align: top;\n",
       "    }\n",
       "\n",
       "    .dataframe thead th {\n",
       "        text-align: right;\n",
       "    }\n",
       "</style>\n",
       "<table border=\"1\" class=\"dataframe\">\n",
       "  <thead>\n",
       "    <tr style=\"text-align: right;\">\n",
       "      <th></th>\n",
       "      <th>tweet</th>\n",
       "      <th>class</th>\n",
       "    </tr>\n",
       "  </thead>\n",
       "  <tbody>\n",
       "    <tr>\n",
       "      <td>0</td>\n",
       "      <td>simply copy and paste the following text into ...</td>\n",
       "      <td>0</td>\n",
       "    </tr>\n",
       "    <tr>\n",
       "      <td>1</td>\n",
       "      <td>in order to help increase the booklets downloa...</td>\n",
       "      <td>0</td>\n",
       "    </tr>\n",
       "    <tr>\n",
       "      <td>2</td>\n",
       "      <td>as of march 13th 2014 the booklet had been dow...</td>\n",
       "      <td>0</td>\n",
       "    </tr>\n",
       "    <tr>\n",
       "      <td>3</td>\n",
       "      <td>click below for a free download of a colorfull...</td>\n",
       "      <td>1</td>\n",
       "    </tr>\n",
       "    <tr>\n",
       "      <td>4</td>\n",
       "      <td>click on the download 7 42 mb green banner link</td>\n",
       "      <td>0</td>\n",
       "    </tr>\n",
       "    <tr>\n",
       "      <td>...</td>\n",
       "      <td>...</td>\n",
       "      <td>...</td>\n",
       "    </tr>\n",
       "    <tr>\n",
       "      <td>9920</td>\n",
       "      <td>billy that guy would n t leave me alone so i g...</td>\n",
       "      <td>0</td>\n",
       "    </tr>\n",
       "    <tr>\n",
       "      <td>9921</td>\n",
       "      <td>wish we at least had a marine le pen to vote f...</td>\n",
       "      <td>0</td>\n",
       "    </tr>\n",
       "    <tr>\n",
       "      <td>9922</td>\n",
       "      <td>its like the choices are white genocide candid...</td>\n",
       "      <td>0</td>\n",
       "    </tr>\n",
       "    <tr>\n",
       "      <td>9923</td>\n",
       "      <td>why white people used to say that sex was a si...</td>\n",
       "      <td>1</td>\n",
       "    </tr>\n",
       "    <tr>\n",
       "      <td>9924</td>\n",
       "      <td>now i get it</td>\n",
       "      <td>0</td>\n",
       "    </tr>\n",
       "  </tbody>\n",
       "</table>\n",
       "<p>9925 rows × 2 columns</p>\n",
       "</div>"
      ],
      "text/plain": [
       "                                                  tweet  class\n",
       "0     simply copy and paste the following text into ...      0\n",
       "1     in order to help increase the booklets downloa...      0\n",
       "2     as of march 13th 2014 the booklet had been dow...      0\n",
       "3     click below for a free download of a colorfull...      1\n",
       "4       click on the download 7 42 mb green banner link      0\n",
       "...                                                 ...    ...\n",
       "9920  billy that guy would n t leave me alone so i g...      0\n",
       "9921  wish we at least had a marine le pen to vote f...      0\n",
       "9922  its like the choices are white genocide candid...      0\n",
       "9923  why white people used to say that sex was a si...      1\n",
       "9924                                       now i get it      0\n",
       "\n",
       "[9925 rows x 2 columns]"
      ]
     },
     "execution_count": 59,
     "metadata": {},
     "output_type": "execute_result"
    }
   ],
   "source": [
    "df1"
   ]
  },
  {
   "cell_type": "code",
   "execution_count": 60,
   "metadata": {},
   "outputs": [
    {
     "data": {
      "text/plain": [
       "0    8770\n",
       "1    1155\n",
       "Name: class, dtype: int64"
      ]
     },
     "execution_count": 60,
     "metadata": {},
     "output_type": "execute_result"
    }
   ],
   "source": [
    "df1[\"class\"].value_counts()"
   ]
  },
  {
   "cell_type": "code",
   "execution_count": 118,
   "metadata": {},
   "outputs": [],
   "source": [
    "df_test2 = pd.concat([df, df2], sort=True)"
   ]
  },
  {
   "cell_type": "code",
   "execution_count": 24,
   "metadata": {},
   "outputs": [
    {
     "data": {
      "text/plain": [
       "0    39920\n",
       "1    22587\n",
       "2     4163\n",
       "Name: class, dtype: int64"
      ]
     },
     "execution_count": 24,
     "metadata": {},
     "output_type": "execute_result"
    }
   ],
   "source": [
    "df_tot[\"class\"].value_counts()"
   ]
  },
  {
   "cell_type": "code",
   "execution_count": 186,
   "metadata": {},
   "outputs": [
    {
     "name": "stderr",
     "output_type": "stream",
     "text": [
      "C:\\Users\\hedi\\.conda\\envs\\factory619\\lib\\site-packages\\sklearn\\svm\\base.py:929: ConvergenceWarning:\n",
      "\n",
      "Liblinear failed to converge, increase the number of iterations.\n",
      "\n"
     ]
    },
    {
     "data": {
      "text/plain": [
       "Pipeline(memory=None,\n",
       "         steps=[('vect',\n",
       "                 CountVectorizer(analyzer='word', binary=False,\n",
       "                                 decode_error='strict',\n",
       "                                 dtype=<class 'numpy.int64'>, encoding='utf-8',\n",
       "                                 input='content', lowercase=True, max_df=0.8,\n",
       "                                 max_features=None, min_df=20,\n",
       "                                 ngram_range=(1, 2), preprocessor=None,\n",
       "                                 stop_words=None, strip_accents=None,\n",
       "                                 token_pattern='(?u)\\\\b\\\\w\\\\w+\\\\b',\n",
       "                                 tokenizer=None, vocabulary=None)),\n",
       "                ('tfidf',\n",
       "                 TfidfTransformer(norm='l2', smooth_idf=True,\n",
       "                                  sublinear_tf=False, use_idf=True)),\n",
       "                ('clf',\n",
       "                 LinearSVC(C=5000.0, class_weight=None, dual=True,\n",
       "                           fit_intercept=True, intercept_scaling=1,\n",
       "                           loss='squared_hinge', max_iter=1000,\n",
       "                           multi_class='ovr', penalty='l2', random_state=None,\n",
       "                           tol=0.0001, verbose=0))],\n",
       "         verbose=False)"
      ]
     },
     "execution_count": 186,
     "metadata": {},
     "output_type": "execute_result"
    },
    {
     "name": "stdout",
     "output_type": "stream",
     "text": [
      "4755\n",
      "Test Accuracy: 0.870\n"
     ]
    },
    {
     "ename": "NameError",
     "evalue": "name 'precision_score' is not defined",
     "output_type": "error",
     "traceback": [
      "\u001b[1;31m---------------------------------------------------------------------------\u001b[0m",
      "\u001b[1;31mNameError\u001b[0m                                 Traceback (most recent call last)",
      "\u001b[1;32m<ipython-input-186-10dbfe48224a>\u001b[0m in \u001b[0;36m<module>\u001b[1;34m\u001b[0m\n\u001b[0;32m     19\u001b[0m \u001b[0mprint\u001b[0m\u001b[1;33m(\u001b[0m\u001b[1;34m'Test Accuracy: %.3f'\u001b[0m \u001b[1;33m%\u001b[0m \u001b[0mpipe_lr\u001b[0m\u001b[1;33m.\u001b[0m\u001b[0mscore\u001b[0m\u001b[1;33m(\u001b[0m\u001b[0mtext_test\u001b[0m\u001b[1;33m,\u001b[0m\u001b[0my_test\u001b[0m\u001b[1;33m)\u001b[0m\u001b[1;33m)\u001b[0m\u001b[1;33m\u001b[0m\u001b[1;33m\u001b[0m\u001b[0m\n\u001b[0;32m     20\u001b[0m \u001b[0my_pred\u001b[0m \u001b[1;33m=\u001b[0m \u001b[0mpipe_lr\u001b[0m\u001b[1;33m.\u001b[0m\u001b[0mpredict\u001b[0m\u001b[1;33m(\u001b[0m\u001b[0mtext_test\u001b[0m\u001b[1;33m)\u001b[0m\u001b[1;33m\u001b[0m\u001b[1;33m\u001b[0m\u001b[0m\n\u001b[1;32m---> 21\u001b[1;33m \u001b[0mprint\u001b[0m\u001b[1;33m(\u001b[0m\u001b[1;34m'Precision: %.3f'\u001b[0m \u001b[1;33m%\u001b[0m \u001b[0mprecision_score\u001b[0m\u001b[1;33m(\u001b[0m\u001b[0my_true\u001b[0m\u001b[1;33m=\u001b[0m\u001b[0my_test\u001b[0m\u001b[1;33m,\u001b[0m \u001b[0my_pred\u001b[0m\u001b[1;33m=\u001b[0m\u001b[0my_pred\u001b[0m\u001b[1;33m,\u001b[0m\u001b[0maverage\u001b[0m\u001b[1;33m=\u001b[0m\u001b[1;34m'macro'\u001b[0m\u001b[1;33m)\u001b[0m\u001b[1;33m)\u001b[0m\u001b[1;33m\u001b[0m\u001b[1;33m\u001b[0m\u001b[0m\n\u001b[0m\u001b[0;32m     22\u001b[0m \u001b[0mprint\u001b[0m\u001b[1;33m(\u001b[0m\u001b[1;34m'Recall: %.3f'\u001b[0m \u001b[1;33m%\u001b[0m \u001b[0mrecall_score\u001b[0m\u001b[1;33m(\u001b[0m\u001b[0my_true\u001b[0m\u001b[1;33m=\u001b[0m\u001b[0my_test\u001b[0m\u001b[1;33m,\u001b[0m \u001b[0my_pred\u001b[0m\u001b[1;33m=\u001b[0m\u001b[0my_pred\u001b[0m\u001b[1;33m,\u001b[0m\u001b[0maverage\u001b[0m\u001b[1;33m=\u001b[0m\u001b[1;34m'macro'\u001b[0m\u001b[1;33m)\u001b[0m\u001b[1;33m)\u001b[0m\u001b[1;33m\u001b[0m\u001b[1;33m\u001b[0m\u001b[0m\n\u001b[0;32m     23\u001b[0m \u001b[0mprint\u001b[0m\u001b[1;33m(\u001b[0m\u001b[1;34m'F1: %.3f'\u001b[0m \u001b[1;33m%\u001b[0m \u001b[0mf1_score\u001b[0m\u001b[1;33m(\u001b[0m\u001b[0my_true\u001b[0m\u001b[1;33m=\u001b[0m\u001b[0my_test\u001b[0m\u001b[1;33m,\u001b[0m \u001b[0my_pred\u001b[0m\u001b[1;33m=\u001b[0m\u001b[0my_pred\u001b[0m\u001b[1;33m,\u001b[0m\u001b[0maverage\u001b[0m\u001b[1;33m=\u001b[0m\u001b[1;34m'macro'\u001b[0m\u001b[1;33m)\u001b[0m\u001b[1;33m)\u001b[0m\u001b[1;33m\u001b[0m\u001b[1;33m\u001b[0m\u001b[0m\n",
      "\u001b[1;31mNameError\u001b[0m: name 'precision_score' is not defined"
     ]
    }
   ],
   "source": [
    "#linearsvc\n",
    "#perform well\n",
    "from sklearn.feature_extraction.text import TfidfTransformer\n",
    "\n",
    "from sklearn.feature_extraction.text import CountVectorizer\n",
    "text_train, text_test, y_train, y_test = train_test_split(df_tot[\"tweet\"], df_tot[\"class\"], \n",
    "    test_size=0.2)\n",
    "vect = CountVectorizer(ngram_range=(1, 2),stop_words=None,lowercase=True,max_df=0.8, min_df=20)\n",
    "tfidf = TfidfTransformer()\n",
    "clf = LinearSVC(C=5000.0)\n",
    "pipe_lr = Pipeline([\n",
    "    ('vect',vect),\n",
    "    ('tfidf',tfidf),\n",
    "    ('clf',clf)\n",
    "    ])\n",
    "pipe_lr.fit(text_train, y_train)\n",
    "print(len(vect.vocabulary_))\n",
    "\n",
    "print('Test Accuracy: %.3f' % pipe_lr.score(text_test,y_test))\n",
    "y_pred = pipe_lr.predict(text_test)\n",
    "print('Precision: %.3f' % precision_score(y_true=y_test, y_pred=y_pred,average='macro'))\n",
    "print('Recall: %.3f' % recall_score(y_true=y_test, y_pred=y_pred,average='macro'))\n",
    "print('F1: %.3f' % f1_score(y_true=y_test, y_pred=y_pred,average='macro'))\n",
    "\n",
    "confmat = confusion_matrix(y_true=y_test, y_pred=y_pred)\n",
    "print(confmat)\n",
    "\n",
    "fig, ax = plt.subplots(figsize=(2.5, 2.5))\n",
    "ax.matshow(confmat, cmap='Greys', alpha=0.5)\n",
    "for i in range(confmat.shape[0]):\n",
    "    for j in range(confmat.shape[1]):\n",
    "        ax.text(x=j, y=i, s=confmat[i, j], va='center', ha='center')\n",
    "\n",
    "plt.xlabel('predicted label')\n",
    "plt.ylabel('true label')\n",
    "\n",
    "plt.tight_layout()\n",
    "plt.savefig('./confusion_matrix.png', dpi=300)\n",
    "plt.show()"
   ]
  },
  {
   "cell_type": "code",
   "execution_count": 149,
   "metadata": {},
   "outputs": [
    {
     "name": "stdout",
     "output_type": "stream",
     "text": [
      "Found 24914 unique tokens.\n"
     ]
    }
   ],
   "source": [
    "\n",
    "MAX_NB_WORDS = 50000\n",
    "# Max number of words in each complaint.\n",
    "MAX_SEQUENCE_LENGTH = 250\n",
    "# This is fixed.\n",
    "EMBEDDING_DIM = 100\n",
    "tokenizer = Tokenizer(num_words=MAX_NB_WORDS, filters='!\"#$%&()*+,-./:;<=>?@[\\]^_`{|}~', lower=True)\n",
    "tokenizer.fit_on_texts(df_test1['tweet'].values)\n",
    "word_index = tokenizer.word_index\n",
    "print('Found %s unique tokens.' % len(word_index))"
   ]
  },
  {
   "cell_type": "code",
   "execution_count": 196,
   "metadata": {},
   "outputs": [
    {
     "data": {
      "text/html": [
       "<div>\n",
       "<style scoped>\n",
       "    .dataframe tbody tr th:only-of-type {\n",
       "        vertical-align: middle;\n",
       "    }\n",
       "\n",
       "    .dataframe tbody tr th {\n",
       "        vertical-align: top;\n",
       "    }\n",
       "\n",
       "    .dataframe thead th {\n",
       "        text-align: right;\n",
       "    }\n",
       "</style>\n",
       "<table border=\"1\" class=\"dataframe\">\n",
       "  <thead>\n",
       "    <tr style=\"text-align: right;\">\n",
       "      <th></th>\n",
       "      <th>class</th>\n",
       "      <th>count</th>\n",
       "      <th>hate_speech</th>\n",
       "      <th>neither</th>\n",
       "      <th>offensive_language</th>\n",
       "      <th>tweet</th>\n",
       "    </tr>\n",
       "  </thead>\n",
       "  <tbody>\n",
       "    <tr>\n",
       "      <td>0</td>\n",
       "      <td>1</td>\n",
       "      <td>3.0</td>\n",
       "      <td>0.0</td>\n",
       "      <td>0.0</td>\n",
       "      <td>3.0</td>\n",
       "      <td>When I hear a baby cry at a restaurant I can...</td>\n",
       "    </tr>\n",
       "    <tr>\n",
       "      <td>2</td>\n",
       "      <td>0</td>\n",
       "      <td>3.0</td>\n",
       "      <td>2.0</td>\n",
       "      <td>0.0</td>\n",
       "      <td>1.0</td>\n",
       "      <td>Nah its You   yo i thought some photoshopped m...</td>\n",
       "    </tr>\n",
       "    <tr>\n",
       "      <td>3</td>\n",
       "      <td>1</td>\n",
       "      <td>3.0</td>\n",
       "      <td>0.0</td>\n",
       "      <td>0.0</td>\n",
       "      <td>3.0</td>\n",
       "      <td>When youre grinding with a bitch and shes knoc...</td>\n",
       "    </tr>\n",
       "    <tr>\n",
       "      <td>4</td>\n",
       "      <td>1</td>\n",
       "      <td>3.0</td>\n",
       "      <td>0.0</td>\n",
       "      <td>0.0</td>\n",
       "      <td>3.0</td>\n",
       "      <td>Chill bitch we aint in love</td>\n",
       "    </tr>\n",
       "    <tr>\n",
       "      <td>5</td>\n",
       "      <td>0</td>\n",
       "      <td>3.0</td>\n",
       "      <td>3.0</td>\n",
       "      <td>0.0</td>\n",
       "      <td>0.0</td>\n",
       "      <td>ESPN keep hiring these dyke bitches and gay Sp...</td>\n",
       "    </tr>\n",
       "    <tr>\n",
       "      <td>...</td>\n",
       "      <td>...</td>\n",
       "      <td>...</td>\n",
       "      <td>...</td>\n",
       "      <td>...</td>\n",
       "      <td>...</td>\n",
       "      <td>...</td>\n",
       "    </tr>\n",
       "    <tr>\n",
       "      <td>31957</td>\n",
       "      <td>0</td>\n",
       "      <td>NaN</td>\n",
       "      <td>NaN</td>\n",
       "      <td>NaN</td>\n",
       "      <td>NaN</td>\n",
       "      <td>ate isz that youuuððððððð...</td>\n",
       "    </tr>\n",
       "    <tr>\n",
       "      <td>31958</td>\n",
       "      <td>0</td>\n",
       "      <td>NaN</td>\n",
       "      <td>NaN</td>\n",
       "      <td>NaN</td>\n",
       "      <td>NaN</td>\n",
       "      <td>to see nina turner on the airwaves trying to ...</td>\n",
       "    </tr>\n",
       "    <tr>\n",
       "      <td>31959</td>\n",
       "      <td>0</td>\n",
       "      <td>NaN</td>\n",
       "      <td>NaN</td>\n",
       "      <td>NaN</td>\n",
       "      <td>NaN</td>\n",
       "      <td>listening to sad songs on a monday morning otw...</td>\n",
       "    </tr>\n",
       "    <tr>\n",
       "      <td>31960</td>\n",
       "      <td>1</td>\n",
       "      <td>NaN</td>\n",
       "      <td>NaN</td>\n",
       "      <td>NaN</td>\n",
       "      <td>NaN</td>\n",
       "      <td>vandalised in in condemns act</td>\n",
       "    </tr>\n",
       "    <tr>\n",
       "      <td>31961</td>\n",
       "      <td>0</td>\n",
       "      <td>NaN</td>\n",
       "      <td>NaN</td>\n",
       "      <td>NaN</td>\n",
       "      <td>NaN</td>\n",
       "      <td>thank you for you follow</td>\n",
       "    </tr>\n",
       "  </tbody>\n",
       "</table>\n",
       "<p>52582 rows × 6 columns</p>\n",
       "</div>"
      ],
      "text/plain": [
       "       class  count  hate_speech  neither  offensive_language  \\\n",
       "0          1    3.0          0.0      0.0                 3.0   \n",
       "2          0    3.0          2.0      0.0                 1.0   \n",
       "3          1    3.0          0.0      0.0                 3.0   \n",
       "4          1    3.0          0.0      0.0                 3.0   \n",
       "5          0    3.0          3.0      0.0                 0.0   \n",
       "...      ...    ...          ...      ...                 ...   \n",
       "31957      0    NaN          NaN      NaN                 NaN   \n",
       "31958      0    NaN          NaN      NaN                 NaN   \n",
       "31959      0    NaN          NaN      NaN                 NaN   \n",
       "31960      1    NaN          NaN      NaN                 NaN   \n",
       "31961      0    NaN          NaN      NaN                 NaN   \n",
       "\n",
       "                                                   tweet  \n",
       "0        When I hear a baby cry at a restaurant I can...  \n",
       "2      Nah its You   yo i thought some photoshopped m...  \n",
       "3      When youre grinding with a bitch and shes knoc...  \n",
       "4                            Chill bitch we aint in love  \n",
       "5      ESPN keep hiring these dyke bitches and gay Sp...  \n",
       "...                                                  ...  \n",
       "31957  ate isz that youuuððððððð...  \n",
       "31958   to see nina turner on the airwaves trying to ...  \n",
       "31959  listening to sad songs on a monday morning otw...  \n",
       "31960                     vandalised in in condemns act   \n",
       "31961                          thank you for you follow   \n",
       "\n",
       "[52582 rows x 6 columns]"
      ]
     },
     "execution_count": 196,
     "metadata": {},
     "output_type": "execute_result"
    }
   ],
   "source": [
    "dftest"
   ]
  },
  {
   "cell_type": "code",
   "execution_count": 157,
   "metadata": {},
   "outputs": [
    {
     "name": "stdout",
     "output_type": "stream",
     "text": [
      "Shape of data tensor: (30545, 250)\n"
     ]
    }
   ],
   "source": [
    "X = tokenizer.texts_to_sequences(df_test1['tweet'].values)\n",
    "X = pad_sequences(X, maxlen=MAX_SEQUENCE_LENGTH)\n",
    "print('Shape of data tensor:', X.shape)"
   ]
  },
  {
   "cell_type": "code",
   "execution_count": 158,
   "metadata": {},
   "outputs": [
    {
     "name": "stdout",
     "output_type": "stream",
     "text": [
      "Shape of label tensor: (30545, 2)\n"
     ]
    }
   ],
   "source": [
    "Y = pd.get_dummies(df_test1['class']).values\n",
    "print('Shape of label tensor:', Y.shape)\n"
   ]
  },
  {
   "cell_type": "code",
   "execution_count": 159,
   "metadata": {},
   "outputs": [
    {
     "name": "stdout",
     "output_type": "stream",
     "text": [
      "(27490, 250) (27490, 2)\n",
      "(3055, 250) (3055, 2)\n"
     ]
    }
   ],
   "source": [
    "X_train, X_test, Y_train, Y_test = train_test_split(X,Y, test_size = 0.10, random_state = 42)\n",
    "print(X_train.shape,Y_train.shape)\n",
    "print(X_test.shape,Y_test.shape)"
   ]
  },
  {
   "cell_type": "code",
   "execution_count": null,
   "metadata": {},
   "outputs": [],
   "source": []
  },
  {
   "cell_type": "code",
   "execution_count": null,
   "metadata": {},
   "outputs": [],
   "source": []
  },
  {
   "cell_type": "code",
   "execution_count": 160,
   "metadata": {},
   "outputs": [
    {
     "ename": "ValueError",
     "evalue": "Error when checking input: expected embedding_24_input to have shape (250,) but got array with shape (20,)",
     "output_type": "error",
     "traceback": [
      "\u001b[1;31m---------------------------------------------------------------------------\u001b[0m",
      "\u001b[1;31mValueError\u001b[0m                                Traceback (most recent call last)",
      "\u001b[1;32m<ipython-input-160-1d7e7aa0889d>\u001b[0m in \u001b[0;36m<module>\u001b[1;34m\u001b[0m\n\u001b[0;32m     18\u001b[0m \u001b[0mepochs\u001b[0m \u001b[1;33m=\u001b[0m \u001b[1;36m5\u001b[0m\u001b[1;33m\u001b[0m\u001b[1;33m\u001b[0m\u001b[0m\n\u001b[0;32m     19\u001b[0m \u001b[0mbatch_size\u001b[0m \u001b[1;33m=\u001b[0m \u001b[1;36m64\u001b[0m\u001b[1;33m\u001b[0m\u001b[1;33m\u001b[0m\u001b[0m\n\u001b[1;32m---> 20\u001b[1;33m \u001b[0mhistory\u001b[0m \u001b[1;33m=\u001b[0m \u001b[0mmodel\u001b[0m\u001b[1;33m.\u001b[0m\u001b[0mfit\u001b[0m\u001b[1;33m(\u001b[0m\u001b[0mtrain_x\u001b[0m\u001b[1;33m,\u001b[0m \u001b[0mtrain_y\u001b[0m\u001b[1;33m,\u001b[0m\u001b[0mepochs\u001b[0m\u001b[1;33m=\u001b[0m\u001b[1;36m5\u001b[0m\u001b[1;33m,\u001b[0m\u001b[0mbatch_size\u001b[0m\u001b[1;33m=\u001b[0m\u001b[1;36m164\u001b[0m\u001b[1;33m,\u001b[0m\u001b[0mverbose\u001b[0m\u001b[1;33m=\u001b[0m\u001b[1;36m1\u001b[0m\u001b[1;33m,\u001b[0m\u001b[0mvalidation_data\u001b[0m\u001b[1;33m=\u001b[0m\u001b[1;33m(\u001b[0m\u001b[0mtest_x\u001b[0m\u001b[1;33m,\u001b[0m\u001b[0mtest_y\u001b[0m\u001b[1;33m)\u001b[0m\u001b[1;33m)\u001b[0m\u001b[1;33m\u001b[0m\u001b[1;33m\u001b[0m\u001b[0m\n\u001b[0m",
      "\u001b[1;32m~\\.conda\\envs\\factory619\\lib\\site-packages\\keras\\engine\\training.py\u001b[0m in \u001b[0;36mfit\u001b[1;34m(self, x, y, batch_size, epochs, verbose, callbacks, validation_split, validation_data, shuffle, class_weight, sample_weight, initial_epoch, steps_per_epoch, validation_steps, validation_freq, max_queue_size, workers, use_multiprocessing, **kwargs)\u001b[0m\n\u001b[0;32m   1152\u001b[0m             \u001b[0msample_weight\u001b[0m\u001b[1;33m=\u001b[0m\u001b[0msample_weight\u001b[0m\u001b[1;33m,\u001b[0m\u001b[1;33m\u001b[0m\u001b[1;33m\u001b[0m\u001b[0m\n\u001b[0;32m   1153\u001b[0m             \u001b[0mclass_weight\u001b[0m\u001b[1;33m=\u001b[0m\u001b[0mclass_weight\u001b[0m\u001b[1;33m,\u001b[0m\u001b[1;33m\u001b[0m\u001b[1;33m\u001b[0m\u001b[0m\n\u001b[1;32m-> 1154\u001b[1;33m             batch_size=batch_size)\n\u001b[0m\u001b[0;32m   1155\u001b[0m \u001b[1;33m\u001b[0m\u001b[0m\n\u001b[0;32m   1156\u001b[0m         \u001b[1;31m# Prepare validation data.\u001b[0m\u001b[1;33m\u001b[0m\u001b[1;33m\u001b[0m\u001b[1;33m\u001b[0m\u001b[0m\n",
      "\u001b[1;32m~\\.conda\\envs\\factory619\\lib\\site-packages\\keras\\engine\\training.py\u001b[0m in \u001b[0;36m_standardize_user_data\u001b[1;34m(self, x, y, sample_weight, class_weight, check_array_lengths, batch_size)\u001b[0m\n\u001b[0;32m    577\u001b[0m             \u001b[0mfeed_input_shapes\u001b[0m\u001b[1;33m,\u001b[0m\u001b[1;33m\u001b[0m\u001b[1;33m\u001b[0m\u001b[0m\n\u001b[0;32m    578\u001b[0m             \u001b[0mcheck_batch_axis\u001b[0m\u001b[1;33m=\u001b[0m\u001b[1;32mFalse\u001b[0m\u001b[1;33m,\u001b[0m  \u001b[1;31m# Don't enforce the batch size.\u001b[0m\u001b[1;33m\u001b[0m\u001b[1;33m\u001b[0m\u001b[0m\n\u001b[1;32m--> 579\u001b[1;33m             exception_prefix='input')\n\u001b[0m\u001b[0;32m    580\u001b[0m \u001b[1;33m\u001b[0m\u001b[0m\n\u001b[0;32m    581\u001b[0m         \u001b[1;32mif\u001b[0m \u001b[0my\u001b[0m \u001b[1;32mis\u001b[0m \u001b[1;32mnot\u001b[0m \u001b[1;32mNone\u001b[0m\u001b[1;33m:\u001b[0m\u001b[1;33m\u001b[0m\u001b[1;33m\u001b[0m\u001b[0m\n",
      "\u001b[1;32m~\\.conda\\envs\\factory619\\lib\\site-packages\\keras\\engine\\training_utils.py\u001b[0m in \u001b[0;36mstandardize_input_data\u001b[1;34m(data, names, shapes, check_batch_axis, exception_prefix)\u001b[0m\n\u001b[0;32m    143\u001b[0m                             \u001b[1;34m': expected '\u001b[0m \u001b[1;33m+\u001b[0m \u001b[0mnames\u001b[0m\u001b[1;33m[\u001b[0m\u001b[0mi\u001b[0m\u001b[1;33m]\u001b[0m \u001b[1;33m+\u001b[0m \u001b[1;34m' to have shape '\u001b[0m \u001b[1;33m+\u001b[0m\u001b[1;33m\u001b[0m\u001b[1;33m\u001b[0m\u001b[0m\n\u001b[0;32m    144\u001b[0m                             \u001b[0mstr\u001b[0m\u001b[1;33m(\u001b[0m\u001b[0mshape\u001b[0m\u001b[1;33m)\u001b[0m \u001b[1;33m+\u001b[0m \u001b[1;34m' but got array with shape '\u001b[0m \u001b[1;33m+\u001b[0m\u001b[1;33m\u001b[0m\u001b[1;33m\u001b[0m\u001b[0m\n\u001b[1;32m--> 145\u001b[1;33m                             str(data_shape))\n\u001b[0m\u001b[0;32m    146\u001b[0m     \u001b[1;32mreturn\u001b[0m \u001b[0mdata\u001b[0m\u001b[1;33m\u001b[0m\u001b[1;33m\u001b[0m\u001b[0m\n\u001b[0;32m    147\u001b[0m \u001b[1;33m\u001b[0m\u001b[0m\n",
      "\u001b[1;31mValueError\u001b[0m: Error when checking input: expected embedding_24_input to have shape (250,) but got array with shape (20,)"
     ]
    }
   ],
   "source": [
    "model = Sequential()\n",
    "#model.add(Embedding(input_dim=len(ind_to_vec), output_dim=EMBEDDING_DIM, weights=[ind_to_vec], input_length=MAX_SEQUENCE_LENGTH))\n",
    "model.add(Embedding(MAX_NB_WORDS, EMBEDDING_DIM, input_length=X.shape[1]))\n",
    "model.add(SpatialDropout1D(0.2))\n",
    "#model.add(GRU(128,unroll=True))\n",
    "#model.add(layers.GRU(256, return_sequences=True))\n",
    "\n",
    "# The output of SimpleRNN will be a 2D tensor of shape (batch_size, 128)\n",
    "#model.add(layers.SimpleRNN(128,return_sequences=True))\n",
    "model.add(Bidirectional(LSTM(100, dropout=0.2, recurrent_dropout=0.2)))\n",
    "#model.add(LSTM(150, dropout=0.2, recurrent_dropout=0.2))\n",
    "#model.add(layers.SimpleRNN(128))\n",
    "model.add(Dense(32,activation='tanh'))\n",
    "#model.add(layers.GRU(32, return_sequences=True))\n",
    "model.add(Dense(2,activation = 'softmax'))\n",
    "model.compile(loss='categorical_crossentropy', optimizer='adam', metrics=['accuracy'])\n",
    "\n",
    "epochs = 5\n",
    "batch_size = 64\n",
    "history = model.fit(train_x, train_y,epochs=5,batch_size=164,verbose=1,validation_data=(test_x,test_y)) "
   ]
  },
  {
   "cell_type": "code",
   "execution_count": 85,
   "metadata": {},
   "outputs": [
    {
     "ename": "ValueError",
     "evalue": "Error when checking input: expected embedding_16_input to have shape (20,) but got array with shape (250,)",
     "output_type": "error",
     "traceback": [
      "\u001b[1;31m---------------------------------------------------------------------------\u001b[0m",
      "\u001b[1;31mValueError\u001b[0m                                Traceback (most recent call last)",
      "\u001b[1;32m<ipython-input-85-dd417203a207>\u001b[0m in \u001b[0;36m<module>\u001b[1;34m\u001b[0m\n\u001b[1;32m----> 1\u001b[1;33m \u001b[0maccr\u001b[0m \u001b[1;33m=\u001b[0m \u001b[0mmodel\u001b[0m\u001b[1;33m.\u001b[0m\u001b[0mevaluate\u001b[0m\u001b[1;33m(\u001b[0m\u001b[0mX_test\u001b[0m\u001b[1;33m,\u001b[0m\u001b[0mY_test\u001b[0m\u001b[1;33m)\u001b[0m\u001b[1;33m\u001b[0m\u001b[1;33m\u001b[0m\u001b[0m\n\u001b[0m\u001b[0;32m      2\u001b[0m \u001b[0mprint\u001b[0m\u001b[1;33m(\u001b[0m\u001b[1;34m'Test set\\n  Loss: {:0.3f}\\n  Accuracy: {:0.3f}'\u001b[0m\u001b[1;33m.\u001b[0m\u001b[0mformat\u001b[0m\u001b[1;33m(\u001b[0m\u001b[0maccr\u001b[0m\u001b[1;33m[\u001b[0m\u001b[1;36m0\u001b[0m\u001b[1;33m]\u001b[0m\u001b[1;33m,\u001b[0m\u001b[0maccr\u001b[0m\u001b[1;33m[\u001b[0m\u001b[1;36m1\u001b[0m\u001b[1;33m]\u001b[0m\u001b[1;33m)\u001b[0m\u001b[1;33m)\u001b[0m\u001b[1;33m\u001b[0m\u001b[1;33m\u001b[0m\u001b[0m\n",
      "\u001b[1;32m~\\.conda\\envs\\factory619\\lib\\site-packages\\keras\\engine\\training.py\u001b[0m in \u001b[0;36mevaluate\u001b[1;34m(self, x, y, batch_size, verbose, sample_weight, steps, callbacks, max_queue_size, workers, use_multiprocessing)\u001b[0m\n\u001b[0;32m   1347\u001b[0m             \u001b[0mx\u001b[0m\u001b[1;33m,\u001b[0m \u001b[0my\u001b[0m\u001b[1;33m,\u001b[0m\u001b[1;33m\u001b[0m\u001b[1;33m\u001b[0m\u001b[0m\n\u001b[0;32m   1348\u001b[0m             \u001b[0msample_weight\u001b[0m\u001b[1;33m=\u001b[0m\u001b[0msample_weight\u001b[0m\u001b[1;33m,\u001b[0m\u001b[1;33m\u001b[0m\u001b[1;33m\u001b[0m\u001b[0m\n\u001b[1;32m-> 1349\u001b[1;33m             batch_size=batch_size)\n\u001b[0m\u001b[0;32m   1350\u001b[0m         \u001b[1;31m# Prepare inputs, delegate logic to `test_loop`.\u001b[0m\u001b[1;33m\u001b[0m\u001b[1;33m\u001b[0m\u001b[1;33m\u001b[0m\u001b[0m\n\u001b[0;32m   1351\u001b[0m         \u001b[1;32mif\u001b[0m \u001b[0mself\u001b[0m\u001b[1;33m.\u001b[0m\u001b[0m_uses_dynamic_learning_phase\u001b[0m\u001b[1;33m(\u001b[0m\u001b[1;33m)\u001b[0m\u001b[1;33m:\u001b[0m\u001b[1;33m\u001b[0m\u001b[1;33m\u001b[0m\u001b[0m\n",
      "\u001b[1;32m~\\.conda\\envs\\factory619\\lib\\site-packages\\keras\\engine\\training.py\u001b[0m in \u001b[0;36m_standardize_user_data\u001b[1;34m(self, x, y, sample_weight, class_weight, check_array_lengths, batch_size)\u001b[0m\n\u001b[0;32m    577\u001b[0m             \u001b[0mfeed_input_shapes\u001b[0m\u001b[1;33m,\u001b[0m\u001b[1;33m\u001b[0m\u001b[1;33m\u001b[0m\u001b[0m\n\u001b[0;32m    578\u001b[0m             \u001b[0mcheck_batch_axis\u001b[0m\u001b[1;33m=\u001b[0m\u001b[1;32mFalse\u001b[0m\u001b[1;33m,\u001b[0m  \u001b[1;31m# Don't enforce the batch size.\u001b[0m\u001b[1;33m\u001b[0m\u001b[1;33m\u001b[0m\u001b[0m\n\u001b[1;32m--> 579\u001b[1;33m             exception_prefix='input')\n\u001b[0m\u001b[0;32m    580\u001b[0m \u001b[1;33m\u001b[0m\u001b[0m\n\u001b[0;32m    581\u001b[0m         \u001b[1;32mif\u001b[0m \u001b[0my\u001b[0m \u001b[1;32mis\u001b[0m \u001b[1;32mnot\u001b[0m \u001b[1;32mNone\u001b[0m\u001b[1;33m:\u001b[0m\u001b[1;33m\u001b[0m\u001b[1;33m\u001b[0m\u001b[0m\n",
      "\u001b[1;32m~\\.conda\\envs\\factory619\\lib\\site-packages\\keras\\engine\\training_utils.py\u001b[0m in \u001b[0;36mstandardize_input_data\u001b[1;34m(data, names, shapes, check_batch_axis, exception_prefix)\u001b[0m\n\u001b[0;32m    143\u001b[0m                             \u001b[1;34m': expected '\u001b[0m \u001b[1;33m+\u001b[0m \u001b[0mnames\u001b[0m\u001b[1;33m[\u001b[0m\u001b[0mi\u001b[0m\u001b[1;33m]\u001b[0m \u001b[1;33m+\u001b[0m \u001b[1;34m' to have shape '\u001b[0m \u001b[1;33m+\u001b[0m\u001b[1;33m\u001b[0m\u001b[1;33m\u001b[0m\u001b[0m\n\u001b[0;32m    144\u001b[0m                             \u001b[0mstr\u001b[0m\u001b[1;33m(\u001b[0m\u001b[0mshape\u001b[0m\u001b[1;33m)\u001b[0m \u001b[1;33m+\u001b[0m \u001b[1;34m' but got array with shape '\u001b[0m \u001b[1;33m+\u001b[0m\u001b[1;33m\u001b[0m\u001b[1;33m\u001b[0m\u001b[0m\n\u001b[1;32m--> 145\u001b[1;33m                             str(data_shape))\n\u001b[0m\u001b[0;32m    146\u001b[0m     \u001b[1;32mreturn\u001b[0m \u001b[0mdata\u001b[0m\u001b[1;33m\u001b[0m\u001b[1;33m\u001b[0m\u001b[0m\n\u001b[0;32m    147\u001b[0m \u001b[1;33m\u001b[0m\u001b[0m\n",
      "\u001b[1;31mValueError\u001b[0m: Error when checking input: expected embedding_16_input to have shape (20,) but got array with shape (250,)"
     ]
    }
   ],
   "source": [
    "accr = model.evaluate(X_test,Y_test)\n",
    "print('Test set\\n  Loss: {:0.3f}\\n  Accuracy: {:0.3f}'.format(accr[0],accr[1]))"
   ]
  },
  {
   "cell_type": "code",
   "execution_count": 174,
   "metadata": {},
   "outputs": [
    {
     "data": {
      "image/png": "[encoded data removed]",
      "text/plain": [
       "<Figure size 432x288 with 1 Axes>"
      ]
     },
     "metadata": {
      "needs_background": "light"
     },
     "output_type": "display_data"
    }
   ],
   "source": [
    "plt.title('Loss')\n",
    "plt.plot(history.history['loss'], label='train')\n",
    "plt.plot(history.history['val_loss'], label='test')\n",
    "plt.legend()\n",
    "plt.show();\n"
   ]
  },
  {
   "cell_type": "code",
   "execution_count": 102,
   "metadata": {},
   "outputs": [
    {
     "ename": "ValueError",
     "evalue": "Classification metrics can't handle a mix of multilabel-indicator and continuous-multioutput targets",
     "output_type": "error",
     "traceback": [
      "\u001b[1;31m---------------------------------------------------------------------------\u001b[0m",
      "\u001b[1;31mValueError\u001b[0m                                Traceback (most recent call last)",
      "\u001b[1;32m<ipython-input-102-843ec8a7cad4>\u001b[0m in \u001b[0;36m<module>\u001b[1;34m\u001b[0m\n\u001b[0;32m      1\u001b[0m \u001b[1;31m# print('Test Accuracy: %.3f' % model.score(X_test,Y_test))\u001b[0m\u001b[1;33m\u001b[0m\u001b[1;33m\u001b[0m\u001b[1;33m\u001b[0m\u001b[0m\n\u001b[0;32m      2\u001b[0m \u001b[0my_pred\u001b[0m \u001b[1;33m=\u001b[0m \u001b[0mmodel\u001b[0m\u001b[1;33m.\u001b[0m\u001b[0mpredict\u001b[0m\u001b[1;33m(\u001b[0m\u001b[0mX_test\u001b[0m\u001b[1;33m)\u001b[0m\u001b[1;33m\u001b[0m\u001b[1;33m\u001b[0m\u001b[0m\n\u001b[1;32m----> 3\u001b[1;33m \u001b[0mprint\u001b[0m\u001b[1;33m(\u001b[0m\u001b[1;34m'Precision: %.3f'\u001b[0m \u001b[1;33m%\u001b[0m \u001b[0mprecision_score\u001b[0m\u001b[1;33m(\u001b[0m\u001b[0my_true\u001b[0m\u001b[1;33m=\u001b[0m\u001b[0mY_test\u001b[0m\u001b[1;33m,\u001b[0m \u001b[0my_pred\u001b[0m\u001b[1;33m=\u001b[0m\u001b[0my_pred\u001b[0m\u001b[1;33m,\u001b[0m\u001b[0maverage\u001b[0m\u001b[1;33m=\u001b[0m\u001b[1;34m'macro'\u001b[0m\u001b[1;33m)\u001b[0m\u001b[1;33m)\u001b[0m\u001b[1;33m\u001b[0m\u001b[1;33m\u001b[0m\u001b[0m\n\u001b[0m\u001b[0;32m      4\u001b[0m \u001b[0mprint\u001b[0m\u001b[1;33m(\u001b[0m\u001b[1;34m'Recall: %.3f'\u001b[0m \u001b[1;33m%\u001b[0m \u001b[0mrecall_score\u001b[0m\u001b[1;33m(\u001b[0m\u001b[0my_true\u001b[0m\u001b[1;33m=\u001b[0m\u001b[0mY_test\u001b[0m\u001b[1;33m,\u001b[0m \u001b[0my_pred\u001b[0m\u001b[1;33m=\u001b[0m\u001b[0my_pred\u001b[0m\u001b[1;33m,\u001b[0m\u001b[0maverage\u001b[0m\u001b[1;33m=\u001b[0m\u001b[1;34m'macro'\u001b[0m\u001b[1;33m)\u001b[0m\u001b[1;33m)\u001b[0m\u001b[1;33m\u001b[0m\u001b[1;33m\u001b[0m\u001b[0m\n\u001b[0;32m      5\u001b[0m \u001b[0mprint\u001b[0m\u001b[1;33m(\u001b[0m\u001b[1;34m'F1: %.3f'\u001b[0m \u001b[1;33m%\u001b[0m \u001b[0mf1_score\u001b[0m\u001b[1;33m(\u001b[0m\u001b[0my_true\u001b[0m\u001b[1;33m=\u001b[0m\u001b[0mY_test\u001b[0m\u001b[1;33m,\u001b[0m \u001b[0my_pred\u001b[0m\u001b[1;33m=\u001b[0m\u001b[0my_pred\u001b[0m\u001b[1;33m,\u001b[0m\u001b[0maverage\u001b[0m\u001b[1;33m=\u001b[0m\u001b[1;34m'macro'\u001b[0m\u001b[1;33m)\u001b[0m\u001b[1;33m)\u001b[0m\u001b[1;33m\u001b[0m\u001b[1;33m\u001b[0m\u001b[0m\n",
      "\u001b[1;32m~\\.conda\\envs\\factory619\\lib\\site-packages\\sklearn\\metrics\\classification.py\u001b[0m in \u001b[0;36mprecision_score\u001b[1;34m(y_true, y_pred, labels, pos_label, average, sample_weight)\u001b[0m\n\u001b[0;32m   1567\u001b[0m                                                  \u001b[0maverage\u001b[0m\u001b[1;33m=\u001b[0m\u001b[0maverage\u001b[0m\u001b[1;33m,\u001b[0m\u001b[1;33m\u001b[0m\u001b[1;33m\u001b[0m\u001b[0m\n\u001b[0;32m   1568\u001b[0m                                                  \u001b[0mwarn_for\u001b[0m\u001b[1;33m=\u001b[0m\u001b[1;33m(\u001b[0m\u001b[1;34m'precision'\u001b[0m\u001b[1;33m,\u001b[0m\u001b[1;33m)\u001b[0m\u001b[1;33m,\u001b[0m\u001b[1;33m\u001b[0m\u001b[1;33m\u001b[0m\u001b[0m\n\u001b[1;32m-> 1569\u001b[1;33m                                                  sample_weight=sample_weight)\n\u001b[0m\u001b[0;32m   1570\u001b[0m     \u001b[1;32mreturn\u001b[0m \u001b[0mp\u001b[0m\u001b[1;33m\u001b[0m\u001b[1;33m\u001b[0m\u001b[0m\n\u001b[0;32m   1571\u001b[0m \u001b[1;33m\u001b[0m\u001b[0m\n",
      "\u001b[1;32m~\\.conda\\envs\\factory619\\lib\\site-packages\\sklearn\\metrics\\classification.py\u001b[0m in \u001b[0;36mprecision_recall_fscore_support\u001b[1;34m(y_true, y_pred, beta, labels, pos_label, average, warn_for, sample_weight)\u001b[0m\n\u001b[0;32m   1413\u001b[0m         \u001b[1;32mraise\u001b[0m \u001b[0mValueError\u001b[0m\u001b[1;33m(\u001b[0m\u001b[1;34m\"beta should be >0 in the F-beta score\"\u001b[0m\u001b[1;33m)\u001b[0m\u001b[1;33m\u001b[0m\u001b[1;33m\u001b[0m\u001b[0m\n\u001b[0;32m   1414\u001b[0m     labels = _check_set_wise_labels(y_true, y_pred, average, labels,\n\u001b[1;32m-> 1415\u001b[1;33m                                     pos_label)\n\u001b[0m\u001b[0;32m   1416\u001b[0m \u001b[1;33m\u001b[0m\u001b[0m\n\u001b[0;32m   1417\u001b[0m     \u001b[1;31m# Calculate tp_sum, pred_sum, true_sum ###\u001b[0m\u001b[1;33m\u001b[0m\u001b[1;33m\u001b[0m\u001b[1;33m\u001b[0m\u001b[0m\n",
      "\u001b[1;32m~\\.conda\\envs\\factory619\\lib\\site-packages\\sklearn\\metrics\\classification.py\u001b[0m in \u001b[0;36m_check_set_wise_labels\u001b[1;34m(y_true, y_pred, average, labels, pos_label)\u001b[0m\n\u001b[0;32m   1237\u001b[0m                          str(average_options))\n\u001b[0;32m   1238\u001b[0m \u001b[1;33m\u001b[0m\u001b[0m\n\u001b[1;32m-> 1239\u001b[1;33m     \u001b[0my_type\u001b[0m\u001b[1;33m,\u001b[0m \u001b[0my_true\u001b[0m\u001b[1;33m,\u001b[0m \u001b[0my_pred\u001b[0m \u001b[1;33m=\u001b[0m \u001b[0m_check_targets\u001b[0m\u001b[1;33m(\u001b[0m\u001b[0my_true\u001b[0m\u001b[1;33m,\u001b[0m \u001b[0my_pred\u001b[0m\u001b[1;33m)\u001b[0m\u001b[1;33m\u001b[0m\u001b[1;33m\u001b[0m\u001b[0m\n\u001b[0m\u001b[0;32m   1240\u001b[0m     \u001b[0mpresent_labels\u001b[0m \u001b[1;33m=\u001b[0m \u001b[0munique_labels\u001b[0m\u001b[1;33m(\u001b[0m\u001b[0my_true\u001b[0m\u001b[1;33m,\u001b[0m \u001b[0my_pred\u001b[0m\u001b[1;33m)\u001b[0m\u001b[1;33m\u001b[0m\u001b[1;33m\u001b[0m\u001b[0m\n\u001b[0;32m   1241\u001b[0m     \u001b[1;32mif\u001b[0m \u001b[0maverage\u001b[0m \u001b[1;33m==\u001b[0m \u001b[1;34m'binary'\u001b[0m\u001b[1;33m:\u001b[0m\u001b[1;33m\u001b[0m\u001b[1;33m\u001b[0m\u001b[0m\n",
      "\u001b[1;32m~\\.conda\\envs\\factory619\\lib\\site-packages\\sklearn\\metrics\\classification.py\u001b[0m in \u001b[0;36m_check_targets\u001b[1;34m(y_true, y_pred)\u001b[0m\n\u001b[0;32m     79\u001b[0m     \u001b[1;32mif\u001b[0m \u001b[0mlen\u001b[0m\u001b[1;33m(\u001b[0m\u001b[0my_type\u001b[0m\u001b[1;33m)\u001b[0m \u001b[1;33m>\u001b[0m \u001b[1;36m1\u001b[0m\u001b[1;33m:\u001b[0m\u001b[1;33m\u001b[0m\u001b[1;33m\u001b[0m\u001b[0m\n\u001b[0;32m     80\u001b[0m         raise ValueError(\"Classification metrics can't handle a mix of {0} \"\n\u001b[1;32m---> 81\u001b[1;33m                          \"and {1} targets\".format(type_true, type_pred))\n\u001b[0m\u001b[0;32m     82\u001b[0m \u001b[1;33m\u001b[0m\u001b[0m\n\u001b[0;32m     83\u001b[0m     \u001b[1;31m# We can't have more than one value on y_type => The set is no more needed\u001b[0m\u001b[1;33m\u001b[0m\u001b[1;33m\u001b[0m\u001b[1;33m\u001b[0m\u001b[0m\n",
      "\u001b[1;31mValueError\u001b[0m: Classification metrics can't handle a mix of multilabel-indicator and continuous-multioutput targets"
     ]
    }
   ],
   "source": [
    "\n",
    "# print('Test Accuracy: %.3f' % model.score(X_test,Y_test))\n",
    "y_pred = model.predict(X_test)\n",
    "print('Precision: %.3f' % precision_score(y_true=Y_test, y_pred=y_pred,average='macro'))\n",
    "print('Recall: %.3f' % recall_score(y_true=Y_test, y_pred=y_pred,average='macro'))\n",
    "print('F1: %.3f' % f1_score(y_true=Y_test, y_pred=y_pred,average='macro'))\n",
    "\n",
    "confmat = confusion_matrix(y_true=y_test, y_pred=y_pred)\n",
    "print(confmat)\n",
    "\n",
    "fig, ax = plt.subplots(figsize=(2.5, 2.5))\n",
    "ax.matshow(confmat, cmap='Greys', alpha=0.5)\n",
    "for i in range(confmat.shape[0]):\n",
    "    for j in range(confmat.shape[1]):\n",
    "        ax.text(x=j, y=i, s=confmat[i, j], va='center', ha='center')\n",
    "\n",
    "plt.xlabel('predicted label')\n",
    "plt.ylabel('true label')\n",
    "\n",
    "plt.tight_layout()\n",
    "plt.savefig('./confusion_matrix.png', dpi=300)\n",
    "plt.show()"
   ]
  },
  {
   "cell_type": "code",
   "execution_count": 99,
   "metadata": {},
   "outputs": [
    {
     "data": {
      "image/png": "[encoded data removed]",
      "text/plain": [
       "<Figure size 432x288 with 1 Axes>"
      ]
     },
     "metadata": {
      "needs_background": "light"
     },
     "output_type": "display_data"
    }
   ],
   "source": [
    "plt.title('Accuracy')\n",
    "plt.plot(history.history['accuracy'], label='train')\n",
    "plt.plot(history.history['val_accuracy'], label='test')\n",
    "plt.legend()\n",
    "plt.show();"
   ]
  },
  {
   "cell_type": "code",
   "execution_count": 80,
   "metadata": {},
   "outputs": [
    {
     "data": {
      "text/plain": [
       "Pipeline(memory=None,\n",
       "         steps=[('vect',\n",
       "                 CountVectorizer(analyzer='word', binary=False,\n",
       "                                 decode_error='strict',\n",
       "                                 dtype=<class 'numpy.int64'>, encoding='utf-8',\n",
       "                                 input='content', lowercase=True, max_df=1.0,\n",
       "                                 max_features=None, min_df=1,\n",
       "                                 ngram_range=(1, 1), preprocessor=None,\n",
       "                                 stop_words=None, strip_accents=None,\n",
       "                                 token_pattern='(?u)\\\\b\\\\w\\\\w+\\\\b',\n",
       "                                 tokenizer=None, vocabulary=None)),\n",
       "                ('tfidf',\n",
       "                 TfidfTransformer(norm='l2', smooth_idf=True,\n",
       "                                  sublinear_tf=False, use_idf=True)),\n",
       "                ('clf',\n",
       "                 MultinomialNB(alpha=1.0, class_prior=None, fit_prior=True))],\n",
       "         verbose=False)"
      ]
     },
     "execution_count": 80,
     "metadata": {},
     "output_type": "execute_result"
    },
    {
     "name": "stdout",
     "output_type": "stream",
     "text": [
      "accuracy 0.7315892589604702\n",
      "              precision    recall  f1-score   support\n",
      "\n",
      "           0       0.83      0.53      0.65      2533\n",
      "           1       0.71      0.96      0.82      5102\n",
      "           2       0.99      0.08      0.14      1042\n",
      "\n",
      "    accuracy                           0.73      8677\n",
      "   macro avg       0.84      0.52      0.54      8677\n",
      "weighted avg       0.78      0.73      0.69      8677\n",
      "\n"
     ]
    }
   ],
   "source": [
    "from sklearn.naive_bayes import MultinomialNB\n",
    "X = df_row.tweet\n",
    "y = df_row[\"class\"]\n",
    "X_train, X_test, y_train, y_test = train_test_split(X, y, test_size=0.25, random_state = 42)\n",
    "\n",
    "\n",
    "\n",
    "nb = Pipeline([('vect', CountVectorizer()),\n",
    "               ('tfidf', TfidfTransformer()),\n",
    "               ('clf', MultinomialNB()),\n",
    "              ])\n",
    "nb.fit(X_train, y_train)\n",
    "\n",
    "# %%time\n",
    "from sklearn.metrics import classification_report\n",
    "y_pred = nb.predict(X_test)\n",
    "\n",
    "print('accuracy %s' % accuracy_score(y_pred, y_test))\n",
    "print(classification_report(y_test, y_pred))"
   ]
  },
  {
   "cell_type": "code",
   "execution_count": null,
   "metadata": {},
   "outputs": [],
   "source": [
    "#better result after using 2 dataset "
   ]
  },
  {
   "cell_type": "code",
   "execution_count": 26,
   "metadata": {},
   "outputs": [],
   "source": [
    "dftotal=df_tot[df_tot[\"class\"]!=2]"
   ]
  },
  {
   "cell_type": "code",
   "execution_count": 27,
   "metadata": {},
   "outputs": [
    {
     "data": {
      "text/plain": [
       "0    39920\n",
       "1    22587\n",
       "Name: class, dtype: int64"
      ]
     },
     "execution_count": 27,
     "metadata": {},
     "output_type": "execute_result"
    }
   ],
   "source": [
    "dftotal[\"class\"].value_counts()"
   ]
  },
  {
   "cell_type": "code",
   "execution_count": 28,
   "metadata": {},
   "outputs": [
    {
     "data": {
      "text/html": [
       "<div>\n",
       "<style scoped>\n",
       "    .dataframe tbody tr th:only-of-type {\n",
       "        vertical-align: middle;\n",
       "    }\n",
       "\n",
       "    .dataframe tbody tr th {\n",
       "        vertical-align: top;\n",
       "    }\n",
       "\n",
       "    .dataframe thead th {\n",
       "        text-align: right;\n",
       "    }\n",
       "</style>\n",
       "<table border=\"1\" class=\"dataframe\">\n",
       "  <thead>\n",
       "    <tr style=\"text-align: right;\">\n",
       "      <th></th>\n",
       "      <th>class</th>\n",
       "      <th>count</th>\n",
       "      <th>hate_speech</th>\n",
       "      <th>neither</th>\n",
       "      <th>offensive_language</th>\n",
       "      <th>tweet</th>\n",
       "    </tr>\n",
       "  </thead>\n",
       "  <tbody>\n",
       "    <tr>\n",
       "      <td>0</td>\n",
       "      <td>1</td>\n",
       "      <td>3.0</td>\n",
       "      <td>0.0</td>\n",
       "      <td>1.0</td>\n",
       "      <td>2.0</td>\n",
       "      <td>He a hoe fa that   Incredible vagina is rarely...</td>\n",
       "    </tr>\n",
       "    <tr>\n",
       "      <td>1</td>\n",
       "      <td>1</td>\n",
       "      <td>3.0</td>\n",
       "      <td>0.0</td>\n",
       "      <td>1.0</td>\n",
       "      <td>2.0</td>\n",
       "      <td>I want to take the time tonight to acknowled...</td>\n",
       "    </tr>\n",
       "    <tr>\n",
       "      <td>2</td>\n",
       "      <td>1</td>\n",
       "      <td>3.0</td>\n",
       "      <td>0.0</td>\n",
       "      <td>0.0</td>\n",
       "      <td>3.0</td>\n",
       "      <td>Lol  me next time bitch</td>\n",
       "    </tr>\n",
       "    <tr>\n",
       "      <td>3</td>\n",
       "      <td>1</td>\n",
       "      <td>3.0</td>\n",
       "      <td>0.0</td>\n",
       "      <td>0.0</td>\n",
       "      <td>3.0</td>\n",
       "      <td>If a bitch says eeeeeee she a hoe</td>\n",
       "    </tr>\n",
       "    <tr>\n",
       "      <td>5</td>\n",
       "      <td>1</td>\n",
       "      <td>3.0</td>\n",
       "      <td>0.0</td>\n",
       "      <td>0.0</td>\n",
       "      <td>3.0</td>\n",
       "      <td>This biatch just called me a bitch</td>\n",
       "    </tr>\n",
       "    <tr>\n",
       "      <td>...</td>\n",
       "      <td>...</td>\n",
       "      <td>...</td>\n",
       "      <td>...</td>\n",
       "      <td>...</td>\n",
       "      <td>...</td>\n",
       "      <td>...</td>\n",
       "    </tr>\n",
       "    <tr>\n",
       "      <td>9920</td>\n",
       "      <td>0</td>\n",
       "      <td>NaN</td>\n",
       "      <td>NaN</td>\n",
       "      <td>NaN</td>\n",
       "      <td>NaN</td>\n",
       "      <td>billy that guy would n t leave me alone so i g...</td>\n",
       "    </tr>\n",
       "    <tr>\n",
       "      <td>9921</td>\n",
       "      <td>0</td>\n",
       "      <td>NaN</td>\n",
       "      <td>NaN</td>\n",
       "      <td>NaN</td>\n",
       "      <td>NaN</td>\n",
       "      <td>wish we at least had a marine le pen to vote f...</td>\n",
       "    </tr>\n",
       "    <tr>\n",
       "      <td>9922</td>\n",
       "      <td>0</td>\n",
       "      <td>NaN</td>\n",
       "      <td>NaN</td>\n",
       "      <td>NaN</td>\n",
       "      <td>NaN</td>\n",
       "      <td>its like the choices are white genocide candid...</td>\n",
       "    </tr>\n",
       "    <tr>\n",
       "      <td>9923</td>\n",
       "      <td>1</td>\n",
       "      <td>NaN</td>\n",
       "      <td>NaN</td>\n",
       "      <td>NaN</td>\n",
       "      <td>NaN</td>\n",
       "      <td>why white people used to say that sex was a si...</td>\n",
       "    </tr>\n",
       "    <tr>\n",
       "      <td>9924</td>\n",
       "      <td>0</td>\n",
       "      <td>NaN</td>\n",
       "      <td>NaN</td>\n",
       "      <td>NaN</td>\n",
       "      <td>NaN</td>\n",
       "      <td>now i get it</td>\n",
       "    </tr>\n",
       "  </tbody>\n",
       "</table>\n",
       "<p>62507 rows × 6 columns</p>\n",
       "</div>"
      ],
      "text/plain": [
       "      class  count  hate_speech  neither  offensive_language  \\\n",
       "0         1    3.0          0.0      1.0                 2.0   \n",
       "1         1    3.0          0.0      1.0                 2.0   \n",
       "2         1    3.0          0.0      0.0                 3.0   \n",
       "3         1    3.0          0.0      0.0                 3.0   \n",
       "5         1    3.0          0.0      0.0                 3.0   \n",
       "...     ...    ...          ...      ...                 ...   \n",
       "9920      0    NaN          NaN      NaN                 NaN   \n",
       "9921      0    NaN          NaN      NaN                 NaN   \n",
       "9922      0    NaN          NaN      NaN                 NaN   \n",
       "9923      1    NaN          NaN      NaN                 NaN   \n",
       "9924      0    NaN          NaN      NaN                 NaN   \n",
       "\n",
       "                                                  tweet  \n",
       "0     He a hoe fa that   Incredible vagina is rarely...  \n",
       "1       I want to take the time tonight to acknowled...  \n",
       "2                               Lol  me next time bitch  \n",
       "3                     If a bitch says eeeeeee she a hoe  \n",
       "5                   This biatch just called me a bitch   \n",
       "...                                                 ...  \n",
       "9920  billy that guy would n t leave me alone so i g...  \n",
       "9921  wish we at least had a marine le pen to vote f...  \n",
       "9922  its like the choices are white genocide candid...  \n",
       "9923  why white people used to say that sex was a si...  \n",
       "9924                                       now i get it  \n",
       "\n",
       "[62507 rows x 6 columns]"
      ]
     },
     "execution_count": 28,
     "metadata": {},
     "output_type": "execute_result"
    }
   ],
   "source": [
    "dftotal"
   ]
  },
  {
   "cell_type": "code",
   "execution_count": null,
   "metadata": {},
   "outputs": [],
   "source": []
  },
  {
   "cell_type": "code",
   "execution_count": 4,
   "metadata": {},
   "outputs": [
    {
     "name": "stderr",
     "output_type": "stream",
     "text": [
      "Using TensorFlow backend.\n"
     ]
    }
   ],
   "source": [
    "from docutils.nodes import header\n",
    "from keras.layers import GRU\n",
    "from numpy.core.multiarray import dtype\n",
    "from pygments.lexer import words\n",
    "from nltk import *\n",
    "from nltk.tokenize import *\n",
    "from sklearn.model_selection import train_test_split\n",
    "import numpy as np\n",
    "import pandas as pd\n",
    "from keras.preprocessing import sequence,text\n",
    "from keras import *\n",
    "from keras.layers import *\n",
    "import keras\n",
    "import os\n",
    "import string\n",
    "from nltk.corpus import stopwords\n",
    "from keras import backend as K\n",
    "import matplotlib.pyplot as plt\n",
    "\n",
    "import tensorflow as tf\n",
    "from tensorflow.python.tools import freeze_graph\n",
    "from tensorflow.python.tools import optimize_for_inference_lib"
   ]
  },
  {
   "cell_type": "code",
   "execution_count": 3,
   "metadata": {},
   "outputs": [
    {
     "ename": "NameError",
     "evalue": "name 'word_tokenize' is not defined",
     "output_type": "error",
     "traceback": [
      "\u001b[1;31m---------------------------------------------------------------------------\u001b[0m",
      "\u001b[1;31mNameError\u001b[0m                                 Traceback (most recent call last)",
      "\u001b[1;32m<ipython-input-3-31fc762a560c>\u001b[0m in \u001b[0;36m<module>\u001b[1;34m\u001b[0m\n\u001b[0;32m      1\u001b[0m \u001b[0mMODEL_NAME\u001b[0m \u001b[1;33m=\u001b[0m \u001b[1;34m\"gp\"\u001b[0m\u001b[1;33m\u001b[0m\u001b[1;33m\u001b[0m\u001b[0m\n\u001b[1;32m----> 2\u001b[1;33m \u001b[0mWk\u001b[0m \u001b[1;33m=\u001b[0m \u001b[0mword_tokenize\u001b[0m\u001b[1;33m\u001b[0m\u001b[1;33m\u001b[0m\u001b[0m\n\u001b[0m\u001b[0;32m      3\u001b[0m \u001b[0mLEM\u001b[0m \u001b[1;33m=\u001b[0m \u001b[0mstem\u001b[0m\u001b[1;33m.\u001b[0m\u001b[0mWordNetLemmatizer\u001b[0m\u001b[1;33m(\u001b[0m\u001b[1;33m)\u001b[0m\u001b[1;33m\u001b[0m\u001b[1;33m\u001b[0m\u001b[0m\n\u001b[0;32m      4\u001b[0m \u001b[0mEMBEDDING_DIM\u001b[0m \u001b[1;33m=\u001b[0m \u001b[1;36m50\u001b[0m\u001b[1;33m\u001b[0m\u001b[1;33m\u001b[0m\u001b[0m\n\u001b[0;32m      5\u001b[0m \u001b[0mMAX_SEQUENCE_LENGTH\u001b[0m \u001b[1;33m=\u001b[0m \u001b[1;36m20\u001b[0m\u001b[1;33m\u001b[0m\u001b[1;33m\u001b[0m\u001b[0m\n",
      "\u001b[1;31mNameError\u001b[0m: name 'word_tokenize' is not defined"
     ]
    }
   ],
   "source": [
    "MODEL_NAME = \"gp\"\n",
    "Wk = word_tokenize\n",
    "LEM = stem.WordNetLemmatizer()\n",
    "EMBEDDING_DIM = 50\n",
    "MAX_SEQUENCE_LENGTH = 20\n",
    "HIDDEN_LAYER_SIZE = 200\n",
    "LAYERS = 1\n",
    "\n",
    "def embedding(data):\n",
    "    embeddings_index = {}\n",
    "    f = open(os.path.join('glove.6B.50d.txt'), encoding=\"utf8\")\n",
    "    for line in f:\n",
    "        values = str(line).split(' ')\n",
    "        word = values[0]\n",
    "        coefs = np.asarray(values[1:], dtype='float32')\n",
    "        embeddings_index[word] = coefs\n",
    "    f.close()\n",
    "    for sent in data:\n",
    "        for word in sent:\n",
    "            embedding_vector = embeddings_index.get(word)\n",
    "            if embedding_vector is None:\n",
    "                embeddings_index[word] = np.random.rand(EMBEDDING_DIM)\n",
    "#                 print(\"iiiiiiiiiiiiiiiiiiiiiiii  = \",word, \" sss \")\n",
    "    length = len(embeddings_index)+1\n",
    "    ind_to_word = []\n",
    "    word_to_ind = {}\n",
    "    ind_to_vec = np.random.rand(length,EMBEDDING_DIM)\n",
    "    ind_to_vec[0] = np.zeros(EMBEDDING_DIM)\n",
    "    ind = 1\n",
    "    for word , vec in embeddings_index.items():\n",
    "        ind_to_word.append(word)\n",
    "        ind_to_vec[ind] = vec\n",
    "        word_to_ind[word] = ind\n",
    "        ind += 1\n",
    "    return ind_to_vec , word_to_ind , ind_to_word\n",
    "\n",
    "\n",
    "\n",
    "def seq_data(data,word_to_ind):\n",
    "    temp = data.apply(lambda row: [word_to_ind[i] for i in row])\n",
    "    return temp"
   ]
  },
  {
   "cell_type": "code",
   "execution_count": 2,
   "metadata": {},
   "outputs": [],
   "source": [
    "def read_data():\n",
    "#     data = pd.read_csv('train_preprocessed.csv')\n",
    "    data=df_tot\n",
    "    x = data['tweet']\n",
    "    y = data['class']\n",
    "    temp_unique_label = y.unique()\n",
    "    unique_label = {}\n",
    "    for i , label in enumerate(temp_unique_label):\n",
    "        unique_label[i] = label\n",
    "#         y= y.replace((label),(i))\n",
    "    y = keras.utils.to_categorical(y,len(unique_label))\n",
    "    x = preprocess(x)\n",
    "    return x ,y,unique_label"
   ]
  },
  {
   "cell_type": "code",
   "execution_count": 5,
   "metadata": {},
   "outputs": [],
   "source": [
    "def preprocess(data,stem = False):\n",
    "    #stop = stopwords.words('english')\n",
    "    stop = list(string.punctuation)\n",
    "    #stop = ['!', '\"', '#', '$', '%', '&', \"'\", '(', ')', '*', '+', ',', '-', '.', '/', ':', ';', '<', '=', '>', '?', '@', '[', '\\\\', ']', '^', '_', '`', '{', '|', '}', '~']\n",
    "    print(stop)\n",
    "    tokenizer = TreebankWordTokenizer()\n",
    "    p_stemmer = PorterStemmer()\n",
    "    list_of_X = data.apply(lambda row: row.lower())\n",
    "    # list_of_X = list_of_X.apply(lambda row: [i for i in (row.split())])\n",
    "    list_of_X = list_of_X.apply(lambda row: tokenizer.tokenize(row))\n",
    "    #list_of_X = list_of_X.apply(lambda row: [LEM.lemmatize(i) for i in row])\n",
    "    #list_of_X = list_of_X.apply(lambda row: [p_stemmer.stem(i) for i in row])\n",
    "    list_of_X = list_of_X.apply(lambda row: [i for i in row if i not in stop])\n",
    "    #list_of_X = list_of_X.apply(lambda row: str(row))\n",
    "    return list_of_X"
   ]
  },
  {
   "cell_type": "code",
   "execution_count": 6,
   "metadata": {},
   "outputs": [
    {
     "ename": "NameError",
     "evalue": "name 'df_tot' is not defined",
     "output_type": "error",
     "traceback": [
      "\u001b[1;31m---------------------------------------------------------------------------\u001b[0m",
      "\u001b[1;31mNameError\u001b[0m                                 Traceback (most recent call last)",
      "\u001b[1;32m<ipython-input-6-4754ee42dbac>\u001b[0m in \u001b[0;36m<module>\u001b[1;34m\u001b[0m\n\u001b[1;32m----> 1\u001b[1;33m \u001b[0mx\u001b[0m \u001b[1;33m,\u001b[0m \u001b[0my\u001b[0m \u001b[1;33m,\u001b[0m\u001b[0munique_label\u001b[0m \u001b[1;33m=\u001b[0m \u001b[0mread_data\u001b[0m\u001b[1;33m(\u001b[0m\u001b[1;33m)\u001b[0m\u001b[1;33m\u001b[0m\u001b[1;33m\u001b[0m\u001b[0m\n\u001b[0m\u001b[0;32m      2\u001b[0m \u001b[1;33m\u001b[0m\u001b[0m\n\u001b[0;32m      3\u001b[0m \u001b[0mind_to_vec\u001b[0m\u001b[1;33m,\u001b[0m\u001b[0mword_to_ind\u001b[0m\u001b[1;33m,\u001b[0m\u001b[0mind_to_word\u001b[0m \u001b[1;33m=\u001b[0m \u001b[0membedding\u001b[0m\u001b[1;33m(\u001b[0m\u001b[0mx\u001b[0m\u001b[1;33m)\u001b[0m\u001b[1;33m\u001b[0m\u001b[1;33m\u001b[0m\u001b[0m\n\u001b[0;32m      4\u001b[0m \u001b[0mx\u001b[0m \u001b[1;33m=\u001b[0m \u001b[0mseq_data\u001b[0m\u001b[1;33m(\u001b[0m\u001b[0mx\u001b[0m \u001b[1;33m,\u001b[0m \u001b[0mword_to_ind\u001b[0m\u001b[1;33m)\u001b[0m\u001b[1;33m\u001b[0m\u001b[1;33m\u001b[0m\u001b[0m\n\u001b[0;32m      5\u001b[0m \u001b[0mx\u001b[0m \u001b[1;33m=\u001b[0m \u001b[0mkeras\u001b[0m\u001b[1;33m.\u001b[0m\u001b[0mpreprocessing\u001b[0m\u001b[1;33m.\u001b[0m\u001b[0msequence\u001b[0m\u001b[1;33m.\u001b[0m\u001b[0mpad_sequences\u001b[0m\u001b[1;33m(\u001b[0m\u001b[0mx\u001b[0m\u001b[1;33m,\u001b[0m\u001b[0mMAX_SEQUENCE_LENGTH\u001b[0m\u001b[1;33m,\u001b[0m\u001b[0mpadding\u001b[0m\u001b[1;33m=\u001b[0m\u001b[1;34m'pre'\u001b[0m\u001b[1;33m,\u001b[0m\u001b[0mtruncating\u001b[0m\u001b[1;33m=\u001b[0m\u001b[1;34m'post'\u001b[0m\u001b[1;33m,\u001b[0m\u001b[0mvalue\u001b[0m\u001b[1;33m=\u001b[0m\u001b[1;36m0\u001b[0m\u001b[1;33m)\u001b[0m\u001b[1;33m\u001b[0m\u001b[1;33m\u001b[0m\u001b[0m\n",
      "\u001b[1;32m<ipython-input-2-23c3737a67e1>\u001b[0m in \u001b[0;36mread_data\u001b[1;34m()\u001b[0m\n\u001b[0;32m      1\u001b[0m \u001b[1;32mdef\u001b[0m \u001b[0mread_data\u001b[0m\u001b[1;33m(\u001b[0m\u001b[1;33m)\u001b[0m\u001b[1;33m:\u001b[0m\u001b[1;33m\u001b[0m\u001b[1;33m\u001b[0m\u001b[0m\n\u001b[0;32m      2\u001b[0m \u001b[1;31m#     data = pd.read_csv('train_preprocessed.csv')\u001b[0m\u001b[1;33m\u001b[0m\u001b[1;33m\u001b[0m\u001b[1;33m\u001b[0m\u001b[0m\n\u001b[1;32m----> 3\u001b[1;33m     \u001b[0mdata\u001b[0m\u001b[1;33m=\u001b[0m\u001b[0mdf_tot\u001b[0m\u001b[1;33m\u001b[0m\u001b[1;33m\u001b[0m\u001b[0m\n\u001b[0m\u001b[0;32m      4\u001b[0m     \u001b[0mx\u001b[0m \u001b[1;33m=\u001b[0m \u001b[0mdata\u001b[0m\u001b[1;33m[\u001b[0m\u001b[1;34m'tweet'\u001b[0m\u001b[1;33m]\u001b[0m\u001b[1;33m\u001b[0m\u001b[1;33m\u001b[0m\u001b[0m\n\u001b[0;32m      5\u001b[0m     \u001b[0my\u001b[0m \u001b[1;33m=\u001b[0m \u001b[0mdata\u001b[0m\u001b[1;33m[\u001b[0m\u001b[1;34m'class'\u001b[0m\u001b[1;33m]\u001b[0m\u001b[1;33m\u001b[0m\u001b[1;33m\u001b[0m\u001b[0m\n",
      "\u001b[1;31mNameError\u001b[0m: name 'df_tot' is not defined"
     ]
    }
   ],
   "source": [
    "x , y ,unique_label = read_data()\n",
    "\n",
    "ind_to_vec,word_to_ind,ind_to_word = embedding(x)\n",
    "x = seq_data(x , word_to_ind)\n",
    "x = keras.preprocessing.sequence.pad_sequences(x,MAX_SEQUENCE_LENGTH,padding='pre',truncating='post',value=0)\n",
    "train_x, test_x, train_y, test_y = train_test_split(x, y, test_size=0.2, random_state=0)\n"
   ]
  },
  {
   "cell_type": "code",
   "execution_count": 144,
   "metadata": {},
   "outputs": [
    {
     "data": {
      "text/plain": [
       "34388"
      ]
     },
     "execution_count": 144,
     "metadata": {},
     "output_type": "execute_result"
    }
   ],
   "source": [
    "# np.counts(train_y,[0.,10])\n",
    "np.count_nonzero(train_y == [0.,1.])"
   ]
  },
  {
   "cell_type": "code",
   "execution_count": 148,
   "metadata": {},
   "outputs": [
    {
     "name": "stdout",
     "output_type": "stream",
     "text": [
      "Model: \"sequential_20\"\n",
      "_________________________________________________________________\n",
      "Layer (type)                 Output Shape              Param #   \n",
      "=================================================================\n",
      "embedding_20 (Embedding)     (None, 20, 50)            20772900  \n",
      "_________________________________________________________________\n",
      "bidirectional_9 (Bidirection (None, 256)               183296    \n",
      "_________________________________________________________________\n",
      "dense_32 (Dense)             (None, 32)                8224      \n",
      "_________________________________________________________________\n",
      "dense_33 (Dense)             (None, 2)                 66        \n",
      "=================================================================\n",
      "Total params: 20,964,486\n",
      "Trainable params: 20,964,486\n",
      "Non-trainable params: 0\n",
      "_________________________________________________________________\n"
     ]
    },
    {
     "name": "stderr",
     "output_type": "stream",
     "text": [
      "C:\\Users\\hedi\\AppData\\Roaming\\Python\\Python37\\site-packages\\tensorflow_core\\python\\framework\\indexed_slices.py:433: UserWarning:\n",
      "\n",
      "Converting sparse IndexedSlices to a dense Tensor of unknown shape. This may consume a large amount of memory.\n",
      "\n"
     ]
    },
    {
     "name": "stdout",
     "output_type": "stream",
     "text": [
      "Train on 50005 samples, validate on 12502 samples\n",
      "Epoch 1/5\n",
      "50005/50005 [==============================] - 149s 3ms/step - loss: 0.3148 - accuracy: 0.8751 - val_loss: 0.2629 - val_accuracy: 0.8985\n",
      "Epoch 2/5\n",
      "50005/50005 [==============================] - 144s 3ms/step - loss: 0.2228 - accuracy: 0.9130 - val_loss: 0.2407 - val_accuracy: 0.9075\n",
      "Epoch 3/5\n",
      "50005/50005 [==============================] - 147s 3ms/step - loss: 0.1775 - accuracy: 0.9330 - val_loss: 0.2275 - val_accuracy: 0.9109\n",
      "Epoch 4/5\n",
      "50005/50005 [==============================] - 147s 3ms/step - loss: 0.1373 - accuracy: 0.9493 - val_loss: 0.2510 - val_accuracy: 0.9095\n",
      "Epoch 5/5\n",
      "50005/50005 [==============================] - 146s 3ms/step - loss: 0.1070 - accuracy: 0.9621 - val_loss: 0.2668 - val_accuracy: 0.9054\n",
      "dict_keys(['val_loss', 'val_accuracy', 'loss', 'accuracy'])\n"
     ]
    },
    {
     "data": {
      "text/plain": [
       "[<matplotlib.lines.Line2D at 0x1afac2a2388>]"
      ]
     },
     "execution_count": 148,
     "metadata": {},
     "output_type": "execute_result"
    },
    {
     "data": {
      "text/plain": [
       "[<matplotlib.lines.Line2D at 0x1afa4381f48>]"
      ]
     },
     "execution_count": 148,
     "metadata": {},
     "output_type": "execute_result"
    },
    {
     "data": {
      "text/plain": [
       "Text(0.5, 1.0, 'model accuracy')"
      ]
     },
     "execution_count": 148,
     "metadata": {},
     "output_type": "execute_result"
    },
    {
     "data": {
      "text/plain": [
       "Text(0, 0.5, 'accuracy')"
      ]
     },
     "execution_count": 148,
     "metadata": {},
     "output_type": "execute_result"
    },
    {
     "data": {
      "text/plain": [
       "Text(0.5, 0, 'epoch')"
      ]
     },
     "execution_count": 148,
     "metadata": {},
     "output_type": "execute_result"
    },
    {
     "data": {
      "text/plain": [
       "<matplotlib.legend.Legend at 0x1afac2df5c8>"
      ]
     },
     "execution_count": 148,
     "metadata": {},
     "output_type": "execute_result"
    },
    {
     "data": {
      "image/png": "[encoded data removed]",
      "text/plain": [
       "<Figure size 432x288 with 1 Axes>"
      ]
     },
     "metadata": {
      "needs_background": "light"
     },
     "output_type": "display_data"
    },
    {
     "data": {
      "text/plain": [
       "[<matplotlib.lines.Line2D at 0x1afac2d6308>]"
      ]
     },
     "execution_count": 148,
     "metadata": {},
     "output_type": "execute_result"
    },
    {
     "data": {
      "text/plain": [
       "[<matplotlib.lines.Line2D at 0x1b1016d6588>]"
      ]
     },
     "execution_count": 148,
     "metadata": {},
     "output_type": "execute_result"
    },
    {
     "data": {
      "text/plain": [
       "Text(0.5, 1.0, 'model loss')"
      ]
     },
     "execution_count": 148,
     "metadata": {},
     "output_type": "execute_result"
    },
    {
     "data": {
      "text/plain": [
       "Text(0, 0.5, 'loss')"
      ]
     },
     "execution_count": 148,
     "metadata": {},
     "output_type": "execute_result"
    },
    {
     "data": {
      "text/plain": [
       "Text(0.5, 0, 'epoch')"
      ]
     },
     "execution_count": 148,
     "metadata": {},
     "output_type": "execute_result"
    },
    {
     "data": {
      "text/plain": [
       "<matplotlib.legend.Legend at 0x1afac2cf088>"
      ]
     },
     "execution_count": 148,
     "metadata": {},
     "output_type": "execute_result"
    },
    {
     "data": {
      "image/png": "[encoded data removed]",
      "text/plain": [
       "<Figure size 432x288 with 1 Axes>"
      ]
     },
     "metadata": {
      "needs_background": "light"
     },
     "output_type": "display_data"
    }
   ],
   "source": [
    "# def KERAS():\n",
    "from keras.layers import Dense, Embedding, LSTM, GRU, Bidirectional, Input, concatenate\n",
    "model = Sequential()\n",
    "model.add(Embedding(input_dim=len(ind_to_vec), output_dim=EMBEDDING_DIM,\n",
    "                  weights=[ind_to_vec], input_length=MAX_SEQUENCE_LENGTH))\n",
    "\n",
    "model.add(Bidirectional(LSTM(128,unroll=True)))\n",
    "# (GRU(128,unroll=True))\n",
    "model.add(Dense(32,activation='tanh'))\n",
    "model.add(Dense(2,activation = 'softmax'))\n",
    "\n",
    "model.compile(keras.optimizers.adam(),\n",
    "              loss='categorical_crossentropy',\n",
    "              metrics=['accuracy'])\n",
    "model.summary()\n",
    "history = model.fit(train_x, train_y,epochs=5,batch_size=164,verbose=1,validation_data=(test_x,test_y))\n",
    "print(history.history.keys())\n",
    "# summarize history for accuracy\n",
    "plt.plot(history.history['accuracy'])\n",
    "plt.plot(history.history['val_accuracy'])\n",
    "plt.title('model accuracy')\n",
    "plt.ylabel('accuracy')\n",
    "plt.xlabel('epoch')\n",
    "plt.legend(['train', 'test'], loc='upper left')\n",
    "plt.show()\n",
    "# summarize history for loss\n",
    "plt.plot(history.history['loss'])\n",
    "plt.plot(history.history['val_loss'])\n",
    "plt.title('model loss')\n",
    "plt.ylabel('loss')\n",
    "plt.xlabel('epoch')\n",
    "plt.legend(['train', 'test'], loc='upper left')\n",
    "plt.show()"
   ]
  },
  {
   "cell_type": "code",
   "execution_count": 158,
   "metadata": {},
   "outputs": [
    {
     "name": "stdout",
     "output_type": "stream",
     "text": [
      "10517/10517 [==============================] - 2s 171us/step\n",
      "Test set\n",
      "  Loss: 0.000\n",
      "  Accuracy: 1.000\n"
     ]
    }
   ],
   "source": [
    "accr = model.evaluate(test_x,test_y)\n",
    "print('Test set\\n  Loss: {:0.3f}\\n  Accuracy: {:0.3f}'.format(accr[0],accr[1]))"
   ]
  },
  {
   "cell_type": "code",
   "execution_count": 175,
   "metadata": {},
   "outputs": [],
   "source": [
    "model.save(\"hatespeechmodel9_26.h5\")"
   ]
  },
  {
   "cell_type": "code",
   "execution_count": 159,
   "metadata": {},
   "outputs": [],
   "source": [
    "z=model.predict_classes(test_x)"
   ]
  },
  {
   "cell_type": "code",
   "execution_count": 160,
   "metadata": {},
   "outputs": [
    {
     "data": {
      "text/plain": [
       "array([1, 1, 1, ..., 1, 1, 1], dtype=int64)"
      ]
     },
     "execution_count": 160,
     "metadata": {},
     "output_type": "execute_result"
    }
   ],
   "source": [
    "z"
   ]
  },
  {
   "cell_type": "code",
   "execution_count": 161,
   "metadata": {},
   "outputs": [
    {
     "data": {
      "text/plain": [
       "10517"
      ]
     },
     "execution_count": 161,
     "metadata": {},
     "output_type": "execute_result"
    }
   ],
   "source": [
    "np.count_nonzero(z == 1)"
   ]
  },
  {
   "cell_type": "code",
   "execution_count": 164,
   "metadata": {},
   "outputs": [
    {
     "data": {
      "text/plain": [
       "10517"
      ]
     },
     "execution_count": 164,
     "metadata": {},
     "output_type": "execute_result"
    }
   ],
   "source": [
    "len(z)"
   ]
  },
  {
   "cell_type": "code",
   "execution_count": 92,
   "metadata": {},
   "outputs": [
    {
     "data": {
      "text/plain": [
       "1    19190\n",
       "0     1430\n",
       "Name: class, dtype: int64"
      ]
     },
     "execution_count": 92,
     "metadata": {},
     "output_type": "execute_result"
    }
   ],
   "source": [
    "df[\"class\"].value_counts()"
   ]
  },
  {
   "cell_type": "code",
   "execution_count": 91,
   "metadata": {},
   "outputs": [],
   "source": [
    "df=df[df[\"class\"]!=2]"
   ]
  },
  {
   "cell_type": "code",
   "execution_count": 121,
   "metadata": {},
   "outputs": [
    {
     "data": {
      "text/plain": [
       "0    39920\n",
       "1    22587\n",
       "Name: class, dtype: int64"
      ]
     },
     "execution_count": 121,
     "metadata": {},
     "output_type": "execute_result"
    }
   ],
   "source": [
    "df_tot[\"class\"].value_counts()"
   ]
  },
  {
   "cell_type": "code",
   "execution_count": 98,
   "metadata": {},
   "outputs": [
    {
     "data": {
      "text/html": [
       "<div>\n",
       "<style scoped>\n",
       "    .dataframe tbody tr th:only-of-type {\n",
       "        vertical-align: middle;\n",
       "    }\n",
       "\n",
       "    .dataframe tbody tr th {\n",
       "        vertical-align: top;\n",
       "    }\n",
       "\n",
       "    .dataframe thead th {\n",
       "        text-align: right;\n",
       "    }\n",
       "</style>\n",
       "<table border=\"1\" class=\"dataframe\">\n",
       "  <thead>\n",
       "    <tr style=\"text-align: right;\">\n",
       "      <th></th>\n",
       "      <th>class</th>\n",
       "      <th>tweet</th>\n",
       "    </tr>\n",
       "  </thead>\n",
       "  <tbody>\n",
       "    <tr>\n",
       "      <td>0</td>\n",
       "      <td>0</td>\n",
       "      <td>when a father is dysfunctional and is so sel...</td>\n",
       "    </tr>\n",
       "    <tr>\n",
       "      <td>1</td>\n",
       "      <td>0</td>\n",
       "      <td>thanks for  credit i cant use cause they don...</td>\n",
       "    </tr>\n",
       "    <tr>\n",
       "      <td>2</td>\n",
       "      <td>0</td>\n",
       "      <td>bihday your majesty</td>\n",
       "    </tr>\n",
       "    <tr>\n",
       "      <td>3</td>\n",
       "      <td>0</td>\n",
       "      <td>i love u take with u all the time in urð± ð...</td>\n",
       "    </tr>\n",
       "    <tr>\n",
       "      <td>4</td>\n",
       "      <td>0</td>\n",
       "      <td>factsguide society now</td>\n",
       "    </tr>\n",
       "    <tr>\n",
       "      <td>...</td>\n",
       "      <td>...</td>\n",
       "      <td>...</td>\n",
       "    </tr>\n",
       "    <tr>\n",
       "      <td>31957</td>\n",
       "      <td>0</td>\n",
       "      <td>ate  isz that youuuððððððð...</td>\n",
       "    </tr>\n",
       "    <tr>\n",
       "      <td>31958</td>\n",
       "      <td>0</td>\n",
       "      <td>to see nina turner on the airwaves trying to ...</td>\n",
       "    </tr>\n",
       "    <tr>\n",
       "      <td>31959</td>\n",
       "      <td>0</td>\n",
       "      <td>listening to sad songs on a monday morning otw...</td>\n",
       "    </tr>\n",
       "    <tr>\n",
       "      <td>31960</td>\n",
       "      <td>1</td>\n",
       "      <td>vandalised in in   condemns act</td>\n",
       "    </tr>\n",
       "    <tr>\n",
       "      <td>31961</td>\n",
       "      <td>0</td>\n",
       "      <td>thank you  for you follow</td>\n",
       "    </tr>\n",
       "  </tbody>\n",
       "</table>\n",
       "<p>31962 rows × 2 columns</p>\n",
       "</div>"
      ],
      "text/plain": [
       "       class                                              tweet\n",
       "0          0    when a father is dysfunctional and is so sel...\n",
       "1          0    thanks for  credit i cant use cause they don...\n",
       "2          0                                bihday your majesty\n",
       "3          0   i love u take with u all the time in urð± ð...\n",
       "4          0                            factsguide society now \n",
       "...      ...                                                ...\n",
       "31957      0  ate  isz that youuuððððððð...\n",
       "31958      0   to see nina turner on the airwaves trying to ...\n",
       "31959      0  listening to sad songs on a monday morning otw...\n",
       "31960      1                   vandalised in in   condemns act \n",
       "31961      0                         thank you  for you follow \n",
       "\n",
       "[31962 rows x 2 columns]"
      ]
     },
     "execution_count": 98,
     "metadata": {},
     "output_type": "execute_result"
    }
   ],
   "source": [
    "df2\n",
    "\n"
   ]
  },
  {
   "cell_type": "code",
   "execution_count": 109,
   "metadata": {},
   "outputs": [],
   "source": [
    "df2.tweet=df2.tweet.apply(lambda x:preprocess(x))\n",
    "\n",
    "df2.tweet=df2.tweet.apply(lambda x:Punctuation(x))\n",
    "# df.tweet.apply(lambda x:preprocess(x))"
   ]
  },
  {
   "cell_type": "code",
   "execution_count": 110,
   "metadata": {},
   "outputs": [
    {
     "data": {
      "text/html": [
       "<div>\n",
       "<style scoped>\n",
       "    .dataframe tbody tr th:only-of-type {\n",
       "        vertical-align: middle;\n",
       "    }\n",
       "\n",
       "    .dataframe tbody tr th {\n",
       "        vertical-align: top;\n",
       "    }\n",
       "\n",
       "    .dataframe thead th {\n",
       "        text-align: right;\n",
       "    }\n",
       "</style>\n",
       "<table border=\"1\" class=\"dataframe\">\n",
       "  <thead>\n",
       "    <tr style=\"text-align: right;\">\n",
       "      <th></th>\n",
       "      <th>class</th>\n",
       "      <th>tweet</th>\n",
       "    </tr>\n",
       "  </thead>\n",
       "  <tbody>\n",
       "    <tr>\n",
       "      <td>0</td>\n",
       "      <td>0</td>\n",
       "      <td>when a father is dysfunctional and is so self...</td>\n",
       "    </tr>\n",
       "    <tr>\n",
       "      <td>1</td>\n",
       "      <td>0</td>\n",
       "      <td>thanks for credit i cant use cause they dont ...</td>\n",
       "    </tr>\n",
       "    <tr>\n",
       "      <td>2</td>\n",
       "      <td>0</td>\n",
       "      <td>bihday your majesty</td>\n",
       "    </tr>\n",
       "    <tr>\n",
       "      <td>3</td>\n",
       "      <td>0</td>\n",
       "      <td>i love u take with u all the time in ur ...</td>\n",
       "    </tr>\n",
       "    <tr>\n",
       "      <td>4</td>\n",
       "      <td>0</td>\n",
       "      <td>factsguide society now</td>\n",
       "    </tr>\n",
       "    <tr>\n",
       "      <td>...</td>\n",
       "      <td>...</td>\n",
       "      <td>...</td>\n",
       "    </tr>\n",
       "    <tr>\n",
       "      <td>31957</td>\n",
       "      <td>0</td>\n",
       "      <td>ate isz that youuu</td>\n",
       "    </tr>\n",
       "    <tr>\n",
       "      <td>31958</td>\n",
       "      <td>0</td>\n",
       "      <td>to see nina turner on the airwaves trying to ...</td>\n",
       "    </tr>\n",
       "    <tr>\n",
       "      <td>31959</td>\n",
       "      <td>0</td>\n",
       "      <td>listening to sad songs on a monday morning otw...</td>\n",
       "    </tr>\n",
       "    <tr>\n",
       "      <td>31960</td>\n",
       "      <td>1</td>\n",
       "      <td>vandalised in in condemns act</td>\n",
       "    </tr>\n",
       "    <tr>\n",
       "      <td>31961</td>\n",
       "      <td>0</td>\n",
       "      <td>thank you for you follow</td>\n",
       "    </tr>\n",
       "  </tbody>\n",
       "</table>\n",
       "<p>31962 rows × 2 columns</p>\n",
       "</div>"
      ],
      "text/plain": [
       "       class                                              tweet\n",
       "0          0   when a father is dysfunctional and is so self...\n",
       "1          0   thanks for credit i cant use cause they dont ...\n",
       "2          0                                bihday your majesty\n",
       "3          0   i love u take with u all the time in ur ...\n",
       "4          0                            factsguide society now \n",
       "...      ...                                                ...\n",
       "31957      0                               ate isz that youuu \n",
       "31958      0   to see nina turner on the airwaves trying to ...\n",
       "31959      0  listening to sad songs on a monday morning otw...\n",
       "31960      1                     vandalised in in condemns act \n",
       "31961      0                          thank you for you follow \n",
       "\n",
       "[31962 rows x 2 columns]"
      ]
     },
     "execution_count": 110,
     "metadata": {},
     "output_type": "execute_result"
    }
   ],
   "source": []
  },
  {
   "cell_type": "code",
   "execution_count": null,
   "metadata": {},
   "outputs": [],
   "source": []
  },
  {
   "cell_type": "code",
   "execution_count": null,
   "metadata": {},
   "outputs": [],
   "source": []
  }
 ],
 "metadata": {
  "kernelspec": {
   "display_name": "Python 3",
   "language": "python",
   "name": "python3"
  },
  "language_info": {
   "codemirror_mode": {
    "name": "ipython",
    "version": 3
   },
   "file_extension": ".py",
   "mimetype": "text/x-python",
   "name": "python",
   "nbconvert_exporter": "python",
   "pygments_lexer": "ipython3",
   "version": "3.7.4"
  }
 },
 "nbformat": 4,
 "nbformat_minor": 4
}
